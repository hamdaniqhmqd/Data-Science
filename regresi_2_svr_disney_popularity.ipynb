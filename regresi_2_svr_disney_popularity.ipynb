{
  "cells": [
    {
      "cell_type": "markdown",
      "id": "53e3ffe2",
      "metadata": {},
      "source": [
        "# Nama = `Ahmad Hamdani`\n",
        "# Nim = `233307092`\n",
        "# Kelas = `4D`"
      ]
    },
    {
      "cell_type": "markdown",
      "id": "DvoZ9U4pSzXL",
      "metadata": {
        "id": "DvoZ9U4pSzXL"
      },
      "source": [
        "### 1. Import Library\n",
        "Import library yang dibutuhkan untuk preprocessing, modeling, evaluasi, dan visualisasi."
      ]
    },
    {
      "cell_type": "markdown",
      "id": "ETUIUaHTvirn",
      "metadata": {
        "id": "ETUIUaHTvirn"
      },
      "source": [
        "\n",
        "1. train_test_split:\n",
        "  - Memisahkan data menjadi set latih dan uji\n",
        "\n",
        "2. StandardScaler & OneHotEncoder:\n",
        "  - Normalisasi fitur numerik\n",
        "  - Encoding fitur kategorikal\n",
        "\n",
        "3. ColumnTransformer & Pipeline:\n",
        "  - Menggabungkan tahapan preprocessing dan model\n",
        "\n",
        "4. SVR (Support Vector Regression):\n",
        "  - Model untuk prediksi nilai kontinu\n",
        "\n",
        "5. mean_absolute_error & r2_score:\n",
        "  - Metrik evaluasi model\n",
        "\n",
        "6. matplotlib.pyplot & pandas:\n",
        "  - Visualisasi dan manipulasi data\n"
      ]
    },
    {
      "cell_type": "code",
      "execution_count": 1,
      "id": "6kT-ZN_XSzXM",
      "metadata": {
        "id": "6kT-ZN_XSzXM"
      },
      "outputs": [],
      "source": [
        "from sklearn.model_selection import train_test_split\n",
        "from sklearn.preprocessing import StandardScaler, OneHotEncoder\n",
        "from sklearn.compose import ColumnTransformer\n",
        "from sklearn.pipeline import Pipeline\n",
        "from sklearn.svm import SVR\n",
        "from sklearn.metrics import mean_absolute_error, r2_score\n",
        "import matplotlib.pyplot as plt\n",
        "import pandas as pd"
      ]
    },
    {
      "cell_type": "markdown",
      "id": "RdUrd0OxSzXM",
      "metadata": {
        "id": "RdUrd0OxSzXM"
      },
      "source": [
        "### 2. Membaca Data CSV\n",
        "Dataset yang digunakan adalah data popularitas karakter Disney Princess yang tersimpan dalam file CSV \"disney_princess_popularity_dataset_300_rows.csv\". Dan akan dibaca menggunakan fungsi `read_csv()` dari library pandas dan disimpan ke dalam DataFrame dengan nama `df`. DataFrame ini akan menjadi dasar untuk analisis dan pemodelan yang akan dilakukan."
      ]
    },
    {
      "cell_type": "code",
      "execution_count": 2,
      "id": "_CiUKvyVSzXM",
      "metadata": {
        "id": "_CiUKvyVSzXM"
      },
      "outputs": [],
      "source": [
        "df = pd.read_csv(\"data/regresi_2_disney_princess_popularity_dataset_300_rows.csv\")"
      ]
    },
    {
      "cell_type": "markdown",
      "id": "lZEvwyiuSzXN",
      "metadata": {
        "id": "lZEvwyiuSzXN"
      },
      "source": [
        "### 3. Menentukan Fitur dan Target\n",
        "Pada bagian ini, kita memisahkan data menjadi variabel fitur (X) dan target (y) untuk pelatihan model. Fitur-fitur yang digunakan adalah:\n",
        "\n",
        "- `FirstMovieYear`: Tahun rilis film pertama karakter\n",
        "- `MovieRuntimeMinutes`: Durasi film dalam menit  \n",
        "- `BoxOfficeMillions`: Pendapatan box office dalam juta dolar\n",
        "- `HairColor`: Warna rambut karakter\n",
        "- `HasSoloSong`: Ada tidaknya lagu solo yang dinyanyikan karakter\n",
        "\n",
        "Sedangkan target prediksi adalah `PopularityScore` yang menunjukkan tingkat popularitas karakter Disney Princess dalam skala 0-100. Pemisahan ini diperlukan agar model dapat mempelajari hubungan antara fitur-fitur tersebut dengan skor popularitas."
      ]
    },
    {
      "cell_type": "code",
      "execution_count": 3,
      "id": "USYdCrZzSzXN",
      "metadata": {
        "id": "USYdCrZzSzXN"
      },
      "outputs": [],
      "source": [
        "features = ['FirstMovieYear', 'MovieRuntimeMinutes', 'BoxOfficeMillions', 'HairColor', 'HasSoloSong']\n",
        "target = 'PopularityScore'\n",
        "X = df[features]\n",
        "y = df[target]"
      ]
    },
    {
      "cell_type": "markdown",
      "id": "mXwSglaSSzXN",
      "metadata": {
        "id": "mXwSglaSSzXN"
      },
      "source": [
        "### 4. Menentukan Jenis Kolom\n",
        "Variabel numeric_features dan categorical_features digunakan untuk memisahkan kolom-kolom dalam dataset berdasarkan jenis datanya.\n",
        "\n",
        "numeric_features: Berisi daftar nama kolom yang memiliki nilai numerik, yaitu:\n",
        "\n",
        "Fitur Numerik:\n",
        "- FirstMovieYear: Tahun rilis film pertama (angka)\n",
        "- MovieRuntimeMinutes: Durasi film dalam menit (angka)  \n",
        "- BoxOfficeMillions: Pendapatan box office dalam juta dollar (angka)\n",
        "\n",
        "categorical_features: Berisi daftar nama kolom yang memiliki nilai kategorikal, yaitu:\n",
        "- HairColor: Warna rambut karakter (teks)\n",
        "- HasSoloSong: Ada/tidaknya lagu solo (Ya/Tidak)\n",
        "\n",
        "Pemilahan ini penting untuk proses preprocessing, karena kolom numerik akan dinormalisasi menggunakan StandardScaler, sedangkan kolom kategorikal akan di-encode menggunakan OneHotEncoder. Hal ini memastikan setiap jenis data diproses dengan metode yang sesuai sebelum digunakan dalam model."
      ]
    },
    {
      "cell_type": "code",
      "execution_count": 4,
      "id": "tZShuKntSzXN",
      "metadata": {
        "id": "tZShuKntSzXN"
      },
      "outputs": [],
      "source": [
        "numeric_features = ['FirstMovieYear', 'MovieRuntimeMinutes', 'BoxOfficeMillions']\n",
        "categorical_features = ['HairColor', 'HasSoloSong']"
      ]
    },
    {
      "cell_type": "markdown",
      "id": "86FwkOWLSzXN",
      "metadata": {
        "id": "86FwkOWLSzXN"
      },
      "source": [
        "### 5. Membuat Pipeline Preprocessing\n",
        "Variabel preprocessor adalah sebuah objek ColumnTransformer yang digunakan untuk menerapkan transformasi berbeda pada kolom numerik dan kategorikal dalam dataset. Transformasi ini bertujuan untuk mempersiapkan data sebelum dimasukkan ke dalam model.\n",
        "\n",
        "Menggunakan `StandardScaler` untuk kolom numerik dan `OneHotEncoder` untuk kolom kategorikal."
      ]
    },
    {
      "cell_type": "code",
      "execution_count": 5,
      "id": "PRi5GdoiSzXN",
      "metadata": {
        "id": "PRi5GdoiSzXN"
      },
      "outputs": [],
      "source": [
        "preprocessor = ColumnTransformer(transformers=[\n",
        "    ('num', StandardScaler(), numeric_features),\n",
        "    ('cat', OneHotEncoder(drop='first'), categorical_features)\n",
        "])"
      ]
    },
    {
      "cell_type": "markdown",
      "id": "52vNf7pTSzXN",
      "metadata": {
        "id": "52vNf7pTSzXN"
      },
      "source": [
        "### 6. Membuat Pipeline SVR\n",
        "Variabel svr_pipeline adalah pipeline yang menggabungkan preprocessing data dan pelatihan model SVR (Support Vector Regression). Langkah pertama, preprocessor, menggunakan ColumnTransformer untuk menormalisasi fitur numerik dengan StandardScaler dan meng-encode fitur kategorikal dengan OneHotEncoder. Langkah kedua, regressor, menggunakan model SVR dengan kernel RBF untuk menangkap pola non-linear. Pipeline ini memastikan alur preprocessing dan pelatihan dilakukan secara konsisten."
      ]
    },
    {
      "cell_type": "code",
      "execution_count": 6,
      "id": "YWstJJqKSzXN",
      "metadata": {
        "id": "YWstJJqKSzXN"
      },
      "outputs": [],
      "source": [
        "svr_pipeline = Pipeline(steps=[\n",
        "    ('preprocessor', preprocessor),\n",
        "    ('regressor', SVR(kernel='rbf'))\n",
        "])"
      ]
    },
    {
      "cell_type": "markdown",
      "id": "dBowVbPGSzXN",
      "metadata": {
        "id": "dBowVbPGSzXN"
      },
      "source": [
        "### 7. Membagi Dataset\n",
        "Baris kode ini menggunakan fungsi train_test_split dari sklearn untuk membagi dataset menjadi data latih dan data uji. Variabel X berisi fitur, sedangkan y berisi target. Parameter test_size=0.2 menunjukkan bahwa 20% data digunakan untuk pengujian (X_test, y_test), dan sisanya 80% untuk pelatihan (X_train, y_train). Parameter random_state=42 memastikan pembagian data dilakukan secara konsisten sehingga hasilnya dapat direproduksi. Pembagian ini penting untuk mengevaluasi performa model secara adil."
      ]
    },
    {
      "cell_type": "code",
      "execution_count": 7,
      "id": "b1T5F9K4SzXN",
      "metadata": {
        "id": "b1T5F9K4SzXN"
      },
      "outputs": [],
      "source": [
        "X_train, X_test, y_train, y_test = train_test_split(X, y, test_size=0.2, random_state=42)"
      ]
    },
    {
      "cell_type": "markdown",
      "id": "BFSqY7UmSzXN",
      "metadata": {
        "id": "BFSqY7UmSzXN"
      },
      "source": [
        "### 8. Melatih Model\n",
        "Latih model SVR menggunakan data pelatihan.<br>\n",
        "Melatih pipeline: data fitur X_train akan diproses terlebih dahulu (scaling + encoding), lalu dipelajari oleh model SVR."
      ]
    },
    {
      "cell_type": "code",
      "execution_count": 8,
      "id": "-6R1C4xQSzXN",
      "metadata": {
        "colab": {
          "base_uri": "https://localhost:8080/",
          "height": 247
        },
        "id": "-6R1C4xQSzXN",
        "outputId": "5b4d9e70-25e8-4446-a907-e5758d360650"
      },
      "outputs": [
        {
          "data": {
            "text/html": [
              "<style>#sk-container-id-1 {\n",
              "  /* Definition of color scheme common for light and dark mode */\n",
              "  --sklearn-color-text: #000;\n",
              "  --sklearn-color-text-muted: #666;\n",
              "  --sklearn-color-line: gray;\n",
              "  /* Definition of color scheme for unfitted estimators */\n",
              "  --sklearn-color-unfitted-level-0: #fff5e6;\n",
              "  --sklearn-color-unfitted-level-1: #f6e4d2;\n",
              "  --sklearn-color-unfitted-level-2: #ffe0b3;\n",
              "  --sklearn-color-unfitted-level-3: chocolate;\n",
              "  /* Definition of color scheme for fitted estimators */\n",
              "  --sklearn-color-fitted-level-0: #f0f8ff;\n",
              "  --sklearn-color-fitted-level-1: #d4ebff;\n",
              "  --sklearn-color-fitted-level-2: #b3dbfd;\n",
              "  --sklearn-color-fitted-level-3: cornflowerblue;\n",
              "\n",
              "  /* Specific color for light theme */\n",
              "  --sklearn-color-text-on-default-background: var(--sg-text-color, var(--theme-code-foreground, var(--jp-content-font-color1, black)));\n",
              "  --sklearn-color-background: var(--sg-background-color, var(--theme-background, var(--jp-layout-color0, white)));\n",
              "  --sklearn-color-border-box: var(--sg-text-color, var(--theme-code-foreground, var(--jp-content-font-color1, black)));\n",
              "  --sklearn-color-icon: #696969;\n",
              "\n",
              "  @media (prefers-color-scheme: dark) {\n",
              "    /* Redefinition of color scheme for dark theme */\n",
              "    --sklearn-color-text-on-default-background: var(--sg-text-color, var(--theme-code-foreground, var(--jp-content-font-color1, white)));\n",
              "    --sklearn-color-background: var(--sg-background-color, var(--theme-background, var(--jp-layout-color0, #111)));\n",
              "    --sklearn-color-border-box: var(--sg-text-color, var(--theme-code-foreground, var(--jp-content-font-color1, white)));\n",
              "    --sklearn-color-icon: #878787;\n",
              "  }\n",
              "}\n",
              "\n",
              "#sk-container-id-1 {\n",
              "  color: var(--sklearn-color-text);\n",
              "}\n",
              "\n",
              "#sk-container-id-1 pre {\n",
              "  padding: 0;\n",
              "}\n",
              "\n",
              "#sk-container-id-1 input.sk-hidden--visually {\n",
              "  border: 0;\n",
              "  clip: rect(1px 1px 1px 1px);\n",
              "  clip: rect(1px, 1px, 1px, 1px);\n",
              "  height: 1px;\n",
              "  margin: -1px;\n",
              "  overflow: hidden;\n",
              "  padding: 0;\n",
              "  position: absolute;\n",
              "  width: 1px;\n",
              "}\n",
              "\n",
              "#sk-container-id-1 div.sk-dashed-wrapped {\n",
              "  border: 1px dashed var(--sklearn-color-line);\n",
              "  margin: 0 0.4em 0.5em 0.4em;\n",
              "  box-sizing: border-box;\n",
              "  padding-bottom: 0.4em;\n",
              "  background-color: var(--sklearn-color-background);\n",
              "}\n",
              "\n",
              "#sk-container-id-1 div.sk-container {\n",
              "  /* jupyter's `normalize.less` sets `[hidden] { display: none; }`\n",
              "     but bootstrap.min.css set `[hidden] { display: none !important; }`\n",
              "     so we also need the `!important` here to be able to override the\n",
              "     default hidden behavior on the sphinx rendered scikit-learn.org.\n",
              "     See: https://github.com/scikit-learn/scikit-learn/issues/21755 */\n",
              "  display: inline-block !important;\n",
              "  position: relative;\n",
              "}\n",
              "\n",
              "#sk-container-id-1 div.sk-text-repr-fallback {\n",
              "  display: none;\n",
              "}\n",
              "\n",
              "div.sk-parallel-item,\n",
              "div.sk-serial,\n",
              "div.sk-item {\n",
              "  /* draw centered vertical line to link estimators */\n",
              "  background-image: linear-gradient(var(--sklearn-color-text-on-default-background), var(--sklearn-color-text-on-default-background));\n",
              "  background-size: 2px 100%;\n",
              "  background-repeat: no-repeat;\n",
              "  background-position: center center;\n",
              "}\n",
              "\n",
              "/* Parallel-specific style estimator block */\n",
              "\n",
              "#sk-container-id-1 div.sk-parallel-item::after {\n",
              "  content: \"\";\n",
              "  width: 100%;\n",
              "  border-bottom: 2px solid var(--sklearn-color-text-on-default-background);\n",
              "  flex-grow: 1;\n",
              "}\n",
              "\n",
              "#sk-container-id-1 div.sk-parallel {\n",
              "  display: flex;\n",
              "  align-items: stretch;\n",
              "  justify-content: center;\n",
              "  background-color: var(--sklearn-color-background);\n",
              "  position: relative;\n",
              "}\n",
              "\n",
              "#sk-container-id-1 div.sk-parallel-item {\n",
              "  display: flex;\n",
              "  flex-direction: column;\n",
              "}\n",
              "\n",
              "#sk-container-id-1 div.sk-parallel-item:first-child::after {\n",
              "  align-self: flex-end;\n",
              "  width: 50%;\n",
              "}\n",
              "\n",
              "#sk-container-id-1 div.sk-parallel-item:last-child::after {\n",
              "  align-self: flex-start;\n",
              "  width: 50%;\n",
              "}\n",
              "\n",
              "#sk-container-id-1 div.sk-parallel-item:only-child::after {\n",
              "  width: 0;\n",
              "}\n",
              "\n",
              "/* Serial-specific style estimator block */\n",
              "\n",
              "#sk-container-id-1 div.sk-serial {\n",
              "  display: flex;\n",
              "  flex-direction: column;\n",
              "  align-items: center;\n",
              "  background-color: var(--sklearn-color-background);\n",
              "  padding-right: 1em;\n",
              "  padding-left: 1em;\n",
              "}\n",
              "\n",
              "\n",
              "/* Toggleable style: style used for estimator/Pipeline/ColumnTransformer box that is\n",
              "clickable and can be expanded/collapsed.\n",
              "- Pipeline and ColumnTransformer use this feature and define the default style\n",
              "- Estimators will overwrite some part of the style using the `sk-estimator` class\n",
              "*/\n",
              "\n",
              "/* Pipeline and ColumnTransformer style (default) */\n",
              "\n",
              "#sk-container-id-1 div.sk-toggleable {\n",
              "  /* Default theme specific background. It is overwritten whether we have a\n",
              "  specific estimator or a Pipeline/ColumnTransformer */\n",
              "  background-color: var(--sklearn-color-background);\n",
              "}\n",
              "\n",
              "/* Toggleable label */\n",
              "#sk-container-id-1 label.sk-toggleable__label {\n",
              "  cursor: pointer;\n",
              "  display: flex;\n",
              "  width: 100%;\n",
              "  margin-bottom: 0;\n",
              "  padding: 0.5em;\n",
              "  box-sizing: border-box;\n",
              "  text-align: center;\n",
              "  align-items: start;\n",
              "  justify-content: space-between;\n",
              "  gap: 0.5em;\n",
              "}\n",
              "\n",
              "#sk-container-id-1 label.sk-toggleable__label .caption {\n",
              "  font-size: 0.6rem;\n",
              "  font-weight: lighter;\n",
              "  color: var(--sklearn-color-text-muted);\n",
              "}\n",
              "\n",
              "#sk-container-id-1 label.sk-toggleable__label-arrow:before {\n",
              "  /* Arrow on the left of the label */\n",
              "  content: \"▸\";\n",
              "  float: left;\n",
              "  margin-right: 0.25em;\n",
              "  color: var(--sklearn-color-icon);\n",
              "}\n",
              "\n",
              "#sk-container-id-1 label.sk-toggleable__label-arrow:hover:before {\n",
              "  color: var(--sklearn-color-text);\n",
              "}\n",
              "\n",
              "/* Toggleable content - dropdown */\n",
              "\n",
              "#sk-container-id-1 div.sk-toggleable__content {\n",
              "  max-height: 0;\n",
              "  max-width: 0;\n",
              "  overflow: hidden;\n",
              "  text-align: left;\n",
              "  /* unfitted */\n",
              "  background-color: var(--sklearn-color-unfitted-level-0);\n",
              "}\n",
              "\n",
              "#sk-container-id-1 div.sk-toggleable__content.fitted {\n",
              "  /* fitted */\n",
              "  background-color: var(--sklearn-color-fitted-level-0);\n",
              "}\n",
              "\n",
              "#sk-container-id-1 div.sk-toggleable__content pre {\n",
              "  margin: 0.2em;\n",
              "  border-radius: 0.25em;\n",
              "  color: var(--sklearn-color-text);\n",
              "  /* unfitted */\n",
              "  background-color: var(--sklearn-color-unfitted-level-0);\n",
              "}\n",
              "\n",
              "#sk-container-id-1 div.sk-toggleable__content.fitted pre {\n",
              "  /* unfitted */\n",
              "  background-color: var(--sklearn-color-fitted-level-0);\n",
              "}\n",
              "\n",
              "#sk-container-id-1 input.sk-toggleable__control:checked~div.sk-toggleable__content {\n",
              "  /* Expand drop-down */\n",
              "  max-height: 200px;\n",
              "  max-width: 100%;\n",
              "  overflow: auto;\n",
              "}\n",
              "\n",
              "#sk-container-id-1 input.sk-toggleable__control:checked~label.sk-toggleable__label-arrow:before {\n",
              "  content: \"▾\";\n",
              "}\n",
              "\n",
              "/* Pipeline/ColumnTransformer-specific style */\n",
              "\n",
              "#sk-container-id-1 div.sk-label input.sk-toggleable__control:checked~label.sk-toggleable__label {\n",
              "  color: var(--sklearn-color-text);\n",
              "  background-color: var(--sklearn-color-unfitted-level-2);\n",
              "}\n",
              "\n",
              "#sk-container-id-1 div.sk-label.fitted input.sk-toggleable__control:checked~label.sk-toggleable__label {\n",
              "  background-color: var(--sklearn-color-fitted-level-2);\n",
              "}\n",
              "\n",
              "/* Estimator-specific style */\n",
              "\n",
              "/* Colorize estimator box */\n",
              "#sk-container-id-1 div.sk-estimator input.sk-toggleable__control:checked~label.sk-toggleable__label {\n",
              "  /* unfitted */\n",
              "  background-color: var(--sklearn-color-unfitted-level-2);\n",
              "}\n",
              "\n",
              "#sk-container-id-1 div.sk-estimator.fitted input.sk-toggleable__control:checked~label.sk-toggleable__label {\n",
              "  /* fitted */\n",
              "  background-color: var(--sklearn-color-fitted-level-2);\n",
              "}\n",
              "\n",
              "#sk-container-id-1 div.sk-label label.sk-toggleable__label,\n",
              "#sk-container-id-1 div.sk-label label {\n",
              "  /* The background is the default theme color */\n",
              "  color: var(--sklearn-color-text-on-default-background);\n",
              "}\n",
              "\n",
              "/* On hover, darken the color of the background */\n",
              "#sk-container-id-1 div.sk-label:hover label.sk-toggleable__label {\n",
              "  color: var(--sklearn-color-text);\n",
              "  background-color: var(--sklearn-color-unfitted-level-2);\n",
              "}\n",
              "\n",
              "/* Label box, darken color on hover, fitted */\n",
              "#sk-container-id-1 div.sk-label.fitted:hover label.sk-toggleable__label.fitted {\n",
              "  color: var(--sklearn-color-text);\n",
              "  background-color: var(--sklearn-color-fitted-level-2);\n",
              "}\n",
              "\n",
              "/* Estimator label */\n",
              "\n",
              "#sk-container-id-1 div.sk-label label {\n",
              "  font-family: monospace;\n",
              "  font-weight: bold;\n",
              "  display: inline-block;\n",
              "  line-height: 1.2em;\n",
              "}\n",
              "\n",
              "#sk-container-id-1 div.sk-label-container {\n",
              "  text-align: center;\n",
              "}\n",
              "\n",
              "/* Estimator-specific */\n",
              "#sk-container-id-1 div.sk-estimator {\n",
              "  font-family: monospace;\n",
              "  border: 1px dotted var(--sklearn-color-border-box);\n",
              "  border-radius: 0.25em;\n",
              "  box-sizing: border-box;\n",
              "  margin-bottom: 0.5em;\n",
              "  /* unfitted */\n",
              "  background-color: var(--sklearn-color-unfitted-level-0);\n",
              "}\n",
              "\n",
              "#sk-container-id-1 div.sk-estimator.fitted {\n",
              "  /* fitted */\n",
              "  background-color: var(--sklearn-color-fitted-level-0);\n",
              "}\n",
              "\n",
              "/* on hover */\n",
              "#sk-container-id-1 div.sk-estimator:hover {\n",
              "  /* unfitted */\n",
              "  background-color: var(--sklearn-color-unfitted-level-2);\n",
              "}\n",
              "\n",
              "#sk-container-id-1 div.sk-estimator.fitted:hover {\n",
              "  /* fitted */\n",
              "  background-color: var(--sklearn-color-fitted-level-2);\n",
              "}\n",
              "\n",
              "/* Specification for estimator info (e.g. \"i\" and \"?\") */\n",
              "\n",
              "/* Common style for \"i\" and \"?\" */\n",
              "\n",
              ".sk-estimator-doc-link,\n",
              "a:link.sk-estimator-doc-link,\n",
              "a:visited.sk-estimator-doc-link {\n",
              "  float: right;\n",
              "  font-size: smaller;\n",
              "  line-height: 1em;\n",
              "  font-family: monospace;\n",
              "  background-color: var(--sklearn-color-background);\n",
              "  border-radius: 1em;\n",
              "  height: 1em;\n",
              "  width: 1em;\n",
              "  text-decoration: none !important;\n",
              "  margin-left: 0.5em;\n",
              "  text-align: center;\n",
              "  /* unfitted */\n",
              "  border: var(--sklearn-color-unfitted-level-1) 1pt solid;\n",
              "  color: var(--sklearn-color-unfitted-level-1);\n",
              "}\n",
              "\n",
              ".sk-estimator-doc-link.fitted,\n",
              "a:link.sk-estimator-doc-link.fitted,\n",
              "a:visited.sk-estimator-doc-link.fitted {\n",
              "  /* fitted */\n",
              "  border: var(--sklearn-color-fitted-level-1) 1pt solid;\n",
              "  color: var(--sklearn-color-fitted-level-1);\n",
              "}\n",
              "\n",
              "/* On hover */\n",
              "div.sk-estimator:hover .sk-estimator-doc-link:hover,\n",
              ".sk-estimator-doc-link:hover,\n",
              "div.sk-label-container:hover .sk-estimator-doc-link:hover,\n",
              ".sk-estimator-doc-link:hover {\n",
              "  /* unfitted */\n",
              "  background-color: var(--sklearn-color-unfitted-level-3);\n",
              "  color: var(--sklearn-color-background);\n",
              "  text-decoration: none;\n",
              "}\n",
              "\n",
              "div.sk-estimator.fitted:hover .sk-estimator-doc-link.fitted:hover,\n",
              ".sk-estimator-doc-link.fitted:hover,\n",
              "div.sk-label-container:hover .sk-estimator-doc-link.fitted:hover,\n",
              ".sk-estimator-doc-link.fitted:hover {\n",
              "  /* fitted */\n",
              "  background-color: var(--sklearn-color-fitted-level-3);\n",
              "  color: var(--sklearn-color-background);\n",
              "  text-decoration: none;\n",
              "}\n",
              "\n",
              "/* Span, style for the box shown on hovering the info icon */\n",
              ".sk-estimator-doc-link span {\n",
              "  display: none;\n",
              "  z-index: 9999;\n",
              "  position: relative;\n",
              "  font-weight: normal;\n",
              "  right: .2ex;\n",
              "  padding: .5ex;\n",
              "  margin: .5ex;\n",
              "  width: min-content;\n",
              "  min-width: 20ex;\n",
              "  max-width: 50ex;\n",
              "  color: var(--sklearn-color-text);\n",
              "  box-shadow: 2pt 2pt 4pt #999;\n",
              "  /* unfitted */\n",
              "  background: var(--sklearn-color-unfitted-level-0);\n",
              "  border: .5pt solid var(--sklearn-color-unfitted-level-3);\n",
              "}\n",
              "\n",
              ".sk-estimator-doc-link.fitted span {\n",
              "  /* fitted */\n",
              "  background: var(--sklearn-color-fitted-level-0);\n",
              "  border: var(--sklearn-color-fitted-level-3);\n",
              "}\n",
              "\n",
              ".sk-estimator-doc-link:hover span {\n",
              "  display: block;\n",
              "}\n",
              "\n",
              "/* \"?\"-specific style due to the `<a>` HTML tag */\n",
              "\n",
              "#sk-container-id-1 a.estimator_doc_link {\n",
              "  float: right;\n",
              "  font-size: 1rem;\n",
              "  line-height: 1em;\n",
              "  font-family: monospace;\n",
              "  background-color: var(--sklearn-color-background);\n",
              "  border-radius: 1rem;\n",
              "  height: 1rem;\n",
              "  width: 1rem;\n",
              "  text-decoration: none;\n",
              "  /* unfitted */\n",
              "  color: var(--sklearn-color-unfitted-level-1);\n",
              "  border: var(--sklearn-color-unfitted-level-1) 1pt solid;\n",
              "}\n",
              "\n",
              "#sk-container-id-1 a.estimator_doc_link.fitted {\n",
              "  /* fitted */\n",
              "  border: var(--sklearn-color-fitted-level-1) 1pt solid;\n",
              "  color: var(--sklearn-color-fitted-level-1);\n",
              "}\n",
              "\n",
              "/* On hover */\n",
              "#sk-container-id-1 a.estimator_doc_link:hover {\n",
              "  /* unfitted */\n",
              "  background-color: var(--sklearn-color-unfitted-level-3);\n",
              "  color: var(--sklearn-color-background);\n",
              "  text-decoration: none;\n",
              "}\n",
              "\n",
              "#sk-container-id-1 a.estimator_doc_link.fitted:hover {\n",
              "  /* fitted */\n",
              "  background-color: var(--sklearn-color-fitted-level-3);\n",
              "}\n",
              "</style><div id=\"sk-container-id-1\" class=\"sk-top-container\"><div class=\"sk-text-repr-fallback\"><pre>Pipeline(steps=[(&#x27;preprocessor&#x27;,\n",
              "                 ColumnTransformer(transformers=[(&#x27;num&#x27;, StandardScaler(),\n",
              "                                                  [&#x27;FirstMovieYear&#x27;,\n",
              "                                                   &#x27;MovieRuntimeMinutes&#x27;,\n",
              "                                                   &#x27;BoxOfficeMillions&#x27;]),\n",
              "                                                 (&#x27;cat&#x27;,\n",
              "                                                  OneHotEncoder(drop=&#x27;first&#x27;),\n",
              "                                                  [&#x27;HairColor&#x27;,\n",
              "                                                   &#x27;HasSoloSong&#x27;])])),\n",
              "                (&#x27;regressor&#x27;, SVR())])</pre><b>In a Jupyter environment, please rerun this cell to show the HTML representation or trust the notebook. <br />On GitHub, the HTML representation is unable to render, please try loading this page with nbviewer.org.</b></div><div class=\"sk-container\" hidden><div class=\"sk-item sk-dashed-wrapped\"><div class=\"sk-label-container\"><div class=\"sk-label fitted sk-toggleable\"><input class=\"sk-toggleable__control sk-hidden--visually\" id=\"sk-estimator-id-1\" type=\"checkbox\" ><label for=\"sk-estimator-id-1\" class=\"sk-toggleable__label fitted sk-toggleable__label-arrow\"><div><div>Pipeline</div></div><div><a class=\"sk-estimator-doc-link fitted\" rel=\"noreferrer\" target=\"_blank\" href=\"https://scikit-learn.org/1.6/modules/generated/sklearn.pipeline.Pipeline.html\">?<span>Documentation for Pipeline</span></a><span class=\"sk-estimator-doc-link fitted\">i<span>Fitted</span></span></div></label><div class=\"sk-toggleable__content fitted\"><pre>Pipeline(steps=[(&#x27;preprocessor&#x27;,\n",
              "                 ColumnTransformer(transformers=[(&#x27;num&#x27;, StandardScaler(),\n",
              "                                                  [&#x27;FirstMovieYear&#x27;,\n",
              "                                                   &#x27;MovieRuntimeMinutes&#x27;,\n",
              "                                                   &#x27;BoxOfficeMillions&#x27;]),\n",
              "                                                 (&#x27;cat&#x27;,\n",
              "                                                  OneHotEncoder(drop=&#x27;first&#x27;),\n",
              "                                                  [&#x27;HairColor&#x27;,\n",
              "                                                   &#x27;HasSoloSong&#x27;])])),\n",
              "                (&#x27;regressor&#x27;, SVR())])</pre></div> </div></div><div class=\"sk-serial\"><div class=\"sk-item sk-dashed-wrapped\"><div class=\"sk-label-container\"><div class=\"sk-label fitted sk-toggleable\"><input class=\"sk-toggleable__control sk-hidden--visually\" id=\"sk-estimator-id-2\" type=\"checkbox\" ><label for=\"sk-estimator-id-2\" class=\"sk-toggleable__label fitted sk-toggleable__label-arrow\"><div><div>preprocessor: ColumnTransformer</div></div><div><a class=\"sk-estimator-doc-link fitted\" rel=\"noreferrer\" target=\"_blank\" href=\"https://scikit-learn.org/1.6/modules/generated/sklearn.compose.ColumnTransformer.html\">?<span>Documentation for preprocessor: ColumnTransformer</span></a></div></label><div class=\"sk-toggleable__content fitted\"><pre>ColumnTransformer(transformers=[(&#x27;num&#x27;, StandardScaler(),\n",
              "                                 [&#x27;FirstMovieYear&#x27;, &#x27;MovieRuntimeMinutes&#x27;,\n",
              "                                  &#x27;BoxOfficeMillions&#x27;]),\n",
              "                                (&#x27;cat&#x27;, OneHotEncoder(drop=&#x27;first&#x27;),\n",
              "                                 [&#x27;HairColor&#x27;, &#x27;HasSoloSong&#x27;])])</pre></div> </div></div><div class=\"sk-parallel\"><div class=\"sk-parallel-item\"><div class=\"sk-item\"><div class=\"sk-label-container\"><div class=\"sk-label fitted sk-toggleable\"><input class=\"sk-toggleable__control sk-hidden--visually\" id=\"sk-estimator-id-3\" type=\"checkbox\" ><label for=\"sk-estimator-id-3\" class=\"sk-toggleable__label fitted sk-toggleable__label-arrow\"><div><div>num</div></div></label><div class=\"sk-toggleable__content fitted\"><pre>[&#x27;FirstMovieYear&#x27;, &#x27;MovieRuntimeMinutes&#x27;, &#x27;BoxOfficeMillions&#x27;]</pre></div> </div></div><div class=\"sk-serial\"><div class=\"sk-item\"><div class=\"sk-estimator fitted sk-toggleable\"><input class=\"sk-toggleable__control sk-hidden--visually\" id=\"sk-estimator-id-4\" type=\"checkbox\" ><label for=\"sk-estimator-id-4\" class=\"sk-toggleable__label fitted sk-toggleable__label-arrow\"><div><div>StandardScaler</div></div><div><a class=\"sk-estimator-doc-link fitted\" rel=\"noreferrer\" target=\"_blank\" href=\"https://scikit-learn.org/1.6/modules/generated/sklearn.preprocessing.StandardScaler.html\">?<span>Documentation for StandardScaler</span></a></div></label><div class=\"sk-toggleable__content fitted\"><pre>StandardScaler()</pre></div> </div></div></div></div></div><div class=\"sk-parallel-item\"><div class=\"sk-item\"><div class=\"sk-label-container\"><div class=\"sk-label fitted sk-toggleable\"><input class=\"sk-toggleable__control sk-hidden--visually\" id=\"sk-estimator-id-5\" type=\"checkbox\" ><label for=\"sk-estimator-id-5\" class=\"sk-toggleable__label fitted sk-toggleable__label-arrow\"><div><div>cat</div></div></label><div class=\"sk-toggleable__content fitted\"><pre>[&#x27;HairColor&#x27;, &#x27;HasSoloSong&#x27;]</pre></div> </div></div><div class=\"sk-serial\"><div class=\"sk-item\"><div class=\"sk-estimator fitted sk-toggleable\"><input class=\"sk-toggleable__control sk-hidden--visually\" id=\"sk-estimator-id-6\" type=\"checkbox\" ><label for=\"sk-estimator-id-6\" class=\"sk-toggleable__label fitted sk-toggleable__label-arrow\"><div><div>OneHotEncoder</div></div><div><a class=\"sk-estimator-doc-link fitted\" rel=\"noreferrer\" target=\"_blank\" href=\"https://scikit-learn.org/1.6/modules/generated/sklearn.preprocessing.OneHotEncoder.html\">?<span>Documentation for OneHotEncoder</span></a></div></label><div class=\"sk-toggleable__content fitted\"><pre>OneHotEncoder(drop=&#x27;first&#x27;)</pre></div> </div></div></div></div></div></div></div><div class=\"sk-item\"><div class=\"sk-estimator fitted sk-toggleable\"><input class=\"sk-toggleable__control sk-hidden--visually\" id=\"sk-estimator-id-7\" type=\"checkbox\" ><label for=\"sk-estimator-id-7\" class=\"sk-toggleable__label fitted sk-toggleable__label-arrow\"><div><div>SVR</div></div><div><a class=\"sk-estimator-doc-link fitted\" rel=\"noreferrer\" target=\"_blank\" href=\"https://scikit-learn.org/1.6/modules/generated/sklearn.svm.SVR.html\">?<span>Documentation for SVR</span></a></div></label><div class=\"sk-toggleable__content fitted\"><pre>SVR()</pre></div> </div></div></div></div></div></div>"
            ],
            "text/plain": [
              "Pipeline(steps=[('preprocessor',\n",
              "                 ColumnTransformer(transformers=[('num', StandardScaler(),\n",
              "                                                  ['FirstMovieYear',\n",
              "                                                   'MovieRuntimeMinutes',\n",
              "                                                   'BoxOfficeMillions']),\n",
              "                                                 ('cat',\n",
              "                                                  OneHotEncoder(drop='first'),\n",
              "                                                  ['HairColor',\n",
              "                                                   'HasSoloSong'])])),\n",
              "                ('regressor', SVR())])"
            ]
          },
          "execution_count": 8,
          "metadata": {},
          "output_type": "execute_result"
        }
      ],
      "source": [
        "svr_pipeline.fit(X_train, y_train)"
      ]
    },
    {
      "cell_type": "markdown",
      "id": "3J1aWuIsSzXO",
      "metadata": {
        "id": "3J1aWuIsSzXO"
      },
      "source": [
        "### 9. Prediksi\n",
        "Menghasilkan prediksi skor popularitas dari data uji setelah melalui preprocessing."
      ]
    },
    {
      "cell_type": "code",
      "execution_count": 9,
      "id": "8W-xTNCoSzXO",
      "metadata": {
        "id": "8W-xTNCoSzXO"
      },
      "outputs": [],
      "source": [
        "y_pred = svr_pipeline.predict(X_test)"
      ]
    },
    {
      "cell_type": "markdown",
      "id": "4H8frATkSzXO",
      "metadata": {
        "id": "4H8frATkSzXO"
      },
      "source": [
        "### 10. Evaluasi Model\n",
        "Hitung nilai MAE dan R² sebagai metrik evaluasi kinerja model.<br>\n",
        "Mean Absolute Error (MAE): Mengukur rata-rata kesalahan absolut antara nilai prediksi dan aktual.<br>\n",
        "R² Score: Menjelaskan proporsi variasi dalam target yang dapat dijelaskan oleh model."
      ]
    },
    {
      "cell_type": "code",
      "execution_count": 10,
      "id": "ctFm0MWMSzXO",
      "metadata": {
        "colab": {
          "base_uri": "https://localhost:8080/"
        },
        "id": "ctFm0MWMSzXO",
        "outputId": "92798e02-442d-47a2-bd98-fe919e4e5401"
      },
      "outputs": [
        {
          "data": {
            "text/plain": [
              "(13.507655136674483, -0.16269569816797214)"
            ]
          },
          "execution_count": 10,
          "metadata": {},
          "output_type": "execute_result"
        }
      ],
      "source": [
        "mae = mean_absolute_error(y_test, y_pred)\n",
        "r2 = r2_score(y_test, y_pred)\n",
        "mae, r2"
      ]
    },
    {
      "cell_type": "markdown",
      "id": "dYbVD5p5wleF",
      "metadata": {
        "id": "dYbVD5p5wleF"
      },
      "source": [
        "Nilai MAE yang tinggi menjadi indikasi kesalahan prediksi rata-rata yang cukup besar, sedangkan nila skor R² negatif mengindikasikan bahwa model tidak mampu menjelaskan variasi data."
      ]
    },
    {
      "cell_type": "markdown",
      "id": "wbScaf9vSzXO",
      "metadata": {
        "id": "wbScaf9vSzXO"
      },
      "source": [
        "### 11. Visualisasi Hasil\n",
        "Tampilkan grafik scatter antara nilai asli dan nilai prediksi."
      ]
    },
    {
      "cell_type": "code",
      "execution_count": 11,
      "id": "dj3rgEUPSzXO",
      "metadata": {
        "colab": {
          "base_uri": "https://localhost:8080/",
          "height": 507
        },
        "id": "dj3rgEUPSzXO",
        "outputId": "5353a824-f71f-4e28-da28-0f0d4e8cb436"
      },
      "outputs": [
        {
          "data": {
            "image/png": "[encoded data removed]",
            "text/plain": [
              "<Figure size 800x500 with 1 Axes>"
            ]
          },
          "metadata": {},
          "output_type": "display_data"
        }
      ],
      "source": [
        "import numpy as np\n",
        "import matplotlib.pyplot as plt\n",
        "\n",
        "# Buat figure\n",
        "plt.figure(figsize=(8, 5))\n",
        "\n",
        "# Scatter plot antara nilai aktual dan prediksi\n",
        "plt.scatter(y_test, y_pred, color='blue', alpha=0.6, label='Predicted vs Actual')\n",
        "\n",
        "# Tambahkan garis referensi y = x\n",
        "min_val = min(y_test.min(), y_pred.min())\n",
        "max_val = max(y_test.max(), y_pred.max())\n",
        "plt.plot([min_val, max_val], [min_val, max_val], 'r--', label='Perfect Prediction (y = x)')\n",
        "\n",
        "# Label dan tampilan\n",
        "plt.xlabel('Actual Popularity Score')\n",
        "plt.ylabel('Predicted Popularity Score')\n",
        "plt.title('SVR Prediction vs Actual')\n",
        "plt.legend()\n",
        "plt.grid(True)\n",
        "plt.tight_layout()\n",
        "plt.show()"
      ]
    },
    {
      "cell_type": "markdown",
      "id": "3iVA_aqLtNg5",
      "metadata": {
        "id": "3iVA_aqLtNg5"
      },
      "source": [
        "Hampir semua prediksi model berkumpul di rentang 75–80, padahal nilai aktual (X) bervariasi antara 50 sampai 100.<br>\n",
        "Artinya:<br>\n",
        "Model SVR kesulitan menangkap variasi skor popularitas yang lebih tinggi dan lebih rendah sehingga dapat disebut underfitting.\n"
      ]
    },
    {
      "cell_type": "markdown",
      "id": "iK0MCZwln3jf",
      "metadata": {
        "id": "iK0MCZwln3jf"
      },
      "source": [
        "### Kesimpulan\n",
        "Dari grafik ini terlihat bahwa model SVR cenderung memprediksi nilai yang mendekati rata-rata. Hal ini menyebabkan prediksi pada skor yang sangat tinggi atau rendah menjadi kurang akurat, terlihat dari bagaimana titik-titik menjauhi garis y = x. Ini adalah indikasi bahwa model mengalami underfitting terhadap data.\n",
        "\n",
        "\n"
      ]
    }
  ],
  "metadata": {
    "colab": {
      "provenance": []
    },
    "kernelspec": {
      "display_name": "env",
      "language": "python",
      "name": "python3"
    },
    "language_info": {
      "codemirror_mode": {
        "name": "ipython",
        "version": 3
      },
      "file_extension": ".py",
      "mimetype": "text/x-python",
      "name": "python",
      "nbconvert_exporter": "python",
      "pygments_lexer": "ipython3",
      "version": "3.13.3"
    }
  },
  "nbformat": 4,
  "nbformat_minor": 5
}
