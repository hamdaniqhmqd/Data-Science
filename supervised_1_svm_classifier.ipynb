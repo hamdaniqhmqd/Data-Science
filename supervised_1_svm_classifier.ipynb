{
 "cells": [
  {
   "cell_type": "markdown",
   "metadata": {},
   "source": [
    "#### Nama = `Ahmad Hamdani`\n",
    "#### Nim = `233307092`\n",
    "#### Kelas = `4D`"
   ]
  },
  {
   "cell_type": "code",
   "execution_count": 57,
   "metadata": {},
   "outputs": [],
   "source": [
    "import numpy as np \n",
    "import pandas as pd \n",
    "import matplotlib.pyplot as plt \n",
    "import seaborn as sns \n",
    "%matplotlib inline\n",
    "\n",
    "import os\n",
    "for dirname, _, filenames in os.walk('data/supervised_1_pulsar_stars.csv'):\n",
    "    for filename in filenames:\n",
    "        print(os.path.join(dirname, filename))\n"
   ]
  },
  {
   "cell_type": "markdown",
   "metadata": {},
   "source": [
    "Kode ini digunakan untuk mencari dan mencetak lokasi file 'pulsar_stars.csv' yang ada dalam folder atau subfolder. Kode pertama mengimpor beberapa pustaka untuk analisis data dan visualisasi. Kemudian, dengan menggunakan `os.walk()`, kode ini menelusuri folder 'pulsar_stars.csv' dan mencetak path lengkap setiap file yang ditemukan di dalamnya."
   ]
  },
  {
   "cell_type": "code",
   "execution_count": 58,
   "metadata": {},
   "outputs": [],
   "source": [
    "import warnings\n",
    "\n",
    "warnings.filterwarnings('ignore')"
   ]
  },
  {
   "cell_type": "markdown",
   "metadata": {},
   "source": [
    "Kode ini digunakan untuk menonaktifkan tampilan peringatan (warnings) yang mungkin muncul selama eksekusi program. Dengan `warnings.filterwarnings('ignore')`, program tidak akan menampilkan pesan peringatan apapun, sehingga outputnya akan lebih bersih dan fokus pada hasil yang relevan."
   ]
  },
  {
   "cell_type": "markdown",
   "metadata": {},
   "source": [
    "# **1.Import dataset** \n"
   ]
  },
  {
   "cell_type": "code",
   "execution_count": 59,
   "metadata": {},
   "outputs": [],
   "source": [
    "data = 'data/supervised_1_pulsar_stars.csv'\n",
    "\n",
    "df = pd.read_csv(data)"
   ]
  },
  {
   "cell_type": "markdown",
   "metadata": {},
   "source": [
    "Kode ini digunakan untuk membaca file CSV bernama `pulsar_stars.csv` dan memuatnya ke dalam sebuah DataFrame `df` menggunakan `pandas`."
   ]
  },
  {
   "cell_type": "markdown",
   "metadata": {},
   "source": [
    "# **2. Exploratory data analysis** "
   ]
  },
  {
   "cell_type": "code",
   "execution_count": 60,
   "metadata": {},
   "outputs": [
    {
     "data": {
      "text/plain": [
       "(17898, 9)"
      ]
     },
     "execution_count": 60,
     "metadata": {},
     "output_type": "execute_result"
    }
   ],
   "source": [
    "# view dimensions of dataset\n",
    "\n",
    "df.shape\n"
   ]
  },
  {
   "cell_type": "markdown",
   "metadata": {},
   "source": [
    "Kode `df.shape` digunakan untuk melihat dimensi (jumlah baris dan kolom) dari dataset yang telah dimuat ke dalam DataFrame `df`. Hasilnya akan memberikan informasi tentang jumlah baris dan kolom dalam dataset tersebut."
   ]
  },
  {
   "cell_type": "markdown",
   "metadata": {},
   "source": [
    "Kita dapat melihat bahwa terdapat 17.898 data (instance) dan 9 variabel dalam dataset tersebut."
   ]
  },
  {
   "cell_type": "code",
   "execution_count": 61,
   "metadata": {
    "scrolled": true
   },
   "outputs": [
    {
     "data": {
      "text/html": [
       "<div>\n",
       "<style scoped>\n",
       "    .dataframe tbody tr th:only-of-type {\n",
       "        vertical-align: middle;\n",
       "    }\n",
       "\n",
       "    .dataframe tbody tr th {\n",
       "        vertical-align: top;\n",
       "    }\n",
       "\n",
       "    .dataframe thead th {\n",
       "        text-align: right;\n",
       "    }\n",
       "</style>\n",
       "<table border=\"1\" class=\"dataframe\">\n",
       "  <thead>\n",
       "    <tr style=\"text-align: right;\">\n",
       "      <th></th>\n",
       "      <th>Mean of the integrated profile</th>\n",
       "      <th>Standard deviation of the integrated profile</th>\n",
       "      <th>Excess kurtosis of the integrated profile</th>\n",
       "      <th>Skewness of the integrated profile</th>\n",
       "      <th>Mean of the DM-SNR curve</th>\n",
       "      <th>Standard deviation of the DM-SNR curve</th>\n",
       "      <th>Excess kurtosis of the DM-SNR curve</th>\n",
       "      <th>Skewness of the DM-SNR curve</th>\n",
       "      <th>target_class</th>\n",
       "    </tr>\n",
       "  </thead>\n",
       "  <tbody>\n",
       "    <tr>\n",
       "      <th>0</th>\n",
       "      <td>140.562500</td>\n",
       "      <td>55.683782</td>\n",
       "      <td>-0.234571</td>\n",
       "      <td>-0.699648</td>\n",
       "      <td>3.199833</td>\n",
       "      <td>19.110426</td>\n",
       "      <td>7.975532</td>\n",
       "      <td>74.242225</td>\n",
       "      <td>0</td>\n",
       "    </tr>\n",
       "    <tr>\n",
       "      <th>1</th>\n",
       "      <td>102.507812</td>\n",
       "      <td>58.882430</td>\n",
       "      <td>0.465318</td>\n",
       "      <td>-0.515088</td>\n",
       "      <td>1.677258</td>\n",
       "      <td>14.860146</td>\n",
       "      <td>10.576487</td>\n",
       "      <td>127.393580</td>\n",
       "      <td>0</td>\n",
       "    </tr>\n",
       "    <tr>\n",
       "      <th>2</th>\n",
       "      <td>103.015625</td>\n",
       "      <td>39.341649</td>\n",
       "      <td>0.323328</td>\n",
       "      <td>1.051164</td>\n",
       "      <td>3.121237</td>\n",
       "      <td>21.744669</td>\n",
       "      <td>7.735822</td>\n",
       "      <td>63.171909</td>\n",
       "      <td>0</td>\n",
       "    </tr>\n",
       "    <tr>\n",
       "      <th>3</th>\n",
       "      <td>136.750000</td>\n",
       "      <td>57.178449</td>\n",
       "      <td>-0.068415</td>\n",
       "      <td>-0.636238</td>\n",
       "      <td>3.642977</td>\n",
       "      <td>20.959280</td>\n",
       "      <td>6.896499</td>\n",
       "      <td>53.593661</td>\n",
       "      <td>0</td>\n",
       "    </tr>\n",
       "    <tr>\n",
       "      <th>4</th>\n",
       "      <td>88.726562</td>\n",
       "      <td>40.672225</td>\n",
       "      <td>0.600866</td>\n",
       "      <td>1.123492</td>\n",
       "      <td>1.178930</td>\n",
       "      <td>11.468720</td>\n",
       "      <td>14.269573</td>\n",
       "      <td>252.567306</td>\n",
       "      <td>0</td>\n",
       "    </tr>\n",
       "  </tbody>\n",
       "</table>\n",
       "</div>"
      ],
      "text/plain": [
       "    Mean of the integrated profile  \\\n",
       "0                       140.562500   \n",
       "1                       102.507812   \n",
       "2                       103.015625   \n",
       "3                       136.750000   \n",
       "4                        88.726562   \n",
       "\n",
       "    Standard deviation of the integrated profile  \\\n",
       "0                                      55.683782   \n",
       "1                                      58.882430   \n",
       "2                                      39.341649   \n",
       "3                                      57.178449   \n",
       "4                                      40.672225   \n",
       "\n",
       "    Excess kurtosis of the integrated profile  \\\n",
       "0                                   -0.234571   \n",
       "1                                    0.465318   \n",
       "2                                    0.323328   \n",
       "3                                   -0.068415   \n",
       "4                                    0.600866   \n",
       "\n",
       "    Skewness of the integrated profile   Mean of the DM-SNR curve  \\\n",
       "0                            -0.699648                   3.199833   \n",
       "1                            -0.515088                   1.677258   \n",
       "2                             1.051164                   3.121237   \n",
       "3                            -0.636238                   3.642977   \n",
       "4                             1.123492                   1.178930   \n",
       "\n",
       "    Standard deviation of the DM-SNR curve  \\\n",
       "0                                19.110426   \n",
       "1                                14.860146   \n",
       "2                                21.744669   \n",
       "3                                20.959280   \n",
       "4                                11.468720   \n",
       "\n",
       "    Excess kurtosis of the DM-SNR curve   Skewness of the DM-SNR curve  \\\n",
       "0                              7.975532                      74.242225   \n",
       "1                             10.576487                     127.393580   \n",
       "2                              7.735822                      63.171909   \n",
       "3                              6.896499                      53.593661   \n",
       "4                             14.269573                     252.567306   \n",
       "\n",
       "   target_class  \n",
       "0             0  \n",
       "1             0  \n",
       "2             0  \n",
       "3             0  \n",
       "4             0  "
      ]
     },
     "execution_count": 61,
     "metadata": {},
     "output_type": "execute_result"
    }
   ],
   "source": [
    "# let's preview the dataset\n",
    "\n",
    "df.head()"
   ]
  },
  {
   "cell_type": "markdown",
   "metadata": {},
   "source": [
    "`df.head()` menampilkan 5 baris pertama dari dataset untuk memberi gambaran awal tentang data yang ada."
   ]
  },
  {
   "cell_type": "markdown",
   "metadata": {},
   "source": [
    "Kita dapat melihat bahwa terdapat 9 variabel dalam dataset. Delapan di antaranya merupakan variabel kontinu, dan satu variabel merupakan variabel diskret, yaitu `target_class`. Variabel ini juga berfungsi sebagai variabel target.\n",
    "\n",
    "Sekarang, saya akan melihat nama-nama kolom untuk memeriksa apakah terdapat spasi di awal atau akhir nama kolom."
   ]
  },
  {
   "cell_type": "code",
   "execution_count": 62,
   "metadata": {},
   "outputs": [
    {
     "data": {
      "text/plain": [
       "Index([' Mean of the integrated profile',\n",
       "       ' Standard deviation of the integrated profile',\n",
       "       ' Excess kurtosis of the integrated profile',\n",
       "       ' Skewness of the integrated profile', ' Mean of the DM-SNR curve',\n",
       "       ' Standard deviation of the DM-SNR curve',\n",
       "       ' Excess kurtosis of the DM-SNR curve', ' Skewness of the DM-SNR curve',\n",
       "       'target_class'],\n",
       "      dtype='object')"
      ]
     },
     "execution_count": 62,
     "metadata": {},
     "output_type": "execute_result"
    }
   ],
   "source": [
    "# view the column names of the dataframe\n",
    "\n",
    "col_names = df.columns\n",
    "\n",
    "col_names"
   ]
  },
  {
   "cell_type": "markdown",
   "metadata": {},
   "source": [
    "`df.columns` menampilkan nama-nama kolom yang ada dalam dataset. Variabel `col_names` menyimpan daftar nama kolom tersebut."
   ]
  },
  {
   "cell_type": "markdown",
   "metadata": {},
   "source": [
    "Kita dapat melihat bahwa terdapat spasi di awal nama kolom (leading spaces) dalam DataFrame. Oleh karena itu, saya akan menghapus spasi-spasi tersebut."
   ]
  },
  {
   "cell_type": "code",
   "execution_count": 63,
   "metadata": {},
   "outputs": [],
   "source": [
    "# remove leading spaces from column names\n",
    "\n",
    "df.columns = df.columns.str.strip()"
   ]
  },
  {
   "cell_type": "markdown",
   "metadata": {},
   "source": [
    "Kode ini menghapus spasi di awal dan akhir nama kolom dalam dataset `df`. Dengan menggunakan `str.strip()`, spasi yang tidak diinginkan akan dihilangkan agar nama kolom lebih rapi."
   ]
  },
  {
   "cell_type": "markdown",
   "metadata": {},
   "source": [
    "Saya telah menghapus spasi di awal nama kolom. Sekarang, mari kita lihat kembali nama-nama kolom untuk memastikan bahwa spasi tersebut benar-benar telah dihapus."
   ]
  },
  {
   "cell_type": "code",
   "execution_count": 64,
   "metadata": {},
   "outputs": [
    {
     "data": {
      "text/plain": [
       "Index(['Mean of the integrated profile',\n",
       "       'Standard deviation of the integrated profile',\n",
       "       'Excess kurtosis of the integrated profile',\n",
       "       'Skewness of the integrated profile', 'Mean of the DM-SNR curve',\n",
       "       'Standard deviation of the DM-SNR curve',\n",
       "       'Excess kurtosis of the DM-SNR curve', 'Skewness of the DM-SNR curve',\n",
       "       'target_class'],\n",
       "      dtype='object')"
      ]
     },
     "execution_count": 64,
     "metadata": {},
     "output_type": "execute_result"
    }
   ],
   "source": [
    "# view column names again\n",
    "\n",
    "df.columns"
   ]
  },
  {
   "cell_type": "markdown",
   "metadata": {},
   "source": [
    "Kode ini akan menampilkan kembali nama-nama kolom dalam dataset `df` setelah spasi di awal dan akhir kolom dihapus."
   ]
  },
  {
   "cell_type": "markdown",
   "metadata": {},
   "source": [
    "Kita dapat melihat bahwa spasi di awal nama kolom telah berhasil dihapus. Namun, nama-nama kolom masih terlalu panjang. Oleh karena itu, saya akan mempersingkatnya dengan mengganti nama-nama kolom tersebut."
   ]
  },
  {
   "cell_type": "code",
   "execution_count": 65,
   "metadata": {},
   "outputs": [],
   "source": [
    "# rename column names\n",
    "\n",
    "df.columns = ['IP Mean', 'IP Sd', 'IP Kurtosis', 'IP Skewness', \n",
    "              'DM-SNR Mean', 'DM-SNR Sd', 'DM-SNR Kurtosis', 'DM-SNR Skewness', 'target_class']"
   ]
  },
  {
   "cell_type": "markdown",
   "metadata": {},
   "source": [
    "Kode ini mengganti nama-nama kolom pada dataset `df` dengan nama-nama yang lebih deskriptif, yaitu:\n",
    "\n",
    "- 'IP Mean'\n",
    "- 'IP Sd'\n",
    "- 'IP Kurtosis'\n",
    "- 'IP Skewness'\n",
    "- 'DM-SNR Mean'\n",
    "- 'DM-SNR Sd'\n",
    "- 'DM-SNR Kurtosis'\n",
    "- 'DM-SNR Skewness'\n",
    "- 'target_class'"
   ]
  },
  {
   "cell_type": "code",
   "execution_count": 66,
   "metadata": {},
   "outputs": [
    {
     "data": {
      "text/plain": [
       "Index(['IP Mean', 'IP Sd', 'IP Kurtosis', 'IP Skewness', 'DM-SNR Mean',\n",
       "       'DM-SNR Sd', 'DM-SNR Kurtosis', 'DM-SNR Skewness', 'target_class'],\n",
       "      dtype='object')"
      ]
     },
     "execution_count": 66,
     "metadata": {},
     "output_type": "execute_result"
    }
   ],
   "source": [
    "# view the renamed column names\n",
    "\n",
    "df.columns"
   ]
  },
  {
   "cell_type": "markdown",
   "metadata": {},
   "source": [
    "Kode ini digunakan untuk menampilkan kembali nama kolom pada dataset setelah dilakukan penggantian nama kolom. Dengan menjalankan kode ini, kita dapat melihat nama-nama kolom yang baru setelah perubahan."
   ]
  },
  {
   "cell_type": "markdown",
   "metadata": {},
   "source": [
    "Kita dapat melihat bahwa nama kolom telah disingkat. IP berarti `profil terintegrasi` dan DM-SNR berarti `modulasi delta dan rasio sinyal terhadap noise`. Sekarang, lebih mudah untuk bekerja dengan kolom-kolom tersebut."
   ]
  },
  {
   "cell_type": "markdown",
   "metadata": {},
   "source": [
    "Variabel target kita adalah kolom `target_class`. Jadi, saya akan memeriksa distribusinya."
   ]
  },
  {
   "cell_type": "code",
   "execution_count": 67,
   "metadata": {},
   "outputs": [
    {
     "data": {
      "text/plain": [
       "target_class\n",
       "0    16259\n",
       "1     1639\n",
       "Name: count, dtype: int64"
      ]
     },
     "execution_count": 67,
     "metadata": {},
     "output_type": "execute_result"
    }
   ],
   "source": [
    "# check distribution of target_class column\n",
    "\n",
    "df['target_class'].value_counts()"
   ]
  },
  {
   "cell_type": "markdown",
   "metadata": {},
   "source": [
    "Kode ini digunakan untuk memeriksa distribusi nilai dalam kolom `target_class`. Fungsi `value_counts()` akan menampilkan jumlah masing-masing nilai yang ada di kolom tersebut, memberikan gambaran tentang distribusi data pada target kelas."
   ]
  },
  {
   "cell_type": "markdown",
   "metadata": {},
   "source": [
    "Hasil ini menunjukkan bahwa dalam kolom `target_class`, terdapat 16.259 data dengan label 0 (negatif) dan 1.639 data dengan label 1 (positif). Artinya, dataset ini tidak seimbang, dengan lebih banyak data kelas 0 daripada kelas 1."
   ]
  },
  {
   "cell_type": "code",
   "execution_count": 68,
   "metadata": {},
   "outputs": [
    {
     "data": {
      "text/plain": [
       "target_class\n",
       "0    0.908426\n",
       "1    0.091574\n",
       "Name: count, dtype: float64"
      ]
     },
     "execution_count": 68,
     "metadata": {},
     "output_type": "execute_result"
    }
   ],
   "source": [
    "# view the percentage distribution of target_class column\n",
    "\n",
    "df['target_class'].value_counts()/float(len(df))"
   ]
  },
  {
   "cell_type": "markdown",
   "metadata": {},
   "source": [
    "Perintah ini akan menunjukkan distribusi persentase dari kolom `target_class`. Hasilnya menunjukkan proporsi masing-masing kelas (0 dan 1) terhadap total data dalam dataset."
   ]
  },
  {
   "cell_type": "markdown",
   "metadata": {},
   "source": [
    "Kita dapat melihat bahwa persentase observasi untuk label kelas `0` adalah 90,84% dan untuk label kelas `1` adalah 9,16%. Jadi, ini merupakan masalah klasifikasi dengan distribusi kelas yang tidak seimbang (class imbalance). Saya akan menangani masalah ini pada bagian selanjutnya."
   ]
  },
  {
   "cell_type": "code",
   "execution_count": 69,
   "metadata": {},
   "outputs": [
    {
     "name": "stdout",
     "output_type": "stream",
     "text": [
      "<class 'pandas.core.frame.DataFrame'>\n",
      "RangeIndex: 17898 entries, 0 to 17897\n",
      "Data columns (total 9 columns):\n",
      " #   Column           Non-Null Count  Dtype  \n",
      "---  ------           --------------  -----  \n",
      " 0   IP Mean          17898 non-null  float64\n",
      " 1   IP Sd            17898 non-null  float64\n",
      " 2   IP Kurtosis      17898 non-null  float64\n",
      " 3   IP Skewness      17898 non-null  float64\n",
      " 4   DM-SNR Mean      17898 non-null  float64\n",
      " 5   DM-SNR Sd        17898 non-null  float64\n",
      " 6   DM-SNR Kurtosis  17898 non-null  float64\n",
      " 7   DM-SNR Skewness  17898 non-null  float64\n",
      " 8   target_class     17898 non-null  int64  \n",
      "dtypes: float64(8), int64(1)\n",
      "memory usage: 1.2 MB\n"
     ]
    }
   ],
   "source": [
    "# view summary of dataset\n",
    "\n",
    "df.info()"
   ]
  },
  {
   "cell_type": "markdown",
   "metadata": {},
   "source": [
    "Perintah `df.info()` digunakan untuk menampilkan informasi ringkas tentang dataset, seperti jumlah baris, kolom, tipe data setiap kolom, serta jumlah nilai yang tidak null pada setiap kolom."
   ]
  },
  {
   "cell_type": "markdown",
   "metadata": {},
   "source": [
    "Kita dapat melihat bahwa tidak ada nilai yang hilang (missing values) dalam dataset ini dan semua variabel yang ada merupakan variabel numerik."
   ]
  },
  {
   "cell_type": "markdown",
   "metadata": {},
   "source": [
    "### Memeriksa Nilai yang Hilang pada Variabel"
   ]
  },
  {
   "cell_type": "code",
   "execution_count": 70,
   "metadata": {},
   "outputs": [
    {
     "data": {
      "text/plain": [
       "IP Mean            0\n",
       "IP Sd              0\n",
       "IP Kurtosis        0\n",
       "IP Skewness        0\n",
       "DM-SNR Mean        0\n",
       "DM-SNR Sd          0\n",
       "DM-SNR Kurtosis    0\n",
       "DM-SNR Skewness    0\n",
       "target_class       0\n",
       "dtype: int64"
      ]
     },
     "execution_count": 70,
     "metadata": {},
     "output_type": "execute_result"
    }
   ],
   "source": [
    "# check for missing values in variables\n",
    "\n",
    "df.isnull().sum()"
   ]
  },
  {
   "cell_type": "markdown",
   "metadata": {},
   "source": [
    "Perintah `df.isnull().sum()` digunakan untuk memeriksa jumlah nilai yang hilang (missing values) pada setiap kolom dalam dataset. Hasilnya menunjukkan seberapa banyak data yang tidak tersedia di setiap kolom."
   ]
  },
  {
   "cell_type": "markdown",
   "metadata": {},
   "source": [
    "Kita dapat melihat bahwa tidak ada nilai yang hilang (missing values) dalam dataset ini."
   ]
  },
  {
   "cell_type": "markdown",
   "metadata": {},
   "source": [
    "### Ringkasan Variabel Numerik\n",
    "\n",
    "- Terdapat 9 variabel numerik dalam dataset ini.\n",
    "\n",
    "- 8 di antaranya adalah variabel kontinu dan 1 merupakan variabel diskret.\n",
    "\n",
    "- Variabel diskret adalah variabel `target_class`, yang juga merupakan variabel target.\n",
    "\n",
    "- Tidak ada nilai yang hilang (missing values) dalam dataset ini."
   ]
  },
  {
   "cell_type": "markdown",
   "metadata": {},
   "source": [
    "### Outlier pada Variabel Numerik"
   ]
  },
  {
   "cell_type": "code",
   "execution_count": 71,
   "metadata": {},
   "outputs": [
    {
     "data": {
      "text/html": [
       "<div>\n",
       "<style scoped>\n",
       "    .dataframe tbody tr th:only-of-type {\n",
       "        vertical-align: middle;\n",
       "    }\n",
       "\n",
       "    .dataframe tbody tr th {\n",
       "        vertical-align: top;\n",
       "    }\n",
       "\n",
       "    .dataframe thead th {\n",
       "        text-align: right;\n",
       "    }\n",
       "</style>\n",
       "<table border=\"1\" class=\"dataframe\">\n",
       "  <thead>\n",
       "    <tr style=\"text-align: right;\">\n",
       "      <th></th>\n",
       "      <th>IP Mean</th>\n",
       "      <th>IP Sd</th>\n",
       "      <th>IP Kurtosis</th>\n",
       "      <th>IP Skewness</th>\n",
       "      <th>DM-SNR Mean</th>\n",
       "      <th>DM-SNR Sd</th>\n",
       "      <th>DM-SNR Kurtosis</th>\n",
       "      <th>DM-SNR Skewness</th>\n",
       "      <th>target_class</th>\n",
       "    </tr>\n",
       "  </thead>\n",
       "  <tbody>\n",
       "    <tr>\n",
       "      <th>count</th>\n",
       "      <td>17898.00</td>\n",
       "      <td>17898.00</td>\n",
       "      <td>17898.00</td>\n",
       "      <td>17898.00</td>\n",
       "      <td>17898.00</td>\n",
       "      <td>17898.00</td>\n",
       "      <td>17898.00</td>\n",
       "      <td>17898.00</td>\n",
       "      <td>17898.00</td>\n",
       "    </tr>\n",
       "    <tr>\n",
       "      <th>mean</th>\n",
       "      <td>111.08</td>\n",
       "      <td>46.55</td>\n",
       "      <td>0.48</td>\n",
       "      <td>1.77</td>\n",
       "      <td>12.61</td>\n",
       "      <td>26.33</td>\n",
       "      <td>8.30</td>\n",
       "      <td>104.86</td>\n",
       "      <td>0.09</td>\n",
       "    </tr>\n",
       "    <tr>\n",
       "      <th>std</th>\n",
       "      <td>25.65</td>\n",
       "      <td>6.84</td>\n",
       "      <td>1.06</td>\n",
       "      <td>6.17</td>\n",
       "      <td>29.47</td>\n",
       "      <td>19.47</td>\n",
       "      <td>4.51</td>\n",
       "      <td>106.51</td>\n",
       "      <td>0.29</td>\n",
       "    </tr>\n",
       "    <tr>\n",
       "      <th>min</th>\n",
       "      <td>5.81</td>\n",
       "      <td>24.77</td>\n",
       "      <td>-1.88</td>\n",
       "      <td>-1.79</td>\n",
       "      <td>0.21</td>\n",
       "      <td>7.37</td>\n",
       "      <td>-3.14</td>\n",
       "      <td>-1.98</td>\n",
       "      <td>0.00</td>\n",
       "    </tr>\n",
       "    <tr>\n",
       "      <th>25%</th>\n",
       "      <td>100.93</td>\n",
       "      <td>42.38</td>\n",
       "      <td>0.03</td>\n",
       "      <td>-0.19</td>\n",
       "      <td>1.92</td>\n",
       "      <td>14.44</td>\n",
       "      <td>5.78</td>\n",
       "      <td>34.96</td>\n",
       "      <td>0.00</td>\n",
       "    </tr>\n",
       "    <tr>\n",
       "      <th>50%</th>\n",
       "      <td>115.08</td>\n",
       "      <td>46.95</td>\n",
       "      <td>0.22</td>\n",
       "      <td>0.20</td>\n",
       "      <td>2.80</td>\n",
       "      <td>18.46</td>\n",
       "      <td>8.43</td>\n",
       "      <td>83.06</td>\n",
       "      <td>0.00</td>\n",
       "    </tr>\n",
       "    <tr>\n",
       "      <th>75%</th>\n",
       "      <td>127.09</td>\n",
       "      <td>51.02</td>\n",
       "      <td>0.47</td>\n",
       "      <td>0.93</td>\n",
       "      <td>5.46</td>\n",
       "      <td>28.43</td>\n",
       "      <td>10.70</td>\n",
       "      <td>139.31</td>\n",
       "      <td>0.00</td>\n",
       "    </tr>\n",
       "    <tr>\n",
       "      <th>max</th>\n",
       "      <td>192.62</td>\n",
       "      <td>98.78</td>\n",
       "      <td>8.07</td>\n",
       "      <td>68.10</td>\n",
       "      <td>223.39</td>\n",
       "      <td>110.64</td>\n",
       "      <td>34.54</td>\n",
       "      <td>1191.00</td>\n",
       "      <td>1.00</td>\n",
       "    </tr>\n",
       "  </tbody>\n",
       "</table>\n",
       "</div>"
      ],
      "text/plain": [
       "        IP Mean     IP Sd  IP Kurtosis  IP Skewness  DM-SNR Mean  DM-SNR Sd  \\\n",
       "count  17898.00  17898.00     17898.00     17898.00     17898.00   17898.00   \n",
       "mean     111.08     46.55         0.48         1.77        12.61      26.33   \n",
       "std       25.65      6.84         1.06         6.17        29.47      19.47   \n",
       "min        5.81     24.77        -1.88        -1.79         0.21       7.37   \n",
       "25%      100.93     42.38         0.03        -0.19         1.92      14.44   \n",
       "50%      115.08     46.95         0.22         0.20         2.80      18.46   \n",
       "75%      127.09     51.02         0.47         0.93         5.46      28.43   \n",
       "max      192.62     98.78         8.07        68.10       223.39     110.64   \n",
       "\n",
       "       DM-SNR Kurtosis  DM-SNR Skewness  target_class  \n",
       "count         17898.00         17898.00      17898.00  \n",
       "mean              8.30           104.86          0.09  \n",
       "std               4.51           106.51          0.29  \n",
       "min              -3.14            -1.98          0.00  \n",
       "25%               5.78            34.96          0.00  \n",
       "50%               8.43            83.06          0.00  \n",
       "75%              10.70           139.31          0.00  \n",
       "max              34.54          1191.00          1.00  "
      ]
     },
     "execution_count": 71,
     "metadata": {},
     "output_type": "execute_result"
    }
   ],
   "source": [
    "# view summary statistics in numerical variables\n",
    "\n",
    "round(df.describe(),2)"
   ]
  },
  {
   "cell_type": "markdown",
   "metadata": {},
   "source": [
    "`df.describe()` menampilkan statistik ringkasan seperti rata-rata, standar deviasi, nilai minimum, dan maksimum untuk kolom numerik. `round(..., 2)` membatasi angka desimal hingga 2 angka."
   ]
  },
  {
   "cell_type": "markdown",
   "metadata": {},
   "source": [
    "Setelah pemeriksaan lebih mendalam, kita bisa menduga bahwa semua variabel kontinu mungkin mengandung outlier.\n",
    "\n",
    "Untuk memvisualisasikan outlier pada variabel-variabel tersebut, saya akan menggambar boxplot."
   ]
  },
  {
   "cell_type": "code",
   "execution_count": 72,
   "metadata": {},
   "outputs": [
    {
     "data": {
      "text/plain": [
       "Text(0, 0.5, 'DM-SNR Skewness')"
      ]
     },
     "execution_count": 72,
     "metadata": {},
     "output_type": "execute_result"
    },
    {
     "data": {
      "image/png": "[encoded data removed]",
      "text/plain": [
       "<Figure size 2400x2000 with 8 Axes>"
      ]
     },
     "metadata": {},
     "output_type": "display_data"
    }
   ],
   "source": [
    "# draw boxplots to visualize outliers\n",
    "\n",
    "plt.figure(figsize=(24,20))\n",
    "\n",
    "\n",
    "plt.subplot(4, 2, 1)\n",
    "fig = df.boxplot(column='IP Mean')\n",
    "fig.set_title('')\n",
    "fig.set_ylabel('IP Mean')\n",
    "\n",
    "\n",
    "plt.subplot(4, 2, 2)\n",
    "fig = df.boxplot(column='IP Sd')\n",
    "fig.set_title('')\n",
    "fig.set_ylabel('IP Sd')\n",
    "\n",
    "\n",
    "plt.subplot(4, 2, 3)\n",
    "fig = df.boxplot(column='IP Kurtosis')\n",
    "fig.set_title('')\n",
    "fig.set_ylabel('IP Kurtosis')\n",
    "\n",
    "\n",
    "plt.subplot(4, 2, 4)\n",
    "fig = df.boxplot(column='IP Skewness')\n",
    "fig.set_title('')\n",
    "fig.set_ylabel('IP Skewness')\n",
    "\n",
    "\n",
    "plt.subplot(4, 2, 5)\n",
    "fig = df.boxplot(column='DM-SNR Mean')\n",
    "fig.set_title('')\n",
    "fig.set_ylabel('DM-SNR Mean')\n",
    "\n",
    "\n",
    "plt.subplot(4, 2, 6)\n",
    "fig = df.boxplot(column='DM-SNR Sd')\n",
    "fig.set_title('')\n",
    "fig.set_ylabel('DM-SNR Sd')\n",
    "\n",
    "\n",
    "plt.subplot(4, 2, 7)\n",
    "fig = df.boxplot(column='DM-SNR Kurtosis')\n",
    "fig.set_title('')\n",
    "fig.set_ylabel('DM-SNR Kurtosis')\n",
    "\n",
    "\n",
    "plt.subplot(4, 2, 8)\n",
    "fig = df.boxplot(column='DM-SNR Skewness')\n",
    "fig.set_title('')\n",
    "fig.set_ylabel('DM-SNR Skewness')"
   ]
  },
  {
   "cell_type": "markdown",
   "metadata": {},
   "source": [
    "Kode tersebut menggambar beberapa boxplot untuk memvisualisasikan outlier pada setiap kolom numerik dalam dataset. Setiap boxplot menunjukkan distribusi nilai dari setiap fitur seperti 'IP Mean', 'IP Sd', 'DM-SNR Skewness', dll. Boxplot membantu mengidentifikasi nilai yang ekstrem (outliers) di dalam data."
   ]
  },
  {
   "cell_type": "markdown",
   "metadata": {},
   "source": [
    "Boxplot di atas mengonfirmasi bahwa terdapat banyak outlier pada variabel-variabel ini."
   ]
  },
  {
   "cell_type": "markdown",
   "metadata": {},
   "source": [
    "### Menangani Outlier dengan SVM\n",
    "\n",
    "Terdapat 2 varian dari SVM, yaitu `hard-margin variant of SVM` dan `soft-margin variant of SVM`.\n",
    "\n",
    "- **Hard-margin variant of SVM** tidak menangani outlier. Pada varian ini, tujuan kita adalah untuk menemukan hyperplane dengan margin maksimum sehingga setiap titik pelatihan terklasifikasi dengan benar dan margin setidaknya 1. Teknik ini tidak cocok untuk menangani outlier dengan baik.\n",
    "\n",
    "- Varian lain dari SVM disebut **soft-margin variant of SVM**. Dalam hal ini, kita bisa memiliki beberapa titik yang terklasifikasi secara salah atau terklasifikasi dengan margin kurang dari 1. Namun, untuk setiap titik tersebut, kita harus membayar penalti dalam bentuk parameter `C`, yang mengontrol jumlah outlier. **Nilai C yang rendah** mengindikasikan kita membiarkan lebih banyak outlier, sementara **nilai C yang tinggi** mengindikasikan lebih sedikit outlier.\n",
    "\n",
    "Pesan yang ingin disampaikan adalah bahwa karena dataset ini mengandung outlier, nilai C sebaiknya tinggi saat melatih model."
   ]
  },
  {
   "cell_type": "markdown",
   "metadata": {},
   "source": [
    "### Memeriksa Distribusi Variabel\n",
    "\n",
    "Sekarang, saya akan menggambar histogram untuk memeriksa distribusi variabel-variabel ini guna mengetahui apakah distribusinya normal atau miring (skewed)."
   ]
  },
  {
   "cell_type": "code",
   "execution_count": 73,
   "metadata": {},
   "outputs": [
    {
     "data": {
      "text/plain": [
       "Text(0, 0.5, 'Number of pulsar stars')"
      ]
     },
     "execution_count": 73,
     "metadata": {},
     "output_type": "execute_result"
    },
    {
     "data": {
      "image/png": "[encoded data removed]",
      "text/plain": [
       "<Figure size 2400x2000 with 8 Axes>"
      ]
     },
     "metadata": {},
     "output_type": "display_data"
    }
   ],
   "source": [
    "# plot histogram to check distribution\n",
    "\n",
    "\n",
    "plt.figure(figsize=(24,20))\n",
    "\n",
    "\n",
    "plt.subplot(4, 2, 1)\n",
    "fig = df['IP Mean'].hist(bins=20)\n",
    "fig.set_xlabel('IP Mean')\n",
    "fig.set_ylabel('Number of pulsar stars')\n",
    "\n",
    "\n",
    "plt.subplot(4, 2, 2)\n",
    "fig = df['IP Sd'].hist(bins=20)\n",
    "fig.set_xlabel('IP Sd')\n",
    "fig.set_ylabel('Number of pulsar stars')\n",
    "\n",
    "\n",
    "plt.subplot(4, 2, 3)\n",
    "fig = df['IP Kurtosis'].hist(bins=20)\n",
    "fig.set_xlabel('IP Kurtosis')\n",
    "fig.set_ylabel('Number of pulsar stars')\n",
    "\n",
    "\n",
    "\n",
    "plt.subplot(4, 2, 4)\n",
    "fig = df['IP Skewness'].hist(bins=20)\n",
    "fig.set_xlabel('IP Skewness')\n",
    "fig.set_ylabel('Number of pulsar stars')\n",
    "\n",
    "\n",
    "\n",
    "plt.subplot(4, 2, 5)\n",
    "fig = df['DM-SNR Mean'].hist(bins=20)\n",
    "fig.set_xlabel('DM-SNR Mean')\n",
    "fig.set_ylabel('Number of pulsar stars')\n",
    "\n",
    "\n",
    "\n",
    "plt.subplot(4, 2, 6)\n",
    "fig = df['DM-SNR Sd'].hist(bins=20)\n",
    "fig.set_xlabel('DM-SNR Sd')\n",
    "fig.set_ylabel('Number of pulsar stars')\n",
    "\n",
    "\n",
    "\n",
    "plt.subplot(4, 2, 7)\n",
    "fig = df['DM-SNR Kurtosis'].hist(bins=20)\n",
    "fig.set_xlabel('DM-SNR Kurtosis')\n",
    "fig.set_ylabel('Number of pulsar stars')\n",
    "\n",
    "\n",
    "plt.subplot(4, 2, 8)\n",
    "fig = df['DM-SNR Skewness'].hist(bins=20)\n",
    "fig.set_xlabel('DM-SNR Skewness')\n",
    "fig.set_ylabel('Number of pulsar stars')\n"
   ]
  },
  {
   "cell_type": "markdown",
   "metadata": {},
   "source": [
    "Kode ini menggambar histogram untuk setiap kolom numerik untuk memeriksa distribusi data, membantu melihat pola dan identifikasi nilai yang terkonsentrasi atau tersebar."
   ]
  },
  {
   "cell_type": "markdown",
   "metadata": {},
   "source": [
    "Kita dapat melihat bahwa semua 8 variabel kontinu memiliki distribusi yang miring (skewed)."
   ]
  },
  {
   "cell_type": "markdown",
   "metadata": {},
   "source": [
    "# **3.Menyatakan Vektor Fitur dan Variabel Target**\n"
   ]
  },
  {
   "cell_type": "code",
   "execution_count": 74,
   "metadata": {},
   "outputs": [],
   "source": [
    "X = df.drop(['target_class'], axis=1)\n",
    "\n",
    "y = df['target_class']"
   ]
  },
  {
   "cell_type": "markdown",
   "metadata": {},
   "source": [
    "Kode ini memisahkan dataset menjadi fitur (`X`) dan target (`y`). `X` berisi semua kolom kecuali `target_class`, sementara `y` berisi kolom `target_class`."
   ]
  },
  {
   "cell_type": "markdown",
   "metadata": {},
   "source": [
    "# **4. Pisahkan data menjadi set pelatihan (training set) dan set pengujian (test set).** \n"
   ]
  },
  {
   "cell_type": "code",
   "execution_count": 75,
   "metadata": {},
   "outputs": [],
   "source": [
    "# split X and y into training and testing sets\n",
    "\n",
    "from sklearn.model_selection import train_test_split\n",
    "\n",
    "X_train, X_test, y_train, y_test = train_test_split(X, y, test_size = 0.2, random_state = 0)\n"
   ]
  },
  {
   "cell_type": "markdown",
   "metadata": {},
   "source": [
    "Kode ini membagi dataset `X` (fitur) dan `y` (target) menjadi set pelatihan dan pengujian dengan rasio 80:20. Fungsi `train_test_split` digunakan untuk membagi data, dan `random_state=0` memastikan pembagian yang konsisten setiap kali kode dijalankan."
   ]
  },
  {
   "cell_type": "code",
   "execution_count": 76,
   "metadata": {},
   "outputs": [
    {
     "data": {
      "text/plain": [
       "((14318, 8), (3580, 8))"
      ]
     },
     "execution_count": 76,
     "metadata": {},
     "output_type": "execute_result"
    }
   ],
   "source": [
    "# check the shape of X_train and X_test\n",
    "\n",
    "X_train.shape, X_test.shape"
   ]
  },
  {
   "cell_type": "markdown",
   "metadata": {},
   "source": [
    "Kode ini memeriksa ukuran dataset pelatihan dan pengujian."
   ]
  },
  {
   "cell_type": "markdown",
   "metadata": {},
   "source": [
    "Hasil ini menunjukkan bahwa dataset pelatihan (`X_train`) memiliki 14.318 baris dan 8 fitur, sedangkan dataset pengujian (`X_test`) memiliki 3.580 baris dan 8 fitur."
   ]
  },
  {
   "cell_type": "markdown",
   "metadata": {},
   "source": [
    "# **5. Skala Fitur**\n"
   ]
  },
  {
   "cell_type": "code",
   "execution_count": 77,
   "metadata": {},
   "outputs": [],
   "source": [
    "cols = X_train.columns"
   ]
  },
  {
   "cell_type": "markdown",
   "metadata": {},
   "source": [
    "Perintah ini menyimpan nama kolom dari dataset `X_train` ke dalam variabel `cols`. Variabel ini berisi daftar nama fitur yang digunakan untuk melatih model."
   ]
  },
  {
   "cell_type": "code",
   "execution_count": 78,
   "metadata": {},
   "outputs": [],
   "source": [
    "from sklearn.preprocessing import StandardScaler\n",
    "\n",
    "scaler = StandardScaler()\n",
    "\n",
    "X_train = scaler.fit_transform(X_train)\n",
    "\n",
    "X_test = scaler.transform(X_test)\n"
   ]
  },
  {
   "cell_type": "markdown",
   "metadata": {},
   "source": [
    "Kode tersebut berfungsi untuk menstandarkan data agar setiap fitur memiliki rata-rata 0 dan standar deviasi. Pertama, objek `StandardScaler` dibuat, lalu data pelatihan `X_train` diskalakan menggunakan `fit_transform`, yang menghitung dan menerapkan skala. Selanjutnya, `X_test` juga diskalakan dengan `transform` agar menggunakan skala yang sama seperti data pelatihan."
   ]
  },
  {
   "cell_type": "code",
   "execution_count": 79,
   "metadata": {},
   "outputs": [],
   "source": [
    "X_train = pd.DataFrame(X_train, columns=[cols])"
   ]
  },
  {
   "cell_type": "markdown",
   "metadata": {},
   "source": [
    "Kode tersebut mengubah `X_train` yang sudah dalam bentuk array menjadi DataFrame pandas, dengan nama kolom yang diambil dari variabel `cols`."
   ]
  },
  {
   "cell_type": "code",
   "execution_count": 80,
   "metadata": {},
   "outputs": [],
   "source": [
    "X_test = pd.DataFrame(X_test, columns=[cols])"
   ]
  },
  {
   "cell_type": "markdown",
   "metadata": {},
   "source": [
    "Kode tersebut mengubah `X_test` menjadi DataFrame pandas dan memberi nama kolom sesuai dengan variabel `cols`, sama seperti pada `X_train`."
   ]
  },
  {
   "cell_type": "code",
   "execution_count": 81,
   "metadata": {},
   "outputs": [
    {
     "data": {
      "text/html": [
       "<div>\n",
       "<style scoped>\n",
       "    .dataframe tbody tr th:only-of-type {\n",
       "        vertical-align: middle;\n",
       "    }\n",
       "\n",
       "    .dataframe tbody tr th {\n",
       "        vertical-align: top;\n",
       "    }\n",
       "\n",
       "    .dataframe thead tr th {\n",
       "        text-align: left;\n",
       "    }\n",
       "</style>\n",
       "<table border=\"1\" class=\"dataframe\">\n",
       "  <thead>\n",
       "    <tr>\n",
       "      <th></th>\n",
       "      <th>IP Mean</th>\n",
       "      <th>IP Sd</th>\n",
       "      <th>IP Kurtosis</th>\n",
       "      <th>IP Skewness</th>\n",
       "      <th>DM-SNR Mean</th>\n",
       "      <th>DM-SNR Sd</th>\n",
       "      <th>DM-SNR Kurtosis</th>\n",
       "      <th>DM-SNR Skewness</th>\n",
       "    </tr>\n",
       "  </thead>\n",
       "  <tbody>\n",
       "    <tr>\n",
       "      <th>count</th>\n",
       "      <td>1.431800e+04</td>\n",
       "      <td>1.431800e+04</td>\n",
       "      <td>1.431800e+04</td>\n",
       "      <td>1.431800e+04</td>\n",
       "      <td>1.431800e+04</td>\n",
       "      <td>1.431800e+04</td>\n",
       "      <td>1.431800e+04</td>\n",
       "      <td>1.431800e+04</td>\n",
       "    </tr>\n",
       "    <tr>\n",
       "      <th>mean</th>\n",
       "      <td>1.908113e-16</td>\n",
       "      <td>-6.550610e-16</td>\n",
       "      <td>1.042143e-17</td>\n",
       "      <td>3.870815e-17</td>\n",
       "      <td>-8.734147e-17</td>\n",
       "      <td>-1.617802e-16</td>\n",
       "      <td>-1.513588e-17</td>\n",
       "      <td>1.122785e-16</td>\n",
       "    </tr>\n",
       "    <tr>\n",
       "      <th>std</th>\n",
       "      <td>1.000035e+00</td>\n",
       "      <td>1.000035e+00</td>\n",
       "      <td>1.000035e+00</td>\n",
       "      <td>1.000035e+00</td>\n",
       "      <td>1.000035e+00</td>\n",
       "      <td>1.000035e+00</td>\n",
       "      <td>1.000035e+00</td>\n",
       "      <td>1.000035e+00</td>\n",
       "    </tr>\n",
       "    <tr>\n",
       "      <th>min</th>\n",
       "      <td>-4.035499e+00</td>\n",
       "      <td>-3.181033e+00</td>\n",
       "      <td>-2.185946e+00</td>\n",
       "      <td>-5.744051e-01</td>\n",
       "      <td>-4.239001e-01</td>\n",
       "      <td>-9.733707e-01</td>\n",
       "      <td>-2.455649e+00</td>\n",
       "      <td>-1.003411e+00</td>\n",
       "    </tr>\n",
       "    <tr>\n",
       "      <th>25%</th>\n",
       "      <td>-3.896291e-01</td>\n",
       "      <td>-6.069473e-01</td>\n",
       "      <td>-4.256221e-01</td>\n",
       "      <td>-3.188054e-01</td>\n",
       "      <td>-3.664918e-01</td>\n",
       "      <td>-6.125457e-01</td>\n",
       "      <td>-5.641035e-01</td>\n",
       "      <td>-6.627590e-01</td>\n",
       "    </tr>\n",
       "    <tr>\n",
       "      <th>50%</th>\n",
       "      <td>1.587461e-01</td>\n",
       "      <td>5.846646e-02</td>\n",
       "      <td>-2.453172e-01</td>\n",
       "      <td>-2.578142e-01</td>\n",
       "      <td>-3.372294e-01</td>\n",
       "      <td>-4.067482e-01</td>\n",
       "      <td>3.170446e-02</td>\n",
       "      <td>-2.059136e-01</td>\n",
       "    </tr>\n",
       "    <tr>\n",
       "      <th>75%</th>\n",
       "      <td>6.267059e-01</td>\n",
       "      <td>6.501017e-01</td>\n",
       "      <td>-1.001238e-02</td>\n",
       "      <td>-1.419621e-01</td>\n",
       "      <td>-2.463724e-01</td>\n",
       "      <td>1.078934e-01</td>\n",
       "      <td>5.362759e-01</td>\n",
       "      <td>3.256217e-01</td>\n",
       "    </tr>\n",
       "    <tr>\n",
       "      <th>max</th>\n",
       "      <td>3.151882e+00</td>\n",
       "      <td>7.621116e+00</td>\n",
       "      <td>7.008906e+00</td>\n",
       "      <td>1.054430e+01</td>\n",
       "      <td>7.025568e+00</td>\n",
       "      <td>4.292181e+00</td>\n",
       "      <td>5.818557e+00</td>\n",
       "      <td>1.024613e+01</td>\n",
       "    </tr>\n",
       "  </tbody>\n",
       "</table>\n",
       "</div>"
      ],
      "text/plain": [
       "            IP Mean         IP Sd   IP Kurtosis   IP Skewness   DM-SNR Mean  \\\n",
       "count  1.431800e+04  1.431800e+04  1.431800e+04  1.431800e+04  1.431800e+04   \n",
       "mean   1.908113e-16 -6.550610e-16  1.042143e-17  3.870815e-17 -8.734147e-17   \n",
       "std    1.000035e+00  1.000035e+00  1.000035e+00  1.000035e+00  1.000035e+00   \n",
       "min   -4.035499e+00 -3.181033e+00 -2.185946e+00 -5.744051e-01 -4.239001e-01   \n",
       "25%   -3.896291e-01 -6.069473e-01 -4.256221e-01 -3.188054e-01 -3.664918e-01   \n",
       "50%    1.587461e-01  5.846646e-02 -2.453172e-01 -2.578142e-01 -3.372294e-01   \n",
       "75%    6.267059e-01  6.501017e-01 -1.001238e-02 -1.419621e-01 -2.463724e-01   \n",
       "max    3.151882e+00  7.621116e+00  7.008906e+00  1.054430e+01  7.025568e+00   \n",
       "\n",
       "          DM-SNR Sd DM-SNR Kurtosis DM-SNR Skewness  \n",
       "count  1.431800e+04    1.431800e+04    1.431800e+04  \n",
       "mean  -1.617802e-16   -1.513588e-17    1.122785e-16  \n",
       "std    1.000035e+00    1.000035e+00    1.000035e+00  \n",
       "min   -9.733707e-01   -2.455649e+00   -1.003411e+00  \n",
       "25%   -6.125457e-01   -5.641035e-01   -6.627590e-01  \n",
       "50%   -4.067482e-01    3.170446e-02   -2.059136e-01  \n",
       "75%    1.078934e-01    5.362759e-01    3.256217e-01  \n",
       "max    4.292181e+00    5.818557e+00    1.024613e+01  "
      ]
     },
     "execution_count": 81,
     "metadata": {},
     "output_type": "execute_result"
    }
   ],
   "source": [
    "X_train.describe()"
   ]
  },
  {
   "cell_type": "markdown",
   "metadata": {},
   "source": [
    "Kode itu menampilkan ringkasan statistik dari data `X_train`."
   ]
  },
  {
   "cell_type": "markdown",
   "metadata": {},
   "source": [
    "Sekarang, kita memiliki dataset `X_train` yang siap untuk dimasukkan ke dalam klasifikator Logistic Regression. Saya akan melakukannya sebagai berikut."
   ]
  },
  {
   "cell_type": "markdown",
   "metadata": {},
   "source": [
    "# **6. Run SVM with default hyperparameters** \n",
    "\n",
    "Hyperparameter default berarti nilai C=1.0, kernel=`rbf`, dan gamma=`auto` di antara parameter lainnya."
   ]
  },
  {
   "cell_type": "code",
   "execution_count": 82,
   "metadata": {},
   "outputs": [
    {
     "name": "stdout",
     "output_type": "stream",
     "text": [
      "Model accuracy score with default hyperparameters: 0.9827\n"
     ]
    }
   ],
   "source": [
    "# import SVC classifier\n",
    "from sklearn.svm import SVC\n",
    "\n",
    "\n",
    "# import metrics to compute accuracy\n",
    "from sklearn.metrics import accuracy_score\n",
    "\n",
    "\n",
    "# instantiate classifier with default hyperparameters\n",
    "svc=SVC() \n",
    "\n",
    "\n",
    "# fit classifier to training set\n",
    "svc.fit(X_train,y_train)\n",
    "\n",
    "\n",
    "# make predictions on test set\n",
    "y_pred=svc.predict(X_test)\n",
    "\n",
    "\n",
    "# compute and print accuracy score\n",
    "print('Model accuracy score with default hyperparameters: {0:0.4f}'. format(accuracy_score(y_test, y_pred)))"
   ]
  },
  {
   "cell_type": "markdown",
   "metadata": {},
   "source": [
    "Kode tersebut membuat model SVM, melatihnya dengan data latih, memprediksi data uji, lalu mencetak skor akurasi dari hasil prediksi tersebut."
   ]
  },
  {
   "cell_type": "markdown",
   "metadata": {},
   "source": [
    "Hasil tersebut menunjukkan bahwa akurasi model SVM dengan parameter default adalah **98,27%**, yang berarti model mampu mengklasifikasikan data uji dengan sangat baik."
   ]
  },
  {
   "cell_type": "markdown",
   "metadata": {},
   "source": [
    "### Jalankan SVM dengan kernel rbf dan C=100.0\n",
    "\n",
    "Kita telah melihat bahwa terdapat outlier dalam dataset kita. Oleh karena itu, kita sebaiknya meningkatkan nilai C karena semakin tinggi nilai C berarti semakin sedikit outlier yang diperbolehkan.  \n",
    "Jadi, saya akan menjalankan SVM dengan kernel=`rbf` dan C=100.0."
   ]
  },
  {
   "cell_type": "code",
   "execution_count": 83,
   "metadata": {},
   "outputs": [
    {
     "name": "stdout",
     "output_type": "stream",
     "text": [
      "Model accuracy score with rbf kernel and C=100.0 : 0.9832\n"
     ]
    }
   ],
   "source": [
    "# instantiate classifier with rbf kernel and C=100\n",
    "svc=SVC(C=100.0) \n",
    "\n",
    "\n",
    "# fit classifier to training set\n",
    "svc.fit(X_train,y_train)\n",
    "\n",
    "\n",
    "# make predictions on test set\n",
    "y_pred=svc.predict(X_test)\n",
    "\n",
    "\n",
    "# compute and print accuracy score\n",
    "print('Model accuracy score with rbf kernel and C=100.0 : {0:0.4f}'. format(accuracy_score(y_test, y_pred)))"
   ]
  },
  {
   "cell_type": "markdown",
   "metadata": {},
   "source": [
    "Kode tersebut membuat model SVM dengan kernel RBF dan parameter `C=100`, melatihnya, lalu menghitung dan menampilkan akurasi prediksi pada data uji."
   ]
  },
  {
   "cell_type": "markdown",
   "metadata": {},
   "source": [
    "Kita dapat melihat bahwa kita memperoleh akurasi yang lebih tinggi dengan C=100.0 karena semakin tinggi nilai C berarti semakin sedikit outlier yang diperbolehkan.\n",
    "\n",
    "Sekarang, saya akan meningkatkan lagi nilai C menjadi 1000.0 dan memeriksa akurasinya."
   ]
  },
  {
   "cell_type": "markdown",
   "metadata": {},
   "source": [
    "### Jalankan SVM dengan kernel rbf dan C=1000.0"
   ]
  },
  {
   "cell_type": "code",
   "execution_count": 84,
   "metadata": {},
   "outputs": [
    {
     "name": "stdout",
     "output_type": "stream",
     "text": [
      "Model accuracy score with rbf kernel and C=1000.0 : 0.9816\n"
     ]
    }
   ],
   "source": [
    "# instantiate classifier with rbf kernel and C=1000\n",
    "svc=SVC(C=1000.0) \n",
    "\n",
    "\n",
    "# fit classifier to training set\n",
    "svc.fit(X_train,y_train)\n",
    "\n",
    "\n",
    "# make predictions on test set\n",
    "y_pred=svc.predict(X_test)\n",
    "\n",
    "\n",
    "# compute and print accuracy score\n",
    "print('Model accuracy score with rbf kernel and C=1000.0 : {0:0.4f}'. format(accuracy_score(y_test, y_pred)))"
   ]
  },
  {
   "cell_type": "markdown",
   "metadata": {},
   "source": [
    "Kode tersebut membuat model SVM dengan kernel RBF dan nilai `C=1000`, kemudian melatih model, memprediksi data uji, dan mencetak skor akurasinya."
   ]
  },
  {
   "cell_type": "markdown",
   "metadata": {},
   "source": [
    "Dalam kasus ini, kita dapat melihat bahwa akurasi menurun ketika menggunakan C=1000.0."
   ]
  },
  {
   "cell_type": "markdown",
   "metadata": {},
   "source": [
    "# **7. Jalankan SVM dengan kernel linear**\n",
    "\n",
    "### Jalankan SVM dengan kernel linear dan C=1.0"
   ]
  },
  {
   "cell_type": "code",
   "execution_count": 85,
   "metadata": {},
   "outputs": [
    {
     "name": "stdout",
     "output_type": "stream",
     "text": [
      "Model accuracy score with linear kernel and C=1.0 : 0.9830\n"
     ]
    }
   ],
   "source": [
    "# instantiate classifier with linear kernel and C=1.0\n",
    "linear_svc=SVC(kernel='linear', C=1.0) \n",
    "\n",
    "\n",
    "# fit classifier to training set\n",
    "linear_svc.fit(X_train,y_train)\n",
    "\n",
    "\n",
    "# make predictions on test set\n",
    "y_pred_test=linear_svc.predict(X_test)\n",
    "\n",
    "\n",
    "# compute and print accuracy score\n",
    "print('Model accuracy score with linear kernel and C=1.0 : {0:0.4f}'. format(accuracy_score(y_test, y_pred_test)))\n"
   ]
  },
  {
   "cell_type": "markdown",
   "metadata": {},
   "source": [
    "Kode ini digunakan untuk membangun, melatih, dan menguji model klasifikasi menggunakan Support Vector Machine (SVM) dengan kernel linear dan parameter regulasi C=1.0. Model dilatih pada data latih (X_train, y_train), kemudian digunakan untuk memprediksi data uji (X_test). Terakhir, akurasi dari prediksi tersebut dihitung dan ditampilkan untuk mengevaluasi seberapa baik model mengenali pola pada data yang belum pernah dilihat."
   ]
  },
  {
   "cell_type": "markdown",
   "metadata": {},
   "source": [
    "### Jalankan SVM dengan kernel linear dan C=100.0"
   ]
  },
  {
   "cell_type": "code",
   "execution_count": 86,
   "metadata": {},
   "outputs": [
    {
     "name": "stdout",
     "output_type": "stream",
     "text": [
      "Model accuracy score with linear kernel and C=100.0 : 0.9832\n"
     ]
    }
   ],
   "source": [
    "# instantiate classifier with linear kernel and C=100.0\n",
    "linear_svc100=SVC(kernel='linear', C=100.0) \n",
    "\n",
    "\n",
    "# fit classifier to training set\n",
    "linear_svc100.fit(X_train, y_train)\n",
    "\n",
    "\n",
    "# make predictions on test set\n",
    "y_pred=linear_svc100.predict(X_test)\n",
    "\n",
    "\n",
    "# compute and print accuracy score\n",
    "print('Model accuracy score with linear kernel and C=100.0 : {0:0.4f}'. format(accuracy_score(y_test, y_pred)))"
   ]
  },
  {
   "cell_type": "markdown",
   "metadata": {},
   "source": [
    "Kode ini membuat dan melatih model SVM (Support Vector Machine) dengan kernel linear dan nilai parameter C=100.0, yang berarti model lebih fokus untuk menghindari kesalahan pada data pelatihan (kurang toleran terhadap error). Setelah dilatih dengan data training, model digunakan untuk memprediksi data testing, lalu mencetak akurasi model untuk melihat seberapa baik kinerjanya."
   ]
  },
  {
   "cell_type": "markdown",
   "metadata": {},
   "source": [
    "### Jalankan SVM dengan kernel linear dan C=1000.0"
   ]
  },
  {
   "cell_type": "code",
   "execution_count": 87,
   "metadata": {},
   "outputs": [
    {
     "name": "stdout",
     "output_type": "stream",
     "text": [
      "Model accuracy score with linear kernel and C=1000.0 : 0.9832\n"
     ]
    }
   ],
   "source": [
    "# instantiate classifier with linear kernel and C=1000.0\n",
    "linear_svc1000=SVC(kernel='linear', C=1000.0) \n",
    "\n",
    "\n",
    "# fit classifier to training set\n",
    "linear_svc1000.fit(X_train, y_train)\n",
    "\n",
    "\n",
    "# make predictions on test set\n",
    "y_pred=linear_svc1000.predict(X_test)\n",
    "\n",
    "\n",
    "# compute and print accuracy score\n",
    "print('Model accuracy score with linear kernel and C=1000.0 : {0:0.4f}'. format(accuracy_score(y_test, y_pred)))"
   ]
  },
  {
   "cell_type": "markdown",
   "metadata": {},
   "source": [
    "Kode ini membuat model SVM dengan kernel linear dan parameter C=1000.0, yang membuat model semakin ketat dalam meminimalkan kesalahan pada data pelatihan (cenderung overfitting). Model ini dilatih menggunakan data training, lalu digunakan untuk memprediksi data testing. Terakhir, akurasi hasil prediksi ditampilkan untuk mengevaluasi performa model.\n",
    "\n",
    "\n",
    "\n",
    "\n",
    "\n",
    "\n",
    "\n",
    "\n"
   ]
  },
  {
   "cell_type": "markdown",
   "metadata": {},
   "source": [
    "Kita dapat melihat bahwa kita memperoleh akurasi yang lebih tinggi dengan C=100.0 dan C=1000.0 dibandingkan dengan C=1.0."
   ]
  },
  {
   "cell_type": "markdown",
   "metadata": {},
   "source": [
    "Di sini, **y_test** adalah label kelas sebenarnya dan **y_pred** adalah label kelas yang diprediksi pada data uji."
   ]
  },
  {
   "cell_type": "markdown",
   "metadata": {},
   "source": [
    "### Bandingkan akurasi train-set dan test-set\n",
    "\n",
    "Sekarang, saya akan membandingkan akurasi train-set dan test-set untuk memeriksa apakah terjadi overfitting."
   ]
  },
  {
   "cell_type": "code",
   "execution_count": 88,
   "metadata": {},
   "outputs": [
    {
     "data": {
      "text/plain": [
       "array([0, 0, 1, ..., 0, 0, 0], shape=(14318,))"
      ]
     },
     "execution_count": 88,
     "metadata": {},
     "output_type": "execute_result"
    }
   ],
   "source": [
    "y_pred_train = linear_svc.predict(X_train)\n",
    "\n",
    "y_pred_train"
   ]
  },
  {
   "cell_type": "markdown",
   "metadata": {},
   "source": [
    "Kode ini digunakan untuk memprediksi hasil klasifikasi pada data training (X_train) menggunakan model SVM yang sudah dilatih sebelumnya (linear_svc). Hasil prediksinya disimpan di variabel y_pred_train, yang berisi label-label hasil prediksi pada data training tersebut. Ini biasanya dilakukan untuk membandingkan performa model di data training dan testing "
   ]
  },
  {
   "cell_type": "code",
   "execution_count": 89,
   "metadata": {},
   "outputs": [
    {
     "name": "stdout",
     "output_type": "stream",
     "text": [
      "Training-set accuracy score: 0.9783\n"
     ]
    }
   ],
   "source": [
    "print('Training-set accuracy score: {0:0.4f}'. format(accuracy_score(y_train, y_pred_train)))"
   ]
  },
  {
   "cell_type": "markdown",
   "metadata": {},
   "source": [
    "Kode ini mencetak akurasi model pada data training, yaitu seberapa akurat prediksi model (y_pred_train) dibandingkan dengan label asli (y_train). Nilai ini menunjukkan seberapa baik model memahami pola pada data yang digunakan untuk melatihnya. Jika nilai akurasinya sangat tinggi, tetapi akurasi di data testing jauh lebih rendah, itu bisa jadi indikasi model overfitting."
   ]
  },
  {
   "cell_type": "markdown",
   "metadata": {},
   "source": [
    "Kita dapat melihat bahwa akurasi pada train-set dan test-set sangatlah sebanding."
   ]
  },
  {
   "cell_type": "markdown",
   "metadata": {},
   "source": [
    "### Periksa untuk overfitting dan underfitting"
   ]
  },
  {
   "cell_type": "code",
   "execution_count": 90,
   "metadata": {},
   "outputs": [
    {
     "name": "stdout",
     "output_type": "stream",
     "text": [
      "Training set score: 0.9783\n",
      "Test set score: 0.9830\n"
     ]
    }
   ],
   "source": [
    "# print the scores on training and test set\n",
    "\n",
    "print('Training set score: {:.4f}'.format(linear_svc.score(X_train, y_train)))\n",
    "\n",
    "print('Test set score: {:.4f}'.format(linear_svc.score(X_test, y_test)))"
   ]
  },
  {
   "cell_type": "markdown",
   "metadata": {},
   "source": [
    "Kode ini mencetak skor akurasi model pada data training dan data testing secara langsung menggunakan metode .score() dari model linear_svc.\n",
    "Baris pertama menunjukkan seberapa baik model mempelajari pola dari data training.\n",
    "Baris kedua menunjukkan seberapa baik model bisa memprediksi data baru (data testing).\n",
    "\n",
    "Hasil ini penting untuk melihat keseimbangan performa model antara pelatihan dan pengujian dan untuk mendeteksi apakah model mengalami underfitting atau overfitting. \n",
    "\n",
    "    1.Tidak terjadi overfitting, karena model tidak hanya menghafal data latih.\n",
    "\n",
    "    2.Tidak terjadi underfitting, karena model mampu mengenali pola dengan baik di kedua data.\n",
    "\n",
    "Kesimpulannya, model ini terlatih dengan baik dan seimbang."
   ]
  },
  {
   "cell_type": "markdown",
   "metadata": {},
   "source": [
    "Akurasi pada training-set adalah 0.9783, sementara akurasi pada test-set adalah 0.9830. Kedua nilai ini cukup sebanding. Jadi, tidak ada tanda-tanda overfitting."
   ]
  },
  {
   "cell_type": "markdown",
   "metadata": {},
   "source": [
    "### Bandingkan akurasi model dengan akurasi nol\n",
    "\n",
    "Jadi, akurasi model adalah 0.9832. Namun, kita tidak bisa langsung mengatakan bahwa model kita sangat baik hanya berdasarkan akurasi tersebut. Kita harus membandingkannya dengan **akurasi nol**. Akurasi nol adalah akurasi yang dapat dicapai dengan selalu memprediksi kelas yang paling sering muncul.\n",
    "\n",
    "Jadi, kita sebaiknya memeriksa distribusi kelas di dalam test-set terlebih dahulu."
   ]
  },
  {
   "cell_type": "code",
   "execution_count": 91,
   "metadata": {},
   "outputs": [
    {
     "data": {
      "text/plain": [
       "target_class\n",
       "0    3306\n",
       "1     274\n",
       "Name: count, dtype: int64"
      ]
     },
     "execution_count": 91,
     "metadata": {},
     "output_type": "execute_result"
    }
   ],
   "source": [
    "# check class distribution in test set\n",
    "\n",
    "y_test.value_counts()"
   ]
  },
  {
   "cell_type": "markdown",
   "metadata": {},
   "source": [
    "Kode ini menampilkan jumlah sampel untuk setiap kelas di data uji (y_test), sehingga kita dapat melihat distribusi kelasnya. Dengan y_test.value_counts(), kita tahu berapa banyak contoh masing‑masing label, yang penting untuk menilai apakah data uji seimbang atau tidak."
   ]
  },
  {
   "cell_type": "markdown",
   "metadata": {},
   "source": [
    "Kita dapat melihat bahwa jumlah kemunculan kelas yang paling sering, yaitu kelas `0`, adalah 3306. Jadi, kita dapat menghitung akurasi nol dengan membagi 3306 dengan total jumlah kemunculan (jumlah total data dalam test-set)."
   ]
  },
  {
   "cell_type": "code",
   "execution_count": 92,
   "metadata": {},
   "outputs": [
    {
     "name": "stdout",
     "output_type": "stream",
     "text": [
      "Null accuracy score: 0.9235\n"
     ]
    }
   ],
   "source": [
    "# check null accuracy score\n",
    "\n",
    "null_accuracy = (3306/(3306+274))\n",
    "\n",
    "print('Null accuracy score: {0:0.4f}'. format(null_accuracy))"
   ]
  },
  {
   "cell_type": "markdown",
   "metadata": {},
   "source": [
    "Kode ini menghitung null accuracy score, yang mengukur akurasi model jika kita hanya memprediksi kelas yang paling sering muncul di data. Dalam hal ini, angka 3306 mewakili jumlah sampel di kelas mayoritas, dan 274 adalah jumlah sampel di kelas minoritas.\n",
    "\n",
    "Null accuracy score digunakan sebagai baseline untuk membandingkan performa model. Jika model kita tidak lebih baik dari nilai ini, artinya model tersebut tidak memberikan kontribusi signifikan dalam melakukan prediksi.\n",
    "\n",
    "Hasil dari kode ini mencetak skor akurasi null accuracy, yang menunjukkan persentase kelas mayoritas dalam data."
   ]
  },
  {
   "cell_type": "markdown",
   "metadata": {},
   "source": [
    "Kita dapat melihat bahwa skor akurasi model kita adalah 0.9830, sementara skor akurasi nol adalah 0.9235. Jadi, kita dapat menyimpulkan bahwa klasifikator SVM kita bekerja dengan sangat baik dalam memprediksi label kelas."
   ]
  },
  {
   "cell_type": "markdown",
   "metadata": {},
   "source": [
    "# **8.Jalankan SVM dengan kernel polinomial dan C=1.0**\n",
    "\n",
    "Sekarang, saya akan menjalankan SVM dengan kernel polinomial dan nilai C=1.0."
   ]
  },
  {
   "cell_type": "code",
   "execution_count": 93,
   "metadata": {},
   "outputs": [
    {
     "name": "stdout",
     "output_type": "stream",
     "text": [
      "Model accuracy score with polynomial kernel and C=1.0 : 0.9807\n"
     ]
    }
   ],
   "source": [
    "# instantiate classifier with polynomial kernel and C=1.0\n",
    "poly_svc=SVC(kernel='poly', C=1.0) \n",
    "\n",
    "\n",
    "# fit classifier to training set\n",
    "poly_svc.fit(X_train,y_train)\n",
    "\n",
    "\n",
    "# make predictions on test set\n",
    "y_pred=poly_svc.predict(X_test)\n",
    "\n",
    "\n",
    "# compute and print accuracy score\n",
    "print('Model accuracy score with polynomial kernel and C=1.0 : {0:0.4f}'. format(accuracy_score(y_test, y_pred)))\n"
   ]
  },
  {
   "cell_type": "markdown",
   "metadata": {},
   "source": [
    "Kode ini membuat model Support Vector Machine (SVM) dengan kernel polynomial dan parameter C=1.0. Kernel polynomial digunakan untuk menangani data yang lebih kompleks, yang tidak bisa dipisahkan dengan garis lurus (seperti pada kernel linear). Setelah model dilatih menggunakan data pelatihan (X_train, y_train), model ini digunakan untuk memprediksi hasil pada data uji (X_test), dan kemudian akurasi dari prediksi tersebut dihitung dan ditampilkan.\n",
    "\n",
    "Akurasi ini memberi tahu kita seberapa baik model mampu memprediksi data uji berdasarkan pola yang telah dipelajari dari data pelatihan."
   ]
  },
  {
   "cell_type": "markdown",
   "metadata": {},
   "source": [
    " ### Run SVM with polynomial kern### Jalankan SVM dengan kernel polinomial dan C=100.0\n",
    "\n",
    "Sekarang, saya akan menjalankan SVM dengan kernel polinomial dan nilai C=100.0.el and C=100.0"
   ]
  },
  {
   "cell_type": "code",
   "execution_count": 94,
   "metadata": {},
   "outputs": [
    {
     "name": "stdout",
     "output_type": "stream",
     "text": [
      "Model accuracy score with polynomial kernel and C=1.0 : 0.9824\n"
     ]
    }
   ],
   "source": [
    "# instantiate classifier with polynomial kernel and C=100.0\n",
    "poly_svc100=SVC(kernel='poly', C=100.0) \n",
    "\n",
    "\n",
    "# fit classifier to training set\n",
    "poly_svc100.fit(X_train, y_train)\n",
    "\n",
    "\n",
    "# make predictions on test set\n",
    "y_pred=poly_svc100.predict(X_test)\n",
    "\n",
    "\n",
    "# compute and print accuracy score\n",
    "print('Model accuracy score with polynomial kernel and C=1.0 : {0:0.4f}'. format(accuracy_score(y_test, y_pred)))"
   ]
  },
  {
   "cell_type": "markdown",
   "metadata": {},
   "source": [
    "Kode ini membuat model Support Vector Machine dengan kernel polynomial dan parameter C=100.0, kemudian:\n",
    "\n",
    "    Melatih model tersebut menggunakan data latih (X_train, y_train)\n",
    "\n",
    "    Menggunakan model untuk memprediksi label data uji (X_test)\n",
    "\n",
    "    Menghitung dan menampilkan akurasi prediksi pada data uji\n",
    "\n",
    "Dengan begitu, kita bisa mengetahui seberapa baik model polynomial SVM dengan C=100.0 mengenali pola pada data."
   ]
  },
  {
   "cell_type": "markdown",
   "metadata": {},
   "source": [
    "Kernel polinomial memberikan kinerja yang kurang baik. Hal ini mungkin disebabkan oleh overfitting pada training set."
   ]
  },
  {
   "cell_type": "markdown",
   "metadata": {},
   "source": [
    "# **9.Jalankan SVM dengan kernel sigmoid dan C=1.0**\n",
    "\n",
    "Sekarang, saya akan menjalankan SVM dengan kernel sigmoid dan nilai C=1.0."
   ]
  },
  {
   "cell_type": "code",
   "execution_count": 95,
   "metadata": {},
   "outputs": [
    {
     "name": "stdout",
     "output_type": "stream",
     "text": [
      "Model accuracy score with sigmoid kernel and C=1.0 : 0.8858\n"
     ]
    }
   ],
   "source": [
    "# instantiate classifier with sigmoid kernel and C=1.0\n",
    "sigmoid_svc=SVC(kernel='sigmoid', C=1.0) \n",
    "\n",
    "\n",
    "# fit classifier to training set\n",
    "sigmoid_svc.fit(X_train,y_train)\n",
    "\n",
    "\n",
    "# make predictions on test set\n",
    "y_pred=sigmoid_svc.predict(X_test)\n",
    "\n",
    "\n",
    "# compute and print accuracy score\n",
    "print('Model accuracy score with sigmoid kernel and C=1.0 : {0:0.4f}'. format(accuracy_score(y_test, y_pred)))\n"
   ]
  },
  {
   "cell_type": "markdown",
   "metadata": {},
   "source": [
    "Dengan kode ini kita menginisialisasi SVM dengan kernel sigmoid dan C=1.0, melatih model pada data training (X_train, y_train), memprediksi label data testing (X_test), lalu menghitung dan menampilkan akurasi model."
   ]
  },
  {
   "cell_type": "markdown",
   "metadata": {},
   "source": [
    "### Jalankan SVM dengan kernel sigmoid dan C=100.0\n",
    "\n",
    "Sekarang, saya akan menjalankan SVM dengan kernel sigmoid dan nilai C=100.0."
   ]
  },
  {
   "cell_type": "code",
   "execution_count": 96,
   "metadata": {},
   "outputs": [
    {
     "name": "stdout",
     "output_type": "stream",
     "text": [
      "Model accuracy score with sigmoid kernel and C=100.0 : 0.8855\n"
     ]
    }
   ],
   "source": [
    "# instantiate classifier with sigmoid kernel and C=100.0\n",
    "sigmoid_svc100=SVC(kernel='sigmoid', C=100.0) \n",
    "\n",
    "\n",
    "# fit classifier to training set\n",
    "sigmoid_svc100.fit(X_train,y_train)\n",
    "\n",
    "\n",
    "# make predictions on test set\n",
    "y_pred=sigmoid_svc100.predict(X_test)\n",
    "\n",
    "\n",
    "# compute and print accuracy score\n",
    "print('Model accuracy score with sigmoid kernel and C=100.0 : {0:0.4f}'. format(accuracy_score(y_test, y_pred)))\n"
   ]
  },
  {
   "cell_type": "markdown",
   "metadata": {},
   "source": [
    "Dengan kode ini kita menginisialisasi SVM dengan kernel sigmoid dan C=100.0, melatih model pada data training (X_train, y_train), memprediksi label untuk data testing (X_test), lalu menghitung dan menampilkan akurasi model."
   ]
  },
  {
   "cell_type": "markdown",
   "metadata": {},
   "source": [
    "Kita dapat melihat bahwa kernel sigmoid juga menunjukkan kinerja yang buruk, sama seperti dengan kernel polinomial."
   ]
  },
  {
   "cell_type": "markdown",
   "metadata": {},
   "source": [
    "### Komentar\n",
    "\n",
    "Kita mendapatkan akurasi maksimum dengan kernel `rbf` dan `linear` dengan C=100.0, yang menghasilkan akurasi sebesar 0.9832. Berdasarkan analisis di atas, kita dapat menyimpulkan bahwa akurasi model klasifikasi kita sangat baik. Model kita melakukan pekerjaan yang sangat baik dalam hal memprediksi label kelas.\n",
    "\n",
    "Namun, ini tidak sepenuhnya benar. Di sini, kita memiliki dataset yang tidak seimbang. Masalahnya adalah bahwa akurasi adalah ukuran yang tidak memadai untuk mengukur kinerja prediktif dalam masalah dataset yang tidak seimbang.\n",
    "\n",
    "Jadi, kita harus menjelajahi metrik alternatif yang memberikan panduan lebih baik dalam memilih model. Secara khusus, kita ingin mengetahui distribusi nilai yang mendasarinya dan jenis kesalahan yang dibuat oleh klasifikator kita.\n",
    "\n",
    "Salah satu metrik untuk menganalisis kinerja model dalam masalah kelas yang tidak seimbang adalah **Confusion matrix**."
   ]
  },
  {
   "cell_type": "markdown",
   "metadata": {},
   "source": [
    "### **10. Confusion matrix** \n",
    "\n",
    "Confusion matrix adalah alat untuk merangkum kinerja algoritma klasifikasi. Matriks kebingungan akan memberikan gambaran jelas tentang kinerja model klasifikasi dan jenis kesalahan yang dihasilkan oleh model tersebut. Matriks ini memberikan ringkasan dari prediksi yang benar dan salah yang dibagi menurut setiap kategori. Ringkasan ini disajikan dalam bentuk tabel.\n",
    "\n",
    "Ada empat jenis hasil yang mungkin terjadi saat mengevaluasi kinerja model klasifikasi. Keempat hasil ini dijelaskan sebagai berikut:\n",
    "\n",
    "**True Positives (TP)** – True Positives terjadi ketika kita memprediksi bahwa suatu observasi termasuk dalam kelas tertentu dan observasi tersebut memang termasuk dalam kelas tersebut.\n",
    "\n",
    "**True Negatives (TN)** – True Negatives terjadi ketika kita memprediksi bahwa suatu observasi tidak termasuk dalam kelas tertentu dan observasi tersebut memang tidak termasuk dalam kelas tersebut.\n",
    "\n",
    "**False Positives (FP)** – False Positives terjadi ketika kita memprediksi bahwa suatu observasi termasuk dalam kelas tertentu, tetapi observasi tersebut sebenarnya tidak termasuk dalam kelas tersebut. Jenis kesalahan ini disebut **Kesalahan Tipe I.**\n",
    "\n",
    "**False Negatives (FN)** – False Negatives terjadi ketika kita memprediksi bahwa suatu observasi tidak termasuk dalam kelas tertentu, tetapi observasi tersebut sebenarnya termasuk dalam kelas tersebut. Ini adalah kesalahan yang sangat serius dan disebut **Kesalahan Tipe II.**\n",
    "\n",
    "Keempat hasil ini dirangkum dalam Confusion matrix seperti yang ditunjukkan di bawah ini."
   ]
  },
  {
   "cell_type": "code",
   "execution_count": 97,
   "metadata": {},
   "outputs": [
    {
     "name": "stdout",
     "output_type": "stream",
     "text": [
      "Confusion matrix\n",
      "\n",
      " [[3289   17]\n",
      " [  44  230]]\n",
      "\n",
      "True Positives(TP) =  3289\n",
      "\n",
      "True Negatives(TN) =  230\n",
      "\n",
      "False Positives(FP) =  17\n",
      "\n",
      "False Negatives(FN) =  44\n"
     ]
    }
   ],
   "source": [
    "# Print the Confusion Matrix and slice it into four pieces\n",
    "\n",
    "from sklearn.metrics import confusion_matrix\n",
    "\n",
    "cm = confusion_matrix(y_test, y_pred_test)\n",
    "\n",
    "print('Confusion matrix\\n\\n', cm)\n",
    "\n",
    "print('\\nTrue Positives(TP) = ', cm[0,0])\n",
    "\n",
    "print('\\nTrue Negatives(TN) = ', cm[1,1])\n",
    "\n",
    "print('\\nFalse Positives(FP) = ', cm[0,1])\n",
    "\n",
    "print('\\nFalse Negatives(FN) = ', cm[1,0])"
   ]
  },
  {
   "cell_type": "markdown",
   "metadata": {},
   "source": [
    "Dengan kode ini kita menghitung dan mencetak confusion matrix, lalu membagi hasilnya menjadi empat bagian: True Positives (TP), True Negatives (TN), False Positives (FP), dan False Negatives (FN). Confusion matrix ini membantu kita memahami bagaimana model melakukan prediksi dengan membandingkan hasil prediksi dengan label asli pada data uji."
   ]
  },
  {
   "cell_type": "markdown",
   "metadata": {},
   "source": [
    "confusion matrix menunjukkan bahwa ada `3289 + 230 = 3519 prediksi yang benar` dan `17 + 44 = 61 prediksi yang salah`.\n",
    "\n",
    "Dalam kasus ini, kita memiliki:\n",
    "\n",
    "- **True Positives** (Positif Sebenarnya: 1 dan Prediksi Positif: 1) - 3289\n",
    "- **True Negatives** (Negatif Sebenarnya: 0 dan Prediksi Negatif: 0) - 230\n",
    "- **False Positives** (Negatif Sebenarnya: 0 tetapi Prediksi Positif: 1) - 17 `(Kesalahan Tipe I)`\n",
    "- **False Negatives** (Positif Sebenarnya: 1 tetapi Prediksi Negatif: 0) - 44 `(Kesalahan Tipe II)`"
   ]
  },
  {
   "cell_type": "code",
   "execution_count": 98,
   "metadata": {},
   "outputs": [
    {
     "data": {
      "text/plain": [
       "<Axes: >"
      ]
     },
     "execution_count": 98,
     "metadata": {},
     "output_type": "execute_result"
    },
    {
     "data": {
      "image/png": "[encoded data removed]",
      "text/plain": [
       "<Figure size 640x480 with 2 Axes>"
      ]
     },
     "metadata": {},
     "output_type": "display_data"
    }
   ],
   "source": [
    "# visualize confusion matrix with seaborn heatmap\n",
    "\n",
    "cm_matrix = pd.DataFrame(data=cm, columns=['Actual Positive:1', 'Actual Negative:0'], \n",
    "                                 index=['Predict Positive:1', 'Predict Negative:0'])\n",
    "\n",
    "sns.heatmap(cm_matrix, annot=True, fmt='d', cmap='YlGnBu')"
   ]
  },
  {
   "cell_type": "markdown",
   "metadata": {},
   "source": [
    "Dengan kode ini kita memvisualisasikan confusion matrix menggunakan heatmap dari seaborn. Matriks ini ditampilkan dengan label yang menunjukkan kelas positif dan negatif baik pada label asli (Actual) maupun prediksi (Predict), sehingga memudahkan untuk melihat distribusi hasil prediksi model dalam bentuk yang lebih intuitif.\n",
    "\n",
    "\n",
    "\n",
    "\n",
    "\n",
    "\n",
    "\n",
    "\n"
   ]
  },
  {
   "cell_type": "markdown",
   "metadata": {},
   "source": [
    "# **11. Classification metrices** "
   ]
  },
  {
   "cell_type": "markdown",
   "metadata": {},
   "source": [
    "###  Classification Report\n",
    "\n",
    "** Classification Report** adalah cara lain untuk mengevaluasi kinerja model klasifikasi. Laporan ini menampilkan skor **precision**, **recall**, **f1**, dan **support** untuk model. Berikut adalah penjelasan tentang istilah-istilah ini:\n",
    "\n",
    "- **Precision**: Menunjukkan seberapa banyak prediksi positif yang benar dibandingkan dengan total prediksi positif. Formula:  \n",
    "  \\[ \\text{Precision} = \\frac{TP}{TP + FP} \\]\n",
    "  \n",
    "- **Recall**: Menunjukkan seberapa banyak prediksi positif yang benar dibandingkan dengan total kelas positif yang sebenarnya. Formula:  \n",
    "  \\[ \\text{Recall} = \\frac{TP}{TP + FN} \\]\n",
    "  \n",
    "- **F1-score**: Merupakan rata-rata harmonis antara precision dan recall. Formula:  \n",
    "  \\[ \\text{F1-score} = \\frac{2 \\times \\text{Precision} \\times \\text{Recall}}{\\text{Precision} + \\text{Recall}} \\]\n",
    "  \n",
    "- **Support**: Jumlah kemunculan setiap kelas dalam dataset.\n",
    "\n",
    "Untuk mencetak  Classification Report, kita dapat menggunakan kode berikut: \n"
   ]
  },
  {
   "cell_type": "code",
   "execution_count": 99,
   "metadata": {},
   "outputs": [
    {
     "name": "stdout",
     "output_type": "stream",
     "text": [
      "              precision    recall  f1-score   support\n",
      "\n",
      "           0       0.99      0.99      0.99      3306\n",
      "           1       0.93      0.84      0.88       274\n",
      "\n",
      "    accuracy                           0.98      3580\n",
      "   macro avg       0.96      0.92      0.94      3580\n",
      "weighted avg       0.98      0.98      0.98      3580\n",
      "\n"
     ]
    }
   ],
   "source": [
    "from sklearn.metrics import classification_report\n",
    "\n",
    "print(classification_report(y_test, y_pred_test))"
   ]
  },
  {
   "cell_type": "markdown",
   "metadata": {},
   "source": [
    "Dengan kode ini kita mencetak classification report, yang memberikan metrik evaluasi seperti precision, recall, f1-score, dan support untuk masing-masing kelas. Metrik-metrik ini membantu kita menilai performa model secara lebih rinci, selain hanya akurasi, dengan memperhatikan keseimbangan antara hasil positif dan negatif yang diprediksi."
   ]
  },
  {
   "cell_type": "markdown",
   "metadata": {},
   "source": [
    "### Classification accuracy"
   ]
  },
  {
   "cell_type": "code",
   "execution_count": 100,
   "metadata": {},
   "outputs": [],
   "source": [
    "TP = cm[0,0]\n",
    "TN = cm[1,1]\n",
    "FP = cm[0,1]\n",
    "FN = cm[1,0]"
   ]
  },
  {
   "cell_type": "markdown",
   "metadata": {},
   "source": [
    "Dengan kode ini kita mengakses dan menyimpan nilai-nilai dari confusion matrix ke dalam variabel yang lebih spesifik:\n",
    "\n",
    "    TP (True Positives) diambil dari elemen [0,0],\n",
    "\n",
    "    TN (True Negatives) diambil dari elemen [1,1],\n",
    "\n",
    "    FP (False Positives) diambil dari elemen [0,1],\n",
    "\n",
    "    FN (False Negatives) diambil dari elemen [1,0].\n",
    "\n",
    "Nilai-nilai ini digunakan untuk menghitung metrik evaluasi model seperti precision, recall, dan f1-score."
   ]
  },
  {
   "cell_type": "code",
   "execution_count": 101,
   "metadata": {},
   "outputs": [
    {
     "name": "stdout",
     "output_type": "stream",
     "text": [
      "Classification accuracy : 0.9830\n"
     ]
    }
   ],
   "source": [
    "# print classification accuracy\n",
    "\n",
    "classification_accuracy = (TP + TN) / float(TP + TN + FP + FN)\n",
    "\n",
    "print('Classification accuracy : {0:0.4f}'.format(classification_accuracy))\n"
   ]
  },
  {
   "cell_type": "markdown",
   "metadata": {},
   "source": [
    "Dengan kode ini kita menghitung akurasi klasifikasi secara manual dengan rumus (TP + TN) / (TP + TN + FP + FN). Akurasi ini mengukur seberapa banyak prediksi yang benar dibandingkan dengan seluruh total prediksi, baik yang benar maupun salah. Hasilnya dicetak dengan format 4 angka desimal."
   ]
  },
  {
   "cell_type": "markdown",
   "metadata": {},
   "source": [
    "### Classification error"
   ]
  },
  {
   "cell_type": "code",
   "execution_count": 102,
   "metadata": {},
   "outputs": [
    {
     "name": "stdout",
     "output_type": "stream",
     "text": [
      "Classification error : 0.0170\n"
     ]
    }
   ],
   "source": [
    "# print classification error\n",
    "\n",
    "classification_error = (FP + FN) / float(TP + TN + FP + FN)\n",
    "\n",
    "print('Classification error : {0:0.4f}'.format(classification_error))\n"
   ]
  },
  {
   "cell_type": "markdown",
   "metadata": {},
   "source": [
    "Dengan kode ini kita menghitung error klasifikasi secara manual dengan rumus (FP + FN) / (TP + TN + FP + FN). Error klasifikasi ini mengukur proporsi prediksi yang salah, yaitu jumlah false positives dan false negatives dibagi dengan total prediksi yang dilakukan. Hasilnya dicetak dengan format 4 angka desimal."
   ]
  },
  {
   "cell_type": "markdown",
   "metadata": {},
   "source": [
    "### Precision\n",
    "\n",
    "**Precision** dapat didefinisikan sebagai persentase hasil positif yang diprediksi dengan benar dari semua hasil yang diprediksi positif. Precision dapat dihitung sebagai rasio antara true positives (TP) dengan jumlah antara true positives (TP) dan false positives (TP + FP).\n",
    "\n",
    "Jadi, **Precision** mengidentifikasi proporsi dari hasil positif yang diprediksi dengan benar. Precision lebih memperhatikan kelas positif daripada kelas negatif.\n",
    "\n",
    "Secara matematis, precision dapat didefinisikan sebagai rasio antara `TP` dengan `(TP + FP)`."
   ]
  },
  {
   "cell_type": "code",
   "execution_count": 103,
   "metadata": {},
   "outputs": [
    {
     "name": "stdout",
     "output_type": "stream",
     "text": [
      "Precision : 0.9949\n"
     ]
    }
   ],
   "source": [
    "# print precision score\n",
    "\n",
    "precision = TP / float(TP + FP)\n",
    "\n",
    "\n",
    "print('Precision : {0:0.4f}'.format(precision))\n"
   ]
  },
  {
   "cell_type": "markdown",
   "metadata": {},
   "source": [
    "Dengan kode ini kita menghitung precision dengan rumus TP / (TP + FP). Precision mengukur seberapa banyak prediksi positif yang benar (True Positives) dibandingkan dengan seluruh prediksi positif yang dilakukan oleh model (termasuk False Positives). Hasilnya dicetak dengan format 4 angka desimal."
   ]
  },
  {
   "cell_type": "markdown",
   "metadata": {},
   "source": [
    "### Recall\n",
    "\n",
    "**Recall** dapat didefinisikan sebagai persentase hasil positif yang diprediksi dengan benar dari semua hasil positif yang sebenarnya. Recall dapat dihitung sebagai rasio antara true positives (TP) dengan jumlah antara true positives (TP) dan false negatives (TP + FN). **Recall** juga disebut **Sensitivitas**.\n",
    "\n",
    "**Recall** mengidentifikasi proporsi hasil positif yang sebenarnya yang diprediksi dengan benar.\n",
    "\n",
    "Secara matematis, **recall** dapat didefinisikan sebagai rasio antara `TP` dengan `(TP + FN)`."
   ]
  },
  {
   "cell_type": "code",
   "execution_count": 104,
   "metadata": {},
   "outputs": [
    {
     "name": "stdout",
     "output_type": "stream",
     "text": [
      "Recall or Sensitivity : 0.9868\n"
     ]
    }
   ],
   "source": [
    "recall = TP / float(TP + FN)\n",
    "\n",
    "print('Recall or Sensitivity : {0:0.4f}'.format(recall))"
   ]
  },
  {
   "cell_type": "markdown",
   "metadata": {},
   "source": [
    "Dengan kode ini kita menghitung recall (atau sensitivitas) dengan rumus TP / (TP + FN). Recall mengukur seberapa banyak prediksi positif yang benar (True Positives) dibandingkan dengan seluruh kasus positif yang sebenarnya (termasuk False Negatives)."
   ]
  },
  {
   "cell_type": "markdown",
   "metadata": {},
   "source": [
    "### True Positive Rate\n",
    "\n",
    "**True Positive Rate** (TPR) adalah sinonim dari **Recall**."
   ]
  },
  {
   "cell_type": "code",
   "execution_count": 105,
   "metadata": {},
   "outputs": [
    {
     "name": "stdout",
     "output_type": "stream",
     "text": [
      "True Positive Rate : 0.9868\n"
     ]
    }
   ],
   "source": [
    "true_positive_rate = TP / float(TP + FN)\n",
    "\n",
    "\n",
    "print('True Positive Rate : {0:0.4f}'.format(true_positive_rate))"
   ]
  },
  {
   "cell_type": "markdown",
   "metadata": {},
   "source": [
    "Dengan kode ini kita menghitung True Positive Rate (TPR) atau recall dengan rumus TP / (TP + FN). TPR mengukur proporsi dari seluruh kasus positif yang berhasil diprediksi dengan benar sebagai positif oleh model. "
   ]
  },
  {
   "cell_type": "markdown",
   "metadata": {},
   "source": [
    "### False Positive Rate"
   ]
  },
  {
   "cell_type": "code",
   "execution_count": 106,
   "metadata": {},
   "outputs": [
    {
     "name": "stdout",
     "output_type": "stream",
     "text": [
      "False Positive Rate : 0.0688\n"
     ]
    }
   ],
   "source": [
    "false_positive_rate = FP / float(FP + TN)\n",
    "\n",
    "\n",
    "print('False Positive Rate : {0:0.4f}'.format(false_positive_rate))"
   ]
  },
  {
   "cell_type": "markdown",
   "metadata": {},
   "source": [
    "Dengan kode ini kita menghitung False Positive Rate (FPR) dengan rumus FP / (FP + TN). FPR mengukur proporsi dari seluruh kasus negatif yang salah diprediksi sebagai positif oleh model."
   ]
  },
  {
   "cell_type": "markdown",
   "metadata": {},
   "source": [
    "### Specificity"
   ]
  },
  {
   "cell_type": "code",
   "execution_count": 107,
   "metadata": {},
   "outputs": [
    {
     "name": "stdout",
     "output_type": "stream",
     "text": [
      "Specificity : 0.9312\n"
     ]
    }
   ],
   "source": [
    "specificity = TN / (TN + FP)\n",
    "\n",
    "print('Specificity : {0:0.4f}'.format(specificity))"
   ]
  },
  {
   "cell_type": "markdown",
   "metadata": {},
   "source": [
    "Dengan kode ini kita menghitung Specificity (atau True Negative Rate) dengan rumus TN / (TN + FP). Specificity mengukur proporsi dari seluruh kasus negatif yang berhasil diprediksi dengan benar sebagai negatif oleh model."
   ]
  },
  {
   "cell_type": "markdown",
   "metadata": {},
   "source": [
    "### f1-score\n",
    "\n",
    "**f1-score** adalah rata-rata harmonik tertimbang dari precision dan recall. Nilai terbaik dari **f1-score** adalah 1.0, dan nilai terburuknya adalah 0.0. **f1-score** merupakan rata-rata harmonik dari precision dan recall, sehingga **f1-score** selalu lebih rendah dibandingkan dengan ukuran akurasi karena menggabungkan precision dan recall dalam perhitungannya. Rata-rata tertimbang dari `f1-score` harus digunakan untuk membandingkan model klasifikasi, bukan akurasi global."
   ]
  },
  {
   "cell_type": "markdown",
   "metadata": {},
   "source": [
    "### Support\n",
    "\n",
    "**Support** adalah jumlah sebenarnya dari kemunculan kelas dalam dataset kita."
   ]
  },
  {
   "cell_type": "markdown",
   "metadata": {},
   "source": [
    "# **12. ROC - AUC** \n",
    "\n",
    "### ROC Curve\n",
    "\n",
    "Alat lain untuk mengukur kinerja model klasifikasi secara visual adalah **ROC Curve**. ROC Curve adalah singkatan dari **Receiver Operating Characteristic Curve**. **ROC Curve** adalah grafik yang menunjukkan kinerja model klasifikasi pada berbagai level ambang klasifikasi.\n",
    "\n",
    "**ROC Curve** memplot **True Positive Rate (TPR)** terhadap **False Positive Rate (FPR)** pada berbagai level ambang.\n",
    "\n",
    "**True Positive Rate (TPR)** juga disebut sebagai **Recall**. Ini didefinisikan sebagai rasio `TP` terhadap `(TP + FN)`.\n",
    "\n",
    "**False Positive Rate (FPR)** didefinisikan sebagai rasio `FP` terhadap `(FP + TN)`.\n",
    "\n",
    "Pada **ROC Curve**, kita akan fokus pada TPR (True Positive Rate) dan FPR (False Positive Rate) pada satu titik tertentu. Ini akan memberikan gambaran umum tentang kinerja kurva ROC yang terdiri dari TPR dan FPR pada berbagai level ambang klasifikasi. Jika kita menurunkan level ambang, itu dapat menghasilkan lebih banyak item yang diklasifikasikan sebagai positif. Hal ini akan meningkatkan baik True Positives (TP) maupun False Positives (FP)."
   ]
  },
  {
   "cell_type": "code",
   "execution_count": 108,
   "metadata": {},
   "outputs": [
    {
     "data": {
      "image/png": "[encoded data removed]",
      "text/plain": [
       "<Figure size 600x400 with 1 Axes>"
      ]
     },
     "metadata": {},
     "output_type": "display_data"
    }
   ],
   "source": [
    "# plot ROC Curve\n",
    "\n",
    "from sklearn.metrics import roc_curve\n",
    "\n",
    "fpr, tpr, thresholds = roc_curve(y_test, y_pred_test)\n",
    "\n",
    "plt.figure(figsize=(6,4))\n",
    "\n",
    "plt.plot(fpr, tpr, linewidth=2)\n",
    "\n",
    "plt.plot([0,1], [0,1], 'k--' )\n",
    "\n",
    "plt.rcParams['font.size'] = 12\n",
    "\n",
    "plt.title('ROC curve for Predicting a Pulsar Star classifier')\n",
    "\n",
    "plt.xlabel('False Positive Rate (1 - Specificity)')\n",
    "\n",
    "plt.ylabel('True Positive Rate (Sensitivity)')\n",
    "\n",
    "plt.show()\n"
   ]
  },
  {
   "cell_type": "markdown",
   "metadata": {},
   "source": [
    "Kurva ROC membantu kita untuk memilih level ambang (threshold level) yang seimbang antara sensitivitas dan spesifisitas untuk konteks tertentu."
   ]
  },
  {
   "cell_type": "markdown",
   "metadata": {},
   "source": [
    "Kode ini digunakan untuk menggambar ROC Curve (Receiver Operating Characteristic Curve), yang menunjukkan hubungan antara False Positive Rate (FPR) dan True Positive Rate (TPR) untuk model klasifikasi.\n",
    "\n",
    "    FPR adalah sumbu X yang mengukur seberapa banyak negatif yang salah diprediksi sebagai positif.\n",
    "\n",
    "    TPR atau Sensitivity adalah sumbu Y yang mengukur seberapa banyak positif yang benar diprediksi sebagai positif.\n",
    "\n",
    "ROC Curve yang digambarkan akan menunjukkan performa model kita, dengan garis diagonal (garis putus-putus) sebagai acuan. Model yang lebih baik akan memiliki ROC curve yang lebih jauh dari garis diagonal."
   ]
  },
  {
   "cell_type": "markdown",
   "metadata": {},
   "source": [
    "### ROC AUC\n",
    "\n",
    "**ROC AUC** adalah singkatan dari **Receiver Operating Characteristic - Area Under Curve**. Ini adalah teknik untuk membandingkan kinerja classifier. Dalam teknik ini, kita mengukur `area di bawah kurva (AUC)`. Sebuah classifier yang sempurna akan memiliki ROC AUC sama dengan 1, sementara classifier yang sepenuhnya acak akan memiliki ROC AUC sama dengan 0.5.\n",
    "\n",
    "Jadi, **ROC AUC** adalah persentase dari plot ROC yang berada di bawah kurva."
   ]
  },
  {
   "cell_type": "code",
   "execution_count": 109,
   "metadata": {},
   "outputs": [
    {
     "name": "stdout",
     "output_type": "stream",
     "text": [
      "ROC AUC : 0.9171\n"
     ]
    }
   ],
   "source": [
    "# compute ROC AUC\n",
    "\n",
    "from sklearn.metrics import roc_auc_score\n",
    "\n",
    "ROC_AUC = roc_auc_score(y_test, y_pred_test)\n",
    "\n",
    "print('ROC AUC : {:.4f}'.format(ROC_AUC))"
   ]
  },
  {
   "cell_type": "markdown",
   "metadata": {},
   "source": [
    "Kode ini digunakan untuk menghitung ROC AUC (Area Under the ROC Curve). Nilai AUC mengukur seberapa baik model dalam membedakan antara kelas positif dan negatif.\n",
    "\n",
    "ROC AUC memiliki nilai antara 0 hingga 1.\n",
    "\n",
    "Nilai 1.0 menunjukkan model yang sempurna dalam membedakan antara kelas positif dan negatif.\n",
    "\n",
    "Nilai 0.5 menunjukkan model yang tidak lebih baik dari tebakan acak.\n",
    "\n",
    "Nilai di bawah 0.5 menunjukkan model yang lebih buruk dari tebakan acak.\n",
    "\n",
    "Semakin tinggi nilai AUC, semakin baik model dalam membedakan kelas."
   ]
  },
  {
   "cell_type": "markdown",
   "metadata": {},
   "source": [
    "### Komentar\n",
    "\n",
    "- ROC AUC adalah ringkasan dalam bentuk angka tunggal untuk kinerja classifier. Semakin tinggi nilainya, semakin baik classifier tersebut.\n",
    "\n",
    "- ROC AUC dari model kita mendekati 1. Jadi, kita dapat menyimpulkan bahwa classifier kita melakukan pekerjaan yang baik dalam mengklasifikasikan bintang pulsar."
   ]
  },
  {
   "cell_type": "code",
   "execution_count": 110,
   "metadata": {},
   "outputs": [
    {
     "name": "stdout",
     "output_type": "stream",
     "text": [
      "Cross validated ROC AUC : 0.9756\n"
     ]
    }
   ],
   "source": [
    "# calculate cross-validated ROC AUC \n",
    "\n",
    "from sklearn.model_selection import cross_val_score\n",
    "\n",
    "Cross_validated_ROC_AUC = cross_val_score(linear_svc, X_train, y_train, cv=10, scoring='roc_auc').mean()\n",
    "\n",
    "print('Cross validated ROC AUC : {:.4f}'.format(Cross_validated_ROC_AUC))"
   ]
  },
  {
   "cell_type": "markdown",
   "metadata": {},
   "source": [
    "Kode ini digunakan untuk menghitung Cross-Validated ROC AUC, yang memberikan gambaran tentang performa model berdasarkan AUC (Area Under the ROC Curve) dengan menggunakan cross-validation.\n",
    "\n",
    "    Cross-validation dilakukan dengan membagi data menjadi beberapa fold (dalam hal ini 10 fold, ditentukan dengan cv=10), dan model diuji pada setiap fold yang berbeda.\n",
    "\n",
    "    Skor ROC AUC dihitung untuk setiap fold dan kemudian diambil rata-ratanya.\n",
    "\n",
    "    Cross-validated ROC AUC memberikan estimasi yang lebih stabil mengenai seberapa baik model dalam membedakan antara kelas, karena menguji model di berbagai subset data.\n",
    "\n",
    "Nilai yang lebih tinggi menunjukkan performa model yang lebih baik dalam membedakan antara kelas positif dan negatif."
   ]
  },
  {
   "cell_type": "markdown",
   "metadata": {},
   "source": [
    "### **13. Stratified k-fold Cross Validation dengan Shuffle Split** \n",
    "\n",
    "k-fold cross-validation adalah teknik yang sangat berguna untuk mengevaluasi kinerja model. Namun, teknik ini tidak efektif untuk dataset yang tidak seimbang. Oleh karena itu, dalam kasus dataset yang tidak seimbang, saya akan menggunakan teknik lain untuk mengevaluasi kinerja model, yaitu **stratified k-fold cross-validation**.\n",
    "\n",
    "Pada **stratified k-fold cross-validation**, kita membagi data sehingga proporsi antara kelas tetap sama di setiap fold seperti yang ada di dataset secara keseluruhan.\n",
    "\n",
    "Selain itu, saya akan melakukan **shuffle** pada data sebelum melakukan pembagian karena pengacakan data dapat menghasilkan hasil yang lebih baik."
   ]
  },
  {
   "cell_type": "markdown",
   "metadata": {},
   "source": [
    "### Stratified k-Fold Cross Validation dengan Shuffle Split menggunakan Kernel Linear\n",
    "\n",
    "Stratified k-Fold Cross Validation dengan shuffle split adalah teknik evaluasi model yang memungkinkan kita untuk memastikan bahwa distribusi kelas tetap terjaga dalam setiap fold, khususnya untuk dataset yang tidak seimbang. Teknik ini akan dilakukan dengan kernel linear pada model SVM."
   ]
  },
  {
   "cell_type": "code",
   "execution_count": 111,
   "metadata": {},
   "outputs": [],
   "source": [
    "from sklearn.model_selection import KFold\n",
    "\n",
    "\n",
    "kfold=KFold(n_splits=5, shuffle=True, random_state=0)\n",
    "\n",
    "\n",
    "linear_svc=SVC(kernel='linear')\n",
    "\n",
    "\n",
    "linear_scores = cross_val_score(linear_svc, X, y, cv=kfold)\n"
   ]
  },
  {
   "cell_type": "markdown",
   "metadata": {},
   "source": [
    "Kode ini melakukan cross-validation dengan menggunakan K-Fold pada model Support Vector Classifier (SVC) dengan kernel linear, dan menghitung akurasi rata-rata dari setiap fold.\n",
    "\n",
    "KFold(n_splits=5, shuffle=True, random_state=0):\n",
    "\n",
    "n_splits=5: Menyusun data menjadi 5 bagian atau fold.\n",
    "\n",
    "shuffle=True: Mengacak data sebelum membaginya ke dalam fold untuk menghindari urutan data yang memengaruhi hasil.\n",
    "\n",
    "random_state=0: Untuk memastikan pembagian fold yang konsisten jika kode dijalankan lagi.\n",
    "\n",
    "linear_svc = SVC(kernel='linear'):\n",
    "Ini mendefinisikan model Support Vector Classifier dengan kernel linear yang akan digunakan dalam cross-validation.\n",
    "\n",
    "linear_scores = cross_val_score(linear_svc, X, y, cv=kfold):\n",
    "Fungsi ini menjalankan cross-validation pada dataset X dan y menggunakan model linear_svc dan pembagian fold yang telah ditentukan oleh kfold. Skor akurasi untuk setiap fold disimpan dalam variabel linear_scores."
   ]
  },
  {
   "cell_type": "code",
   "execution_count": 112,
   "metadata": {},
   "outputs": [
    {
     "name": "stdout",
     "output_type": "stream",
     "text": [
      "Stratified cross-validation scores with linear kernel:\n",
      "\n",
      "[0.98296089 0.97458101 0.97988827 0.97876502 0.97848561]\n"
     ]
    }
   ],
   "source": [
    "# print cross-validation scores with linear kernel\n",
    "\n",
    "print('Stratified cross-validation scores with linear kernel:\\n\\n{}'.format(linear_scores))"
   ]
  },
  {
   "cell_type": "markdown",
   "metadata": {},
   "source": [
    "Mencetak nilai akurasi dari setiap fold yang dihasilkan oleh cross-validation."
   ]
  },
  {
   "cell_type": "code",
   "execution_count": 113,
   "metadata": {},
   "outputs": [
    {
     "name": "stdout",
     "output_type": "stream",
     "text": [
      "Average stratified cross-validation score with linear kernel:0.9789\n"
     ]
    }
   ],
   "source": [
    "# print average cross-validation score with linear kernel\n",
    "\n",
    "print('Average stratified cross-validation score with linear kernel:{:.4f}'.format(linear_scores.mean()))"
   ]
  },
  {
   "cell_type": "markdown",
   "metadata": {},
   "source": [
    "Mencetak rata-rata dari skor akurasi setiap fold, yang memberikan gambaran umum tentang seberapa baik model ini bekerja dengan kernel linear pada data."
   ]
  },
  {
   "cell_type": "markdown",
   "metadata": {},
   "source": [
    "### Stratified k-Fold Cross Validation dengan Shuffle Split menggunakan Kernel RBF\n",
    "\n",
    "Untuk menggunakan kernel RBF dalam model SVM dengan teknik Stratified k-Fold Cross Validation dan shuffle split, kita dapat mengikuti langkah-langkah berikut. Kernel RBF sering kali digunakan untuk masalah klasifikasi yang lebih kompleks dan memungkinkan model untuk menangani data yang tidak dapat dipisahkan secara linier."
   ]
  },
  {
   "cell_type": "code",
   "execution_count": 114,
   "metadata": {},
   "outputs": [],
   "source": [
    "rbf_svc=SVC(kernel='rbf')\n",
    "\n",
    "\n",
    "rbf_scores = cross_val_score(rbf_svc, X, y, cv=kfold)"
   ]
  },
  {
   "cell_type": "markdown",
   "metadata": {},
   "source": [
    "Kode ini melakukan cross-validation menggunakan model Support Vector Classifier (SVC) dengan Radial Basis Function (RBF) kernel dan menghitung skor akurasi untuk setiap fold.\n",
    "\n",
    "rbf_svc = SVC(kernel='rbf'):\n",
    "Mendefinisikan model Support Vector Classifier dengan RBF kernel, yang merupakan salah satu kernel populer yang dapat menangani data non-linear. RBF kernel berfungsi untuk memetakan data ke ruang berdimensi lebih tinggi untuk membuat data menjadi lebih mudah dipisahkan.\n",
    "\n",
    "rbf_scores = cross_val_score(rbf_svc, X, y, cv=kfold):\n",
    "Fungsi ini melakukan cross-validation dengan membagi dataset X dan label y ke dalam 5 fold (sesuai dengan konfigurasi kfold sebelumnya). Model rbf_svc dilatih pada setiap fold dan skor akurasi untuk setiap fold disimpan dalam variabel rbf_scores.\n",
    "\n",
    "Hasil dari kode ini adalah array berisi skor akurasi untuk setiap fold. Dengan melihat hasil ini, kita dapat mengevaluasi performa model SVC dengan RBF kernel pada data."
   ]
  },
  {
   "cell_type": "code",
   "execution_count": 115,
   "metadata": {},
   "outputs": [
    {
     "name": "stdout",
     "output_type": "stream",
     "text": [
      "Stratified Cross-validation scores with rbf kernel:\n",
      "\n",
      "[0.97849162 0.97011173 0.97318436 0.9709416  0.96982397]\n"
     ]
    }
   ],
   "source": [
    "# print cross-validation scores with rbf kernel\n",
    "\n",
    "print('Stratified Cross-validation scores with rbf kernel:\\n\\n{}'.format(rbf_scores))"
   ]
  },
  {
   "cell_type": "markdown",
   "metadata": {},
   "source": [
    "Di sini, hasil cross-validation yang disimpan dalam variabel rbf_scores dicetak ke layar. Fungsi format(rbf_scores) menyisipkan nilai skor-skor tersebut ke dalam string yang akan ditampilkan. Setiap skor mewakili performa model pada fold yang berbeda, dan ini memberikan gambaran bagaimana model dengan RBF kernel berperforma pada data yang dibagi-bagi."
   ]
  },
  {
   "cell_type": "code",
   "execution_count": 116,
   "metadata": {},
   "outputs": [
    {
     "name": "stdout",
     "output_type": "stream",
     "text": [
      "Average stratified cross-validation score with rbf kernel:0.9725\n"
     ]
    }
   ],
   "source": [
    "# print average cross-validation score with rbf kernel\n",
    "\n",
    "print('Average stratified cross-validation score with rbf kernel:{:.4f}'.format(rbf_scores.mean()))"
   ]
  },
  {
   "cell_type": "markdown",
   "metadata": {},
   "source": [
    "String ini mencetak rata-rata skor dengan format empat angka desimal. Jadi, hasil ini akan menunjukkan seberapa baik model RBF kernel saat melakukan cross-validation dengan data yang dibagi secara stratified (proporsional)."
   ]
  },
  {
   "cell_type": "markdown",
   "metadata": {},
   "source": [
    "### **Komentar**\n",
    "\n",
    "Dari hasil yang diperoleh, saya mendapatkan skor rata-rata stratified k-fold cross-validation sebesar **0.9789** dengan kernel linear, namun akurasi model pada data uji adalah **0.9832**.\n",
    "\n",
    "Dari sini, kita bisa menarik kesimpulan bahwa teknik **stratified cross-validation** tidak memberikan peningkatan kinerja model secara signifikan. Meskipun **stratified k-fold cross-validation** memberikan validasi yang lebih stabil dengan mempertahankan proporsi kelas yang seimbang, hasil akurasi yang lebih tinggi pada model uji menunjukkan bahwa model tersebut sudah cukup baik dalam mengatasi ketidakseimbangan kelas di data uji.\n",
    "\n",
    "Ini bisa menunjukkan bahwa **validasi silang** (cross-validation) pada model ini lebih berguna untuk mengevaluasi kinerja model secara umum, tetapi tidak memberikan manfaat signifikan dalam meningkatkan akurasi dibandingkan dengan model yang telah dioptimalkan pada set pelatihan."
   ]
  },
  {
   "cell_type": "markdown",
   "metadata": {},
   "source": [
    "### **14. Optimasi Hyperparameter menggunakan GridSearch CV** \n",
    "\n",
    "Optimasi hyperparameter adalah langkah penting dalam meningkatkan kinerja model. Salah satu teknik yang digunakan untuk mencari kombinasi terbaik dari hyperparameter adalah **GridSearchCV**. Dengan menggunakan teknik ini, kita dapat melakukan pencarian di ruang hyperparameter untuk menemukan parameter terbaik yang memberikan kinerja terbaik pada model.\n",
    "\n",
    "**GridSearchCV** bekerja dengan cara melakukan pencarian menyeluruh di seluruh ruang hyperparameter yang telah ditentukan, melatih model dengan setiap kombinasi parameter, dan kemudian mengevaluasi kinerja model berdasarkan **cross-validation**.\n",
    "\n",
    "Langkah-langkah utama dalam menggunakan **GridSearchCV** adalah:\n",
    "\n",
    "1. **Definisikan Parameter Grid**: Tentukan kombinasi hyperparameter yang ingin diuji, seperti `C`, `kernel`, dan `gamma` untuk model SVM.\n",
    "2. **Grid Search dengan Cross-Validation**: Lakukan pencarian dengan menggunakan cross-validation untuk mengevaluasi setiap kombinasi hyperparameter.\n",
    "3. **Evaluasi dan Pilih Parameter Terbaik**: Pilih kombinasi hyperparameter yang memberikan kinerja terbaik berdasarkan skor validasi.\n"
   ]
  },
  {
   "cell_type": "code",
   "execution_count": 117,
   "metadata": {},
   "outputs": [
    {
     "data": {
      "text/html": [
       "<style>#sk-container-id-1 {\n",
       "  /* Definition of color scheme common for light and dark mode */\n",
       "  --sklearn-color-text: #000;\n",
       "  --sklearn-color-text-muted: #666;\n",
       "  --sklearn-color-line: gray;\n",
       "  /* Definition of color scheme for unfitted estimators */\n",
       "  --sklearn-color-unfitted-level-0: #fff5e6;\n",
       "  --sklearn-color-unfitted-level-1: #f6e4d2;\n",
       "  --sklearn-color-unfitted-level-2: #ffe0b3;\n",
       "  --sklearn-color-unfitted-level-3: chocolate;\n",
       "  /* Definition of color scheme for fitted estimators */\n",
       "  --sklearn-color-fitted-level-0: #f0f8ff;\n",
       "  --sklearn-color-fitted-level-1: #d4ebff;\n",
       "  --sklearn-color-fitted-level-2: #b3dbfd;\n",
       "  --sklearn-color-fitted-level-3: cornflowerblue;\n",
       "\n",
       "  /* Specific color for light theme */\n",
       "  --sklearn-color-text-on-default-background: var(--sg-text-color, var(--theme-code-foreground, var(--jp-content-font-color1, black)));\n",
       "  --sklearn-color-background: var(--sg-background-color, var(--theme-background, var(--jp-layout-color0, white)));\n",
       "  --sklearn-color-border-box: var(--sg-text-color, var(--theme-code-foreground, var(--jp-content-font-color1, black)));\n",
       "  --sklearn-color-icon: #696969;\n",
       "\n",
       "  @media (prefers-color-scheme: dark) {\n",
       "    /* Redefinition of color scheme for dark theme */\n",
       "    --sklearn-color-text-on-default-background: var(--sg-text-color, var(--theme-code-foreground, var(--jp-content-font-color1, white)));\n",
       "    --sklearn-color-background: var(--sg-background-color, var(--theme-background, var(--jp-layout-color0, #111)));\n",
       "    --sklearn-color-border-box: var(--sg-text-color, var(--theme-code-foreground, var(--jp-content-font-color1, white)));\n",
       "    --sklearn-color-icon: #878787;\n",
       "  }\n",
       "}\n",
       "\n",
       "#sk-container-id-1 {\n",
       "  color: var(--sklearn-color-text);\n",
       "}\n",
       "\n",
       "#sk-container-id-1 pre {\n",
       "  padding: 0;\n",
       "}\n",
       "\n",
       "#sk-container-id-1 input.sk-hidden--visually {\n",
       "  border: 0;\n",
       "  clip: rect(1px 1px 1px 1px);\n",
       "  clip: rect(1px, 1px, 1px, 1px);\n",
       "  height: 1px;\n",
       "  margin: -1px;\n",
       "  overflow: hidden;\n",
       "  padding: 0;\n",
       "  position: absolute;\n",
       "  width: 1px;\n",
       "}\n",
       "\n",
       "#sk-container-id-1 div.sk-dashed-wrapped {\n",
       "  border: 1px dashed var(--sklearn-color-line);\n",
       "  margin: 0 0.4em 0.5em 0.4em;\n",
       "  box-sizing: border-box;\n",
       "  padding-bottom: 0.4em;\n",
       "  background-color: var(--sklearn-color-background);\n",
       "}\n",
       "\n",
       "#sk-container-id-1 div.sk-container {\n",
       "  /* jupyter's `normalize.less` sets `[hidden] { display: none; }`\n",
       "     but bootstrap.min.css set `[hidden] { display: none !important; }`\n",
       "     so we also need the `!important` here to be able to override the\n",
       "     default hidden behavior on the sphinx rendered scikit-learn.org.\n",
       "     See: https://github.com/scikit-learn/scikit-learn/issues/21755 */\n",
       "  display: inline-block !important;\n",
       "  position: relative;\n",
       "}\n",
       "\n",
       "#sk-container-id-1 div.sk-text-repr-fallback {\n",
       "  display: none;\n",
       "}\n",
       "\n",
       "div.sk-parallel-item,\n",
       "div.sk-serial,\n",
       "div.sk-item {\n",
       "  /* draw centered vertical line to link estimators */\n",
       "  background-image: linear-gradient(var(--sklearn-color-text-on-default-background), var(--sklearn-color-text-on-default-background));\n",
       "  background-size: 2px 100%;\n",
       "  background-repeat: no-repeat;\n",
       "  background-position: center center;\n",
       "}\n",
       "\n",
       "/* Parallel-specific style estimator block */\n",
       "\n",
       "#sk-container-id-1 div.sk-parallel-item::after {\n",
       "  content: \"\";\n",
       "  width: 100%;\n",
       "  border-bottom: 2px solid var(--sklearn-color-text-on-default-background);\n",
       "  flex-grow: 1;\n",
       "}\n",
       "\n",
       "#sk-container-id-1 div.sk-parallel {\n",
       "  display: flex;\n",
       "  align-items: stretch;\n",
       "  justify-content: center;\n",
       "  background-color: var(--sklearn-color-background);\n",
       "  position: relative;\n",
       "}\n",
       "\n",
       "#sk-container-id-1 div.sk-parallel-item {\n",
       "  display: flex;\n",
       "  flex-direction: column;\n",
       "}\n",
       "\n",
       "#sk-container-id-1 div.sk-parallel-item:first-child::after {\n",
       "  align-self: flex-end;\n",
       "  width: 50%;\n",
       "}\n",
       "\n",
       "#sk-container-id-1 div.sk-parallel-item:last-child::after {\n",
       "  align-self: flex-start;\n",
       "  width: 50%;\n",
       "}\n",
       "\n",
       "#sk-container-id-1 div.sk-parallel-item:only-child::after {\n",
       "  width: 0;\n",
       "}\n",
       "\n",
       "/* Serial-specific style estimator block */\n",
       "\n",
       "#sk-container-id-1 div.sk-serial {\n",
       "  display: flex;\n",
       "  flex-direction: column;\n",
       "  align-items: center;\n",
       "  background-color: var(--sklearn-color-background);\n",
       "  padding-right: 1em;\n",
       "  padding-left: 1em;\n",
       "}\n",
       "\n",
       "\n",
       "/* Toggleable style: style used for estimator/Pipeline/ColumnTransformer box that is\n",
       "clickable and can be expanded/collapsed.\n",
       "- Pipeline and ColumnTransformer use this feature and define the default style\n",
       "- Estimators will overwrite some part of the style using the `sk-estimator` class\n",
       "*/\n",
       "\n",
       "/* Pipeline and ColumnTransformer style (default) */\n",
       "\n",
       "#sk-container-id-1 div.sk-toggleable {\n",
       "  /* Default theme specific background. It is overwritten whether we have a\n",
       "  specific estimator or a Pipeline/ColumnTransformer */\n",
       "  background-color: var(--sklearn-color-background);\n",
       "}\n",
       "\n",
       "/* Toggleable label */\n",
       "#sk-container-id-1 label.sk-toggleable__label {\n",
       "  cursor: pointer;\n",
       "  display: flex;\n",
       "  width: 100%;\n",
       "  margin-bottom: 0;\n",
       "  padding: 0.5em;\n",
       "  box-sizing: border-box;\n",
       "  text-align: center;\n",
       "  align-items: start;\n",
       "  justify-content: space-between;\n",
       "  gap: 0.5em;\n",
       "}\n",
       "\n",
       "#sk-container-id-1 label.sk-toggleable__label .caption {\n",
       "  font-size: 0.6rem;\n",
       "  font-weight: lighter;\n",
       "  color: var(--sklearn-color-text-muted);\n",
       "}\n",
       "\n",
       "#sk-container-id-1 label.sk-toggleable__label-arrow:before {\n",
       "  /* Arrow on the left of the label */\n",
       "  content: \"▸\";\n",
       "  float: left;\n",
       "  margin-right: 0.25em;\n",
       "  color: var(--sklearn-color-icon);\n",
       "}\n",
       "\n",
       "#sk-container-id-1 label.sk-toggleable__label-arrow:hover:before {\n",
       "  color: var(--sklearn-color-text);\n",
       "}\n",
       "\n",
       "/* Toggleable content - dropdown */\n",
       "\n",
       "#sk-container-id-1 div.sk-toggleable__content {\n",
       "  max-height: 0;\n",
       "  max-width: 0;\n",
       "  overflow: hidden;\n",
       "  text-align: left;\n",
       "  /* unfitted */\n",
       "  background-color: var(--sklearn-color-unfitted-level-0);\n",
       "}\n",
       "\n",
       "#sk-container-id-1 div.sk-toggleable__content.fitted {\n",
       "  /* fitted */\n",
       "  background-color: var(--sklearn-color-fitted-level-0);\n",
       "}\n",
       "\n",
       "#sk-container-id-1 div.sk-toggleable__content pre {\n",
       "  margin: 0.2em;\n",
       "  border-radius: 0.25em;\n",
       "  color: var(--sklearn-color-text);\n",
       "  /* unfitted */\n",
       "  background-color: var(--sklearn-color-unfitted-level-0);\n",
       "}\n",
       "\n",
       "#sk-container-id-1 div.sk-toggleable__content.fitted pre {\n",
       "  /* unfitted */\n",
       "  background-color: var(--sklearn-color-fitted-level-0);\n",
       "}\n",
       "\n",
       "#sk-container-id-1 input.sk-toggleable__control:checked~div.sk-toggleable__content {\n",
       "  /* Expand drop-down */\n",
       "  max-height: 200px;\n",
       "  max-width: 100%;\n",
       "  overflow: auto;\n",
       "}\n",
       "\n",
       "#sk-container-id-1 input.sk-toggleable__control:checked~label.sk-toggleable__label-arrow:before {\n",
       "  content: \"▾\";\n",
       "}\n",
       "\n",
       "/* Pipeline/ColumnTransformer-specific style */\n",
       "\n",
       "#sk-container-id-1 div.sk-label input.sk-toggleable__control:checked~label.sk-toggleable__label {\n",
       "  color: var(--sklearn-color-text);\n",
       "  background-color: var(--sklearn-color-unfitted-level-2);\n",
       "}\n",
       "\n",
       "#sk-container-id-1 div.sk-label.fitted input.sk-toggleable__control:checked~label.sk-toggleable__label {\n",
       "  background-color: var(--sklearn-color-fitted-level-2);\n",
       "}\n",
       "\n",
       "/* Estimator-specific style */\n",
       "\n",
       "/* Colorize estimator box */\n",
       "#sk-container-id-1 div.sk-estimator input.sk-toggleable__control:checked~label.sk-toggleable__label {\n",
       "  /* unfitted */\n",
       "  background-color: var(--sklearn-color-unfitted-level-2);\n",
       "}\n",
       "\n",
       "#sk-container-id-1 div.sk-estimator.fitted input.sk-toggleable__control:checked~label.sk-toggleable__label {\n",
       "  /* fitted */\n",
       "  background-color: var(--sklearn-color-fitted-level-2);\n",
       "}\n",
       "\n",
       "#sk-container-id-1 div.sk-label label.sk-toggleable__label,\n",
       "#sk-container-id-1 div.sk-label label {\n",
       "  /* The background is the default theme color */\n",
       "  color: var(--sklearn-color-text-on-default-background);\n",
       "}\n",
       "\n",
       "/* On hover, darken the color of the background */\n",
       "#sk-container-id-1 div.sk-label:hover label.sk-toggleable__label {\n",
       "  color: var(--sklearn-color-text);\n",
       "  background-color: var(--sklearn-color-unfitted-level-2);\n",
       "}\n",
       "\n",
       "/* Label box, darken color on hover, fitted */\n",
       "#sk-container-id-1 div.sk-label.fitted:hover label.sk-toggleable__label.fitted {\n",
       "  color: var(--sklearn-color-text);\n",
       "  background-color: var(--sklearn-color-fitted-level-2);\n",
       "}\n",
       "\n",
       "/* Estimator label */\n",
       "\n",
       "#sk-container-id-1 div.sk-label label {\n",
       "  font-family: monospace;\n",
       "  font-weight: bold;\n",
       "  display: inline-block;\n",
       "  line-height: 1.2em;\n",
       "}\n",
       "\n",
       "#sk-container-id-1 div.sk-label-container {\n",
       "  text-align: center;\n",
       "}\n",
       "\n",
       "/* Estimator-specific */\n",
       "#sk-container-id-1 div.sk-estimator {\n",
       "  font-family: monospace;\n",
       "  border: 1px dotted var(--sklearn-color-border-box);\n",
       "  border-radius: 0.25em;\n",
       "  box-sizing: border-box;\n",
       "  margin-bottom: 0.5em;\n",
       "  /* unfitted */\n",
       "  background-color: var(--sklearn-color-unfitted-level-0);\n",
       "}\n",
       "\n",
       "#sk-container-id-1 div.sk-estimator.fitted {\n",
       "  /* fitted */\n",
       "  background-color: var(--sklearn-color-fitted-level-0);\n",
       "}\n",
       "\n",
       "/* on hover */\n",
       "#sk-container-id-1 div.sk-estimator:hover {\n",
       "  /* unfitted */\n",
       "  background-color: var(--sklearn-color-unfitted-level-2);\n",
       "}\n",
       "\n",
       "#sk-container-id-1 div.sk-estimator.fitted:hover {\n",
       "  /* fitted */\n",
       "  background-color: var(--sklearn-color-fitted-level-2);\n",
       "}\n",
       "\n",
       "/* Specification for estimator info (e.g. \"i\" and \"?\") */\n",
       "\n",
       "/* Common style for \"i\" and \"?\" */\n",
       "\n",
       ".sk-estimator-doc-link,\n",
       "a:link.sk-estimator-doc-link,\n",
       "a:visited.sk-estimator-doc-link {\n",
       "  float: right;\n",
       "  font-size: smaller;\n",
       "  line-height: 1em;\n",
       "  font-family: monospace;\n",
       "  background-color: var(--sklearn-color-background);\n",
       "  border-radius: 1em;\n",
       "  height: 1em;\n",
       "  width: 1em;\n",
       "  text-decoration: none !important;\n",
       "  margin-left: 0.5em;\n",
       "  text-align: center;\n",
       "  /* unfitted */\n",
       "  border: var(--sklearn-color-unfitted-level-1) 1pt solid;\n",
       "  color: var(--sklearn-color-unfitted-level-1);\n",
       "}\n",
       "\n",
       ".sk-estimator-doc-link.fitted,\n",
       "a:link.sk-estimator-doc-link.fitted,\n",
       "a:visited.sk-estimator-doc-link.fitted {\n",
       "  /* fitted */\n",
       "  border: var(--sklearn-color-fitted-level-1) 1pt solid;\n",
       "  color: var(--sklearn-color-fitted-level-1);\n",
       "}\n",
       "\n",
       "/* On hover */\n",
       "div.sk-estimator:hover .sk-estimator-doc-link:hover,\n",
       ".sk-estimator-doc-link:hover,\n",
       "div.sk-label-container:hover .sk-estimator-doc-link:hover,\n",
       ".sk-estimator-doc-link:hover {\n",
       "  /* unfitted */\n",
       "  background-color: var(--sklearn-color-unfitted-level-3);\n",
       "  color: var(--sklearn-color-background);\n",
       "  text-decoration: none;\n",
       "}\n",
       "\n",
       "div.sk-estimator.fitted:hover .sk-estimator-doc-link.fitted:hover,\n",
       ".sk-estimator-doc-link.fitted:hover,\n",
       "div.sk-label-container:hover .sk-estimator-doc-link.fitted:hover,\n",
       ".sk-estimator-doc-link.fitted:hover {\n",
       "  /* fitted */\n",
       "  background-color: var(--sklearn-color-fitted-level-3);\n",
       "  color: var(--sklearn-color-background);\n",
       "  text-decoration: none;\n",
       "}\n",
       "\n",
       "/* Span, style for the box shown on hovering the info icon */\n",
       ".sk-estimator-doc-link span {\n",
       "  display: none;\n",
       "  z-index: 9999;\n",
       "  position: relative;\n",
       "  font-weight: normal;\n",
       "  right: .2ex;\n",
       "  padding: .5ex;\n",
       "  margin: .5ex;\n",
       "  width: min-content;\n",
       "  min-width: 20ex;\n",
       "  max-width: 50ex;\n",
       "  color: var(--sklearn-color-text);\n",
       "  box-shadow: 2pt 2pt 4pt #999;\n",
       "  /* unfitted */\n",
       "  background: var(--sklearn-color-unfitted-level-0);\n",
       "  border: .5pt solid var(--sklearn-color-unfitted-level-3);\n",
       "}\n",
       "\n",
       ".sk-estimator-doc-link.fitted span {\n",
       "  /* fitted */\n",
       "  background: var(--sklearn-color-fitted-level-0);\n",
       "  border: var(--sklearn-color-fitted-level-3);\n",
       "}\n",
       "\n",
       ".sk-estimator-doc-link:hover span {\n",
       "  display: block;\n",
       "}\n",
       "\n",
       "/* \"?\"-specific style due to the `<a>` HTML tag */\n",
       "\n",
       "#sk-container-id-1 a.estimator_doc_link {\n",
       "  float: right;\n",
       "  font-size: 1rem;\n",
       "  line-height: 1em;\n",
       "  font-family: monospace;\n",
       "  background-color: var(--sklearn-color-background);\n",
       "  border-radius: 1rem;\n",
       "  height: 1rem;\n",
       "  width: 1rem;\n",
       "  text-decoration: none;\n",
       "  /* unfitted */\n",
       "  color: var(--sklearn-color-unfitted-level-1);\n",
       "  border: var(--sklearn-color-unfitted-level-1) 1pt solid;\n",
       "}\n",
       "\n",
       "#sk-container-id-1 a.estimator_doc_link.fitted {\n",
       "  /* fitted */\n",
       "  border: var(--sklearn-color-fitted-level-1) 1pt solid;\n",
       "  color: var(--sklearn-color-fitted-level-1);\n",
       "}\n",
       "\n",
       "/* On hover */\n",
       "#sk-container-id-1 a.estimator_doc_link:hover {\n",
       "  /* unfitted */\n",
       "  background-color: var(--sklearn-color-unfitted-level-3);\n",
       "  color: var(--sklearn-color-background);\n",
       "  text-decoration: none;\n",
       "}\n",
       "\n",
       "#sk-container-id-1 a.estimator_doc_link.fitted:hover {\n",
       "  /* fitted */\n",
       "  background-color: var(--sklearn-color-fitted-level-3);\n",
       "}\n",
       "</style><div id=\"sk-container-id-1\" class=\"sk-top-container\"><div class=\"sk-text-repr-fallback\"><pre>GridSearchCV(cv=5, estimator=SVC(),\n",
       "             param_grid=[{&#x27;C&#x27;: [1, 10, 100, 1000], &#x27;kernel&#x27;: [&#x27;linear&#x27;]},\n",
       "                         {&#x27;C&#x27;: [1, 10, 100, 1000],\n",
       "                          &#x27;gamma&#x27;: [0.1, 0.2, 0.3, 0.4, 0.5, 0.6, 0.7, 0.8,\n",
       "                                    0.9],\n",
       "                          &#x27;kernel&#x27;: [&#x27;rbf&#x27;]},\n",
       "                         {&#x27;C&#x27;: [1, 10, 100, 1000], &#x27;degree&#x27;: [2, 3, 4],\n",
       "                          &#x27;gamma&#x27;: [0.01, 0.02, 0.03, 0.04, 0.05],\n",
       "                          &#x27;kernel&#x27;: [&#x27;poly&#x27;]}],\n",
       "             scoring=&#x27;accuracy&#x27;)</pre><b>In a Jupyter environment, please rerun this cell to show the HTML representation or trust the notebook. <br />On GitHub, the HTML representation is unable to render, please try loading this page with nbviewer.org.</b></div><div class=\"sk-container\" hidden><div class=\"sk-item sk-dashed-wrapped\"><div class=\"sk-label-container\"><div class=\"sk-label fitted sk-toggleable\"><input class=\"sk-toggleable__control sk-hidden--visually\" id=\"sk-estimator-id-1\" type=\"checkbox\" ><label for=\"sk-estimator-id-1\" class=\"sk-toggleable__label fitted sk-toggleable__label-arrow\"><div><div>GridSearchCV</div></div><div><a class=\"sk-estimator-doc-link fitted\" rel=\"noreferrer\" target=\"_blank\" href=\"https://scikit-learn.org/1.6/modules/generated/sklearn.model_selection.GridSearchCV.html\">?<span>Documentation for GridSearchCV</span></a><span class=\"sk-estimator-doc-link fitted\">i<span>Fitted</span></span></div></label><div class=\"sk-toggleable__content fitted\"><pre>GridSearchCV(cv=5, estimator=SVC(),\n",
       "             param_grid=[{&#x27;C&#x27;: [1, 10, 100, 1000], &#x27;kernel&#x27;: [&#x27;linear&#x27;]},\n",
       "                         {&#x27;C&#x27;: [1, 10, 100, 1000],\n",
       "                          &#x27;gamma&#x27;: [0.1, 0.2, 0.3, 0.4, 0.5, 0.6, 0.7, 0.8,\n",
       "                                    0.9],\n",
       "                          &#x27;kernel&#x27;: [&#x27;rbf&#x27;]},\n",
       "                         {&#x27;C&#x27;: [1, 10, 100, 1000], &#x27;degree&#x27;: [2, 3, 4],\n",
       "                          &#x27;gamma&#x27;: [0.01, 0.02, 0.03, 0.04, 0.05],\n",
       "                          &#x27;kernel&#x27;: [&#x27;poly&#x27;]}],\n",
       "             scoring=&#x27;accuracy&#x27;)</pre></div> </div></div><div class=\"sk-parallel\"><div class=\"sk-parallel-item\"><div class=\"sk-item\"><div class=\"sk-label-container\"><div class=\"sk-label fitted sk-toggleable\"><input class=\"sk-toggleable__control sk-hidden--visually\" id=\"sk-estimator-id-2\" type=\"checkbox\" ><label for=\"sk-estimator-id-2\" class=\"sk-toggleable__label fitted sk-toggleable__label-arrow\"><div><div>best_estimator_: SVC</div></div></label><div class=\"sk-toggleable__content fitted\"><pre>SVC(C=10, gamma=0.3)</pre></div> </div></div><div class=\"sk-serial\"><div class=\"sk-item\"><div class=\"sk-estimator fitted sk-toggleable\"><input class=\"sk-toggleable__control sk-hidden--visually\" id=\"sk-estimator-id-3\" type=\"checkbox\" ><label for=\"sk-estimator-id-3\" class=\"sk-toggleable__label fitted sk-toggleable__label-arrow\"><div><div>SVC</div></div><div><a class=\"sk-estimator-doc-link fitted\" rel=\"noreferrer\" target=\"_blank\" href=\"https://scikit-learn.org/1.6/modules/generated/sklearn.svm.SVC.html\">?<span>Documentation for SVC</span></a></div></label><div class=\"sk-toggleable__content fitted\"><pre>SVC(C=10, gamma=0.3)</pre></div> </div></div></div></div></div></div></div></div></div>"
      ],
      "text/plain": [
       "GridSearchCV(cv=5, estimator=SVC(),\n",
       "             param_grid=[{'C': [1, 10, 100, 1000], 'kernel': ['linear']},\n",
       "                         {'C': [1, 10, 100, 1000],\n",
       "                          'gamma': [0.1, 0.2, 0.3, 0.4, 0.5, 0.6, 0.7, 0.8,\n",
       "                                    0.9],\n",
       "                          'kernel': ['rbf']},\n",
       "                         {'C': [1, 10, 100, 1000], 'degree': [2, 3, 4],\n",
       "                          'gamma': [0.01, 0.02, 0.03, 0.04, 0.05],\n",
       "                          'kernel': ['poly']}],\n",
       "             scoring='accuracy')"
      ]
     },
     "execution_count": 117,
     "metadata": {},
     "output_type": "execute_result"
    }
   ],
   "source": [
    "# import GridSearchCV\n",
    "from sklearn.model_selection import GridSearchCV\n",
    "\n",
    "\n",
    "# import SVC classifier\n",
    "from sklearn.svm import SVC\n",
    "\n",
    "\n",
    "# instantiate classifier with default hyperparameters with kernel=rbf, C=1.0 and gamma=auto\n",
    "svc=SVC() \n",
    "\n",
    "\n",
    "\n",
    "# declare parameters for hyperparameter tuning\n",
    "parameters = [ {'C':[1, 10, 100, 1000], 'kernel':['linear']},\n",
    "               {'C':[1, 10, 100, 1000], 'kernel':['rbf'], 'gamma':[0.1, 0.2, 0.3, 0.4, 0.5, 0.6, 0.7, 0.8, 0.9]},\n",
    "               {'C':[1, 10, 100, 1000], 'kernel':['poly'], 'degree': [2,3,4] ,'gamma':[0.01,0.02,0.03,0.04,0.05]} \n",
    "              ]\n",
    "\n",
    "\n",
    "\n",
    "\n",
    "grid_search = GridSearchCV(estimator = svc,  \n",
    "                           param_grid = parameters,\n",
    "                           scoring = 'accuracy',\n",
    "                           cv = 5,\n",
    "                           verbose=0)\n",
    "\n",
    "\n",
    "grid_search.fit(X_train, y_train)\n"
   ]
  },
  {
   "cell_type": "markdown",
   "metadata": {},
   "source": [
    "## Penjelasan Kode untuk Hyperparameter Tuning dengan GridSearchCV\n",
    "\n",
    "Kode ini digunakan untuk melakukan hyperparameter tuning pada model **SVC (Support Vector Classifier)** dengan menggunakan **GridSearchCV** untuk menemukan kombinasi hyperparameter terbaik.\n",
    "\n",
    "### A. **SVC()**:\n",
    "Model klasifikasi **SVM (Support Vector Machine)** ini diinisialisasi dengan kernel default yaitu `rbf`, `C=1.0`, dan `gamma=auto`.\n",
    "\n",
    "### B. **parameters**:\n",
    "Daftar parameter yang akan dicoba oleh **GridSearchCV**. Setiap **dictionary** di dalam list **parameters** mendefinisikan kombinasi nilai yang ingin dicari:\n",
    "- **C**: Parameter untuk mengatur keseimbangan antara margin dan kesalahan dalam model.\n",
    "- **kernel**: Jenis kernel yang digunakan dalam SVM. Pilihan:\n",
    "  - `'linear'`\n",
    "  - `'rbf'`\n",
    "  - `'poly'`\n",
    "- **gamma**: Parameter untuk kernel `rbf` dan `poly`, yang mengontrol seberapa besar pengaruh data point terhadap keputusan model.\n",
    "- **degree**: Hanya digunakan untuk kernel `poly`, mengatur derajat polinomial.\n",
    "\n",
    "### C. **GridSearchCV**:\n",
    "Penjelasan dari parameter yang digunakan dalam **GridSearchCV**:\n",
    "- **estimator**: Model yang ingin dioptimalkan, dalam hal ini adalah **SVC**.\n",
    "- **param_grid**: Daftar parameter dan nilai yang ingin diuji.\n",
    "- **scoring**: Digunakan untuk mengevaluasi kinerja model, di sini menggunakan `accuracy`.\n",
    "- **cv**: Menentukan jumlah fold dalam cross-validation. Dalam hal ini, 5-fold cross-validation digunakan.\n",
    "- **verbose**: Mengatur tingkat detail output, di sini diset ke `0` untuk tidak menampilkan informasi tambahan.\n",
    "\n",
    "### D. **grid_search.fit(X_train, y_train)**:\n",
    "Proses fit ini akan mencoba semua kombinasi parameter yang diberikan dalam **param_grid** dan memilih yang menghasilkan akurasi terbaik berdasarkan 5-fold cross-validation.\n"
   ]
  },
  {
   "cell_type": "code",
   "execution_count": 118,
   "metadata": {},
   "outputs": [
    {
     "name": "stdout",
     "output_type": "stream",
     "text": [
      "GridSearch CV best score : 0.9793\n",
      "\n",
      "\n",
      "Parameters that give the best results : \n",
      "\n",
      " {'C': 10, 'gamma': 0.3, 'kernel': 'rbf'}\n",
      "\n",
      "\n",
      "Estimator that was chosen by the search : \n",
      "\n",
      " SVC(C=10, gamma=0.3)\n"
     ]
    }
   ],
   "source": [
    "# examine the best model\n",
    "\n",
    "\n",
    "# best score achieved during the GridSearchCV\n",
    "print('GridSearch CV best score : {:.4f}\\n\\n'.format(grid_search.best_score_))\n",
    "\n",
    "\n",
    "# print parameters that give the best results\n",
    "print('Parameters that give the best results :','\\n\\n', (grid_search.best_params_))\n",
    "\n",
    "\n",
    "# print estimator that was chosen by the GridSearch\n",
    "print('\\n\\nEstimator that was chosen by the search :','\\n\\n', (grid_search.best_estimator_))"
   ]
  },
  {
   "cell_type": "markdown",
   "metadata": {},
   "source": [
    "## Penjelasan\n",
    "\n",
    "Kode ini digunakan untuk menampilkan hasil dari **GridSearchCV**, termasuk skor terbaik yang diperoleh, parameter terbaik yang digunakan, dan estimator yang dipilih.\n",
    "\n",
    "### 1. **GridSearch CV best score**:\n",
    "Bagian ini digunakan untuk mencetak **skor terbaik** yang dicapai selama proses **GridSearchCV**. Skor ini mengindikasikan performa terbaik yang diperoleh berdasarkan kombinasi parameter yang diuji.\n",
    "\n",
    "```python\n",
    "print('GridSearch CV best score : {:.4f}\\n\\n'.format(grid_search.best_score_))\n"
   ]
  },
  {
   "cell_type": "code",
   "execution_count": 119,
   "metadata": {},
   "outputs": [
    {
     "name": "stdout",
     "output_type": "stream",
     "text": [
      "GridSearch CV score on test set: 0.9835\n"
     ]
    }
   ],
   "source": [
    "# calculate GridSearch CV score on test set\n",
    "\n",
    "print('GridSearch CV score on test set: {0:0.4f}'.format(grid_search.score(X_test, y_test)))"
   ]
  },
  {
   "cell_type": "markdown",
   "metadata": {},
   "source": [
    "### **Komentar**\n",
    "\n",
    "- **Akurasi model asli** pada test-set adalah 0.9832, sementara **GridSearch CV** memberikan skor 0.9835 pada test-set.\n",
    "\n",
    "- **GridSearch CV** membantu dalam mengidentifikasi parameter-parameter yang dapat meningkatkan kinerja model pada dataset ini.\n",
    "\n",
    "- Di sini, kita perlu membedakan antara atribut `best_score_` pada **GridSearchCV** dengan metode `score` pada test-set.\n",
    "\n",
    "- **Metode `score`** pada test-set memberikan gambaran tentang performa model dalam hal generalisasi, karena model dilatih menggunakan seluruh data pelatihan.\n",
    "\n",
    "- Atribut `best_score_` dari **GridSearchCV** memberikan rata-rata akurasi hasil **cross-validation**, yang dilakukan hanya pada data pelatihan, bukan pada data test."
   ]
  },
  {
   "cell_type": "markdown",
   "metadata": {},
   "source": [
    "# **15.Hasil dan Kesimpulan**\n",
    "\n",
    "1. **Terdapat outlier** dalam dataset kita. Seiring dengan meningkatnya nilai C untuk membatasi jumlah outlier, akurasi model meningkat. Ini berlaku pada berbagai jenis kernel.\n",
    "\n",
    "2. **Akurasi tertinggi** diperoleh dengan menggunakan kernel `rbf` dan `linear` dengan C=100.0, yang menghasilkan akurasi 0.9832. Dengan demikian, dapat disimpulkan bahwa model kita bekerja dengan sangat baik dalam memprediksi label kelas. Namun, ini tidak sepenuhnya benar karena kita memiliki dataset yang **tidak seimbang**. Akurasi saja tidak cukup untuk mengukur kinerja model pada masalah dataset tidak seimbang. Oleh karena itu, kita harus mengeksplorasi **matriks kebingungannya** yang memberikan panduan lebih baik dalam pemilihan model.\n",
    "\n",
    "3. **ROC AUC** dari model kita sangat mendekati 1, yang menunjukkan bahwa model kita bekerja dengan baik dalam mengklasifikasikan pulsar star.\n",
    "\n",
    "4. Saya memperoleh **rata-rata skor stratified k-fold cross-validation yang lebih tinggi** yaitu 0.9789 dengan kernel linear, tetapi akurasi model pada test-set adalah 0.9832. Dengan demikian, teknik cross-validation stratified tidak membantu meningkatkan kinerja model.\n",
    "\n",
    "5. **Akurasi model asli** pada test-set adalah 0.9832, sedangkan **GridSearch CV** memberikan skor 0.9835 pada test-set. GridSearch CV membantu mengidentifikasi parameter yang dapat meningkatkan kinerja model ini."
   ]
  }
 ],
 "metadata": {
  "kernelspec": {
   "display_name": "Python 3",
   "language": "python",
   "name": "python3"
  },
  "language_info": {
   "codemirror_mode": {
    "name": "ipython",
    "version": 3
   },
   "file_extension": ".py",
   "mimetype": "text/x-python",
   "name": "python",
   "nbconvert_exporter": "python",
   "pygments_lexer": "ipython3",
   "version": "3.13.3"
  }
 },
 "nbformat": 4,
 "nbformat_minor": 4
}
