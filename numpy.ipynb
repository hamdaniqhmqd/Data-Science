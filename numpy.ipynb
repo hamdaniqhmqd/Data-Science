{
 "cells": [
  {
   "cell_type": "markdown",
   "metadata": {},
   "source": [
    "#### Nama = `Ahmad Hamdani`\n",
    "#### Nim = `233307092`\n",
    "#### Kelas = `4D`"
   ]
  },
  {
   "cell_type": "markdown",
   "metadata": {},
   "source": [
    "1. Buat file .ipynb, lalu lakukan instalasi library NumPy (disarankan menggunakan\n",
    "virtual environtment). Beri nama dan kelas anda pada baris paling atas."
   ]
  },
  {
   "cell_type": "markdown",
   "metadata": {},
   "source": [
    "2. Setelah instalasi library NumPy berhasil, jalankan kode di bawah ini dengan\n",
    "terlebih dahulu mengimpor library numpy dengan alias np"
   ]
  },
  {
   "cell_type": "code",
   "execution_count": 49,
   "metadata": {},
   "outputs": [],
   "source": [
    "import numpy as np\n",
    "a = np.array([1,2,3])"
   ]
  },
  {
   "cell_type": "markdown",
   "metadata": {},
   "source": [
    "3. Membuat array dengan isi 0."
   ]
  },
  {
   "cell_type": "code",
   "execution_count": 50,
   "metadata": {},
   "outputs": [
    {
     "data": {
      "text/plain": [
       "array([0., 0.])"
      ]
     },
     "execution_count": 50,
     "metadata": {},
     "output_type": "execute_result"
    }
   ],
   "source": [
    "np.zeros(2)"
   ]
  },
  {
   "cell_type": "markdown",
   "metadata": {},
   "source": [
    "4. Membuat array dengan isi 1."
   ]
  },
  {
   "cell_type": "code",
   "execution_count": 51,
   "metadata": {},
   "outputs": [
    {
     "data": {
      "text/plain": [
       "array([1., 1.])"
      ]
     },
     "execution_count": 51,
     "metadata": {},
     "output_type": "execute_result"
    }
   ],
   "source": [
    "np.ones(2)"
   ]
  },
  {
   "cell_type": "markdown",
   "metadata": {},
   "source": [
    "5. Membuat array dengan rentang elemen tertentu."
   ]
  },
  {
   "cell_type": "code",
   "execution_count": 52,
   "metadata": {},
   "outputs": [
    {
     "data": {
      "text/plain": [
       "array([0, 1, 2, 3, 4])"
      ]
     },
     "execution_count": 52,
     "metadata": {},
     "output_type": "execute_result"
    }
   ],
   "source": [
    "np.arange(5)"
   ]
  },
  {
   "cell_type": "markdown",
   "metadata": {},
   "source": [
    "6. Membuat array rentang elemen dengan step size tertentu, misal setiap 2 step."
   ]
  },
  {
   "cell_type": "code",
   "execution_count": 53,
   "metadata": {},
   "outputs": [
    {
     "data": {
      "text/plain": [
       "array([2, 4, 6, 8])"
      ]
     },
     "execution_count": 53,
     "metadata": {},
     "output_type": "execute_result"
    }
   ],
   "source": [
    "np.arange(2, 9, 2)"
   ]
  },
  {
   "cell_type": "markdown",
   "metadata": {},
   "source": [
    "7. Membuat array dengan nilai yang diberi jarak linier dalam interval tertentu,\n",
    "misal 5."
   ]
  },
  {
   "cell_type": "code",
   "execution_count": 54,
   "metadata": {},
   "outputs": [
    {
     "data": {
      "text/plain": [
       "array([ 0. ,  2.5,  5. ,  7.5, 10. ])"
      ]
     },
     "execution_count": 54,
     "metadata": {},
     "output_type": "execute_result"
    }
   ],
   "source": [
    "np.linspace(0, 10, num=5)"
   ]
  },
  {
   "cell_type": "markdown",
   "metadata": {},
   "source": [
    "8. Menentukan tipe data tertentu untuk sebuah array.\n"
   ]
  },
  {
   "cell_type": "code",
   "execution_count": 55,
   "metadata": {},
   "outputs": [
    {
     "data": {
      "text/plain": [
       "array([1., 1.])"
      ]
     },
     "execution_count": 55,
     "metadata": {},
     "output_type": "execute_result"
    }
   ],
   "source": [
    "x = np.ones(2, dtype=np.float64)\n",
    "x"
   ]
  },
  {
   "cell_type": "markdown",
   "metadata": {},
   "source": [
    "9. Mengurutkan elemen array.\n"
   ]
  },
  {
   "cell_type": "code",
   "execution_count": 56,
   "metadata": {},
   "outputs": [
    {
     "data": {
      "text/plain": [
       "array([1, 2, 3, 4, 5, 6, 7, 8])"
      ]
     },
     "execution_count": 56,
     "metadata": {},
     "output_type": "execute_result"
    }
   ],
   "source": [
    "arr = np.array([2,1,5,3,7,4,8,6])\n",
    "np.sort(arr)"
   ]
  },
  {
   "cell_type": "markdown",
   "metadata": {},
   "source": [
    "10. Menggabungkan array satu dimensi.\n"
   ]
  },
  {
   "cell_type": "code",
   "execution_count": 57,
   "metadata": {},
   "outputs": [
    {
     "data": {
      "text/plain": [
       "array([1, 2, 3, 4, 5, 6, 7, 8])"
      ]
     },
     "execution_count": 57,
     "metadata": {},
     "output_type": "execute_result"
    }
   ],
   "source": [
    "a = np.array([1,2,3,4])\n",
    "b = np.array([5,6,7,8])\n",
    "np.concatenate((a, b))"
   ]
  },
  {
   "cell_type": "markdown",
   "metadata": {},
   "source": [
    "11. Menggabungkan array multi dimensi.\n"
   ]
  },
  {
   "cell_type": "code",
   "execution_count": 58,
   "metadata": {},
   "outputs": [],
   "source": [
    "x = np.array([[1,2], [3,4]])\n",
    "y = np.array([[5,6]])\n"
   ]
  },
  {
   "cell_type": "markdown",
   "metadata": {},
   "source": [
    "12. Mengetahui jumlah sumbu (axes) atau dimensi array.\n"
   ]
  },
  {
   "cell_type": "code",
   "execution_count": 59,
   "metadata": {},
   "outputs": [
    {
     "data": {
      "text/plain": [
       "3"
      ]
     },
     "execution_count": 59,
     "metadata": {},
     "output_type": "execute_result"
    }
   ],
   "source": [
    "array_example = np.array([\n",
    "  [[0, 1, 2, 3],\n",
    "   [4, 5, 6, 7]],\n",
    "  [[0, 1, 2, 3],\n",
    "   [4, 5, 6, 7]],\n",
    "  [[0 ,1 ,2, 3],\n",
    "   [4, 5, 6, 7]]\n",
    "])\n",
    "\n",
    "array_example.ndim"
   ]
  },
  {
   "cell_type": "markdown",
   "metadata": {},
   "source": [
    "13. Mengetahui jumlah total elemen array dari soal no 12.\n"
   ]
  },
  {
   "cell_type": "code",
   "execution_count": 60,
   "metadata": {},
   "outputs": [
    {
     "data": {
      "text/plain": [
       "24"
      ]
     },
     "execution_count": 60,
     "metadata": {},
     "output_type": "execute_result"
    }
   ],
   "source": [
    "\n",
    "array_example.size"
   ]
  },
  {
   "cell_type": "markdown",
   "metadata": {},
   "source": [
    "14. Menampilkan tupel bilangan bulat yang menunjukkan jumlah elemen yang\n",
    "disimpan di setiap dimensi array.\n"
   ]
  },
  {
   "cell_type": "code",
   "execution_count": 61,
   "metadata": {},
   "outputs": [
    {
     "name": "stdout",
     "output_type": "stream",
     "text": [
      "[[0 1]\n",
      " [2 3]\n",
      " [4 5]]\n"
     ]
    }
   ],
   "source": [
    "a = np.arange(6)\n",
    "b = a.reshape(3, 2)\n",
    "print(b)"
   ]
  },
  {
   "cell_type": "markdown",
   "metadata": {},
   "source": [
    "15. Membentuk ulang array. Misalnya, dari satu dimensi menjadi dua dimensi\n",
    "(tiga baris dan dua kolom)."
   ]
  },
  {
   "cell_type": "code",
   "execution_count": 62,
   "metadata": {},
   "outputs": [
    {
     "name": "stderr",
     "output_type": "stream",
     "text": [
      "C:\\Users\\ACER\\AppData\\Local\\Temp\\ipykernel_17688\\3067619039.py:1: DeprecationWarning: `newshape` keyword argument is deprecated, use `shape=...` or pass shape positionally instead. (deprecated in NumPy 2.1)\n",
      "  np.reshape(a, newshape=(2, 3), order='C')\n"
     ]
    },
    {
     "data": {
      "text/plain": [
       "array([[0, 1, 2],\n",
       "       [3, 4, 5]])"
      ]
     },
     "execution_count": 62,
     "metadata": {},
     "output_type": "execute_result"
    }
   ],
   "source": [
    "np.reshape(a, newshape=(2, 3), order='C')"
   ]
  },
  {
   "cell_type": "markdown",
   "metadata": {},
   "source": [
    "16. Membalikkan (transpose) atau menubah sumbu array soal no 14.\n"
   ]
  },
  {
   "cell_type": "code",
   "execution_count": 63,
   "metadata": {},
   "outputs": [
    {
     "data": {
      "text/plain": [
       "array([[0, 2, 4],\n",
       "       [1, 3, 5]])"
      ]
     },
     "execution_count": 63,
     "metadata": {},
     "output_type": "execute_result"
    }
   ],
   "source": [
    "b.transpose()"
   ]
  },
  {
   "cell_type": "markdown",
   "metadata": {},
   "source": [
    "17. Membentuk ulang array dengan shape baru lagi.\n"
   ]
  },
  {
   "cell_type": "code",
   "execution_count": 64,
   "metadata": {},
   "outputs": [
    {
     "data": {
      "text/plain": [
       "(6,)"
      ]
     },
     "execution_count": 64,
     "metadata": {},
     "output_type": "execute_result"
    }
   ],
   "source": [
    "a = np.array([1,2,3,4, 5, 6])\n",
    "a.shape"
   ]
  },
  {
   "cell_type": "code",
   "execution_count": 65,
   "metadata": {},
   "outputs": [
    {
     "data": {
      "text/plain": [
       "(1, 6)"
      ]
     },
     "execution_count": 65,
     "metadata": {},
     "output_type": "execute_result"
    }
   ],
   "source": [
    "a2 = a[np.newaxis, :]\n",
    "a2.shape"
   ]
  },
  {
   "cell_type": "markdown",
   "metadata": {},
   "source": [
    "18. Indexing NumPy.\n"
   ]
  },
  {
   "cell_type": "code",
   "execution_count": 66,
   "metadata": {},
   "outputs": [
    {
     "data": {
      "text/plain": [
       "np.int64(2)"
      ]
     },
     "execution_count": 66,
     "metadata": {},
     "output_type": "execute_result"
    }
   ],
   "source": [
    "data = np.array([1,2,3])\n",
    "data[1]"
   ]
  },
  {
   "cell_type": "markdown",
   "metadata": {},
   "source": [
    "19. Menampilkan posisi elemen tertentu dalam sebuah array pada soal no 17. <br/>\n",
    "a. Mengambil elemen dari indeks 0 hingga 1 (indeks 2 tidak termasuk).<br/>\n",
    "b. Mengambil elemen dari indeks 1 hingga akhir.<br/>\n",
    "c. Mengambil dua elemen terakhir.\n"
   ]
  },
  {
   "cell_type": "code",
   "execution_count": 67,
   "metadata": {},
   "outputs": [
    {
     "name": "stdout",
     "output_type": "stream",
     "text": [
      "[1 2]\n"
     ]
    }
   ],
   "source": [
    "a = np.array([1,2,3,4, 5, 6])\n",
    "print(a[0:2])"
   ]
  },
  {
   "cell_type": "code",
   "execution_count": 68,
   "metadata": {},
   "outputs": [
    {
     "name": "stdout",
     "output_type": "stream",
     "text": [
      "[2 3 4 5 6]\n"
     ]
    }
   ],
   "source": [
    "print(a[1:6])"
   ]
  },
  {
   "cell_type": "code",
   "execution_count": 69,
   "metadata": {},
   "outputs": [
    {
     "name": "stdout",
     "output_type": "stream",
     "text": [
      "[5 6]\n"
     ]
    }
   ],
   "source": [
    "print(a[4:6])"
   ]
  },
  {
   "cell_type": "markdown",
   "metadata": {},
   "source": [
    "20. Reverse array 1D dan 2D."
   ]
  },
  {
   "cell_type": "code",
   "execution_count": 70,
   "metadata": {},
   "outputs": [
    {
     "data": {
      "text/plain": [
       "array([8, 7, 6, 5, 4, 3, 2, 1])"
      ]
     },
     "execution_count": 70,
     "metadata": {},
     "output_type": "execute_result"
    }
   ],
   "source": [
    "arr = np.array([1, 2, 3, 4, 5, 6, 7, 8])\n",
    "np.flip(arr)"
   ]
  },
  {
   "cell_type": "code",
   "execution_count": 71,
   "metadata": {},
   "outputs": [
    {
     "data": {
      "text/plain": [
       "array([[12, 11, 10,  9],\n",
       "       [ 8,  7,  6,  5],\n",
       "       [ 4,  3,  2,  1]])"
      ]
     },
     "execution_count": 71,
     "metadata": {},
     "output_type": "execute_result"
    }
   ],
   "source": [
    "arr_2d = np.array([[1, 2, 3, 4], [5, 6, 7, 8], [9, 10, 11, 12]])\n",
    "np.flip(arr_2d)"
   ]
  },
  {
   "cell_type": "markdown",
   "metadata": {},
   "source": [
    "<strong>B. Soal Latihan\n",
    "</strong>"
   ]
  },
  {
   "cell_type": "markdown",
   "metadata": {},
   "source": [
    "21. Buatlah kode reshape python sesuai dengan gambar sbb:\n"
   ]
  },
  {
   "cell_type": "code",
   "execution_count": 72,
   "metadata": {},
   "outputs": [
    {
     "data": {
      "text/plain": [
       "array([[ 2,  3,  4],\n",
       "       [ 5,  6,  7],\n",
       "       [ 8,  9, 10]])"
      ]
     },
     "execution_count": 72,
     "metadata": {},
     "output_type": "execute_result"
    }
   ],
   "source": [
    "arr = np.array([2, 3, 4, 5, 6, 7, 8, 9, 10])\n",
    "np.reshape(arr, (3, 3))"
   ]
  },
  {
   "cell_type": "markdown",
   "metadata": {},
   "source": [
    "22. Buatlah kode concatenate python sesuai dengan gambar sbb:"
   ]
  },
  {
   "cell_type": "code",
   "execution_count": 73,
   "metadata": {},
   "outputs": [
    {
     "name": "stdout",
     "output_type": "stream",
     "text": [
      "[[0 1 3 0 1 3]\n",
      " [5 7 9 5 7 9]]\n"
     ]
    }
   ],
   "source": [
    "array_example_a = np.array([\n",
    "  [0, 1, 3],\n",
    "  [5, 7, 9],\n",
    "])\n",
    "\n",
    "\n",
    "\n",
    "print(np.concatenate((array_example_a, array_example_a), axis=1))"
   ]
  },
  {
   "cell_type": "markdown",
   "metadata": {},
   "source": [
    "23. Buatlah kode python sesuai dengan gambar sbb:"
   ]
  },
  {
   "cell_type": "code",
   "execution_count": 74,
   "metadata": {},
   "outputs": [
    {
     "name": "stdout",
     "output_type": "stream",
     "text": [
      "Array 1 :\n",
      " [[ 5  6  9]\n",
      " [21 18 27]]\n",
      "\n",
      "Array 2 :\n",
      " [[15 33 24]\n",
      " [ 4  7  1]]\n",
      "\n",
      "Array 1 + Array 2 : \n",
      "[[20 39 33]\n",
      " [25 25 28]]\n"
     ]
    }
   ],
   "source": [
    "array_1 = np.array([\n",
    "  [5, 6, 9],\n",
    "  [21, 18, 27],\n",
    "])\n",
    "\n",
    "array_2 = np.array([\n",
    "  [15, 33, 24],\n",
    "  [4, 7, 1],\n",
    "])\n",
    "print(f\"Array 1 :\\n {array_1}\")\n",
    "print(f\"\\nArray 2 :\\n {array_2}\")\n",
    "print(f\"\\nArray 1 + Array 2 : \\n{array_1 + array_2}\")\n",
    "\n",
    "# print(np.concatenate((array_1, array_1), axis=1))"
   ]
  },
  {
   "cell_type": "markdown",
   "metadata": {},
   "source": [
    "24. Buatlah array NumPy dengan elemen dari 10 hingga 30.\n"
   ]
  },
  {
   "cell_type": "code",
   "execution_count": 75,
   "metadata": {},
   "outputs": [
    {
     "name": "stdout",
     "output_type": "stream",
     "text": [
      "[10 11 12 13 14 15 16 17 18 19 20 21 22 23 24 25 26 27 28 29 30]\n"
     ]
    }
   ],
   "source": [
    "arr = np.arange(10, 31)\n",
    "print(arr)"
   ]
  },
  {
   "cell_type": "markdown",
   "metadata": {},
   "source": [
    "25. Buatlah array NumPy dengan elemen dari 0 hingga 30 dengan step size 3.\n"
   ]
  },
  {
   "cell_type": "code",
   "execution_count": 76,
   "metadata": {},
   "outputs": [
    {
     "name": "stdout",
     "output_type": "stream",
     "text": [
      "[ 0  3  6  9 12 15 18 21 24 27 30]\n"
     ]
    }
   ],
   "source": [
    "arr = np.arange(0, 31, step=3)\n",
    "print(arr)"
   ]
  },
  {
   "cell_type": "markdown",
   "metadata": {},
   "source": [
    "26. Buatlah array NumPy yang berisi 5 nilai dengan jarak linier antara 0 dan 1.\n"
   ]
  },
  {
   "cell_type": "code",
   "execution_count": 77,
   "metadata": {},
   "outputs": [
    {
     "name": "stdout",
     "output_type": "stream",
     "text": [
      "[0.   0.25 0.5  0.75 1.  ]\n"
     ]
    }
   ],
   "source": [
    "arr = np.linspace(0, 1, 5)\n",
    "print(arr)"
   ]
  },
  {
   "cell_type": "markdown",
   "metadata": {},
   "source": [
    "27. Buatlah array NumPy dengan elemen integer 16-bit.\n"
   ]
  },
  {
   "cell_type": "code",
   "execution_count": 78,
   "metadata": {},
   "outputs": [
    {
     "name": "stdout",
     "output_type": "stream",
     "text": [
      "int16\n",
      "[1 2 3 4 5]\n"
     ]
    }
   ],
   "source": [
    "arr = np.array([1, 2, 3, 4, 5], dtype=np.int16)\n",
    "print(arr.dtype)\n",
    "print(arr)"
   ]
  },
  {
   "cell_type": "markdown",
   "metadata": {},
   "source": [
    "28. Buatlah array NumPy acak dengan panjang 6, lalu urutkan elemennya.\n"
   ]
  },
  {
   "cell_type": "code",
   "execution_count": 79,
   "metadata": {},
   "outputs": [
    {
     "name": "stdout",
     "output_type": "stream",
     "text": [
      "Array acak: [41 80 30 39 77 35]\n",
      "Array setelah diurutkan: [30 35 39 41 77 80]\n"
     ]
    }
   ],
   "source": [
    "arr = np.random.randint(1, 100, 6) \n",
    "sorting = np.sort(arr)\n",
    "print(\"Array acak:\", arr)\n",
    "print(\"Array setelah diurutkan:\", sorting)"
   ]
  },
  {
   "cell_type": "markdown",
   "metadata": {},
   "source": [
    "29. Gabungkan dua array NumPy satu dimensi [7, 8, 9] dan [10, 11, 12].\n"
   ]
  },
  {
   "cell_type": "code",
   "execution_count": 80,
   "metadata": {},
   "outputs": [
    {
     "name": "stdout",
     "output_type": "stream",
     "text": [
      "[ 7  8  9 10 11 12]\n"
     ]
    }
   ],
   "source": [
    "arr1 = np.array([7, 8, 9])\n",
    "arr2 = np.array([10, 11, 12])\n",
    "\n",
    "gabung = np.concatenate((arr1, arr2))\n",
    "print(gabung)"
   ]
  },
  {
   "cell_type": "markdown",
   "metadata": {},
   "source": [
    "30. Gabungkan dua array NumPy dua dimensi (misalnya, 2x3 dan 2x5) secara\n",
    "horizontal.\n"
   ]
  },
  {
   "cell_type": "code",
   "execution_count": 81,
   "metadata": {},
   "outputs": [
    {
     "name": "stdout",
     "output_type": "stream",
     "text": [
      "Array pertama:\n",
      " [[4 8 4]\n",
      " [9 2 1]]\n",
      "Array kedua:\n",
      " [[6 8 9 4 8]\n",
      " [8 7 2 1 1]]\n",
      "Array gabungan secara horizontal:\n",
      " [[4 8 4 6 8 9 4 8]\n",
      " [9 2 1 8 7 2 1 1]]\n"
     ]
    }
   ],
   "source": [
    "arrA = np.array([[4, 8, 4], [9, 2, 1]])\n",
    "arrB = np.array([[6, 8, 9, 4, 8], [8, 7, 2, 1, 1]]) \n",
    "\n",
    "merged_2d = np.concatenate((arrA, arrB), axis=1)\n",
    "print(\"Array pertama:\\n\", arrA)\n",
    "print(\"Array kedua:\\n\", arrB)\n",
    "print(\"Array gabungan secara horizontal:\\n\", merged_2d)"
   ]
  },
  {
   "cell_type": "markdown",
   "metadata": {},
   "source": [
    "31. Tentukan jumlah dimensi dari array NumPy yang berisi nilai acak.\n"
   ]
  },
  {
   "cell_type": "code",
   "execution_count": 82,
   "metadata": {},
   "outputs": [
    {
     "name": "stdout",
     "output_type": "stream",
     "text": [
      "[[[9.23886849e-01 4.82964290e-01]\n",
      "  [2.74560334e-01 7.17878687e-01]\n",
      "  [9.46166481e-01 5.06034349e-01]\n",
      "  [7.75113035e-01 5.02780353e-01]]\n",
      "\n",
      " [[5.11915742e-01 7.12805479e-01]\n",
      "  [3.82419954e-01 6.85057886e-01]\n",
      "  [7.88377901e-01 2.18813906e-01]\n",
      "  [5.14606618e-01 4.71876154e-01]]\n",
      "\n",
      " [[3.20769911e-01 8.04071891e-01]\n",
      "  [9.10845360e-01 3.46907324e-01]\n",
      "  [7.71834383e-01 3.63655536e-04]\n",
      "  [1.41561475e-01 6.33445337e-02]]]\n",
      "Jumlah dimensi: 3\n"
     ]
    }
   ],
   "source": [
    "arr = np.random.rand(3, 4, 2) \n",
    "print(arr)\n",
    "print(\"Jumlah dimensi:\", arr.ndim)"
   ]
  },
  {
   "cell_type": "markdown",
   "metadata": {},
   "source": [
    "32. Tentukan jumlah total elemen dari array NumPy yang berisi nilai acak.\n"
   ]
  },
  {
   "cell_type": "code",
   "execution_count": 83,
   "metadata": {},
   "outputs": [
    {
     "name": "stdout",
     "output_type": "stream",
     "text": [
      "Jumlah total elemen: 24\n"
     ]
    }
   ],
   "source": [
    "print(\"Jumlah total elemen:\", arr.size)"
   ]
  },
  {
   "cell_type": "markdown",
   "metadata": {},
   "source": [
    "33. Tampilkan tupel bilangan bulat yang menunjukkan bentuk (shape) dari array\n",
    "NumPy yang berisi nilai acak."
   ]
  },
  {
   "cell_type": "code",
   "execution_count": 84,
   "metadata": {},
   "outputs": [
    {
     "name": "stdout",
     "output_type": "stream",
     "text": [
      "Shape dari array: (3, 4, 2)\n"
     ]
    }
   ],
   "source": [
    "print(\"Shape dari array:\", arr.shape)"
   ]
  },
  {
   "cell_type": "markdown",
   "metadata": {},
   "source": [
    "34. Ubahlah array NumPy satu dimensi [1, 2, 3, 4, 5, 6, 7, 8] menjadi matriks dua\n",
    "dimensi (4 baris dan 2 kolom).\n"
   ]
  },
  {
   "cell_type": "code",
   "execution_count": 85,
   "metadata": {},
   "outputs": [
    {
     "name": "stdout",
     "output_type": "stream",
     "text": [
      "[[1 2 3 4]\n",
      " [5 6 7 8]]\n"
     ]
    }
   ],
   "source": [
    "satu = np.array([1, 2, 3, 4, 5, 6, 7, 8])\n",
    "dua = satu.reshape(2, 4)\n",
    "print(dua)"
   ]
  },
  {
   "cell_type": "markdown",
   "metadata": {},
   "source": [
    "35. Ubahlah bentuk array NumPy yang berisi nilai acak menjadi matriks baru\n",
    "dengan ukuran 2x4.\n"
   ]
  },
  {
   "cell_type": "code",
   "execution_count": 86,
   "metadata": {},
   "outputs": [
    {
     "name": "stdout",
     "output_type": "stream",
     "text": [
      "[58 97 21 22  2 74  6 87]\n",
      "[[58 97 21 22]\n",
      " [ 2 74  6 87]]\n"
     ]
    }
   ],
   "source": [
    "acak = np.random.randint(1, 100, 8)\n",
    "print(acak)\n",
    "matriks = acak.reshape((2, 4))\n",
    "print(matriks)"
   ]
  },
  {
   "cell_type": "markdown",
   "metadata": {},
   "source": [
    "36. Dengan array NumPy yang berisi nilai acak dari 0 hingga 9, akses nilai pada\n",
    "indeks ke-3.\n"
   ]
  },
  {
   "cell_type": "code",
   "execution_count": 87,
   "metadata": {},
   "outputs": [
    {
     "name": "stdout",
     "output_type": "stream",
     "text": [
      "Array acak: [1 4 7 4 8 8 0 8 8 4]\n",
      "Nilai pada indeks ke-3: 4\n"
     ]
    }
   ],
   "source": [
    "acak = np.random.randint(0, 10, 10)\n",
    "print(\"Array acak:\", acak)\n",
    "\n",
    "indeks_ke_3 = acak[3]\n",
    "print(\"Nilai pada indeks ke-3:\", indeks_ke_3)"
   ]
  },
  {
   "cell_type": "markdown",
   "metadata": {},
   "source": [
    "37. Dengan array NumPy yang berisi nilai acak dari 0 hingga 9, temukan posisi\n",
    "(indeks) dari nilai 7.\n"
   ]
  },
  {
   "cell_type": "code",
   "execution_count": 88,
   "metadata": {},
   "outputs": [
    {
     "name": "stdout",
     "output_type": "stream",
     "text": [
      "Array acak: [1 1 4 3 6 7 5 8 2 5]\n",
      "Indeks elemen dengan nilai 7: (array([5]),)\n"
     ]
    }
   ],
   "source": [
    "acak = np.random.randint(0, 10, 10)\n",
    "print(\"Array acak:\", acak)\n",
    "\n",
    "temukan = np.where(acak == 7)\n",
    "print(\"Indeks elemen dengan nilai 7:\", temukan)"
   ]
  },
  {
   "cell_type": "markdown",
   "metadata": {},
   "source": [
    "38. Reverse array NumPy satu dimensi [1, 2, 3, 4, 5, 6].\n"
   ]
  },
  {
   "cell_type": "code",
   "execution_count": 89,
   "metadata": {},
   "outputs": [
    {
     "name": "stdout",
     "output_type": "stream",
     "text": [
      "[1 2 3 4 5 6]\n",
      "[6 5 4 3 2 1]\n"
     ]
    }
   ],
   "source": [
    "array = np.array([1, 2, 3, 4, 5, 6])\n",
    "print(array)\n",
    "putar = np.flip(array)\n",
    "print(putar)"
   ]
  },
  {
   "cell_type": "markdown",
   "metadata": {},
   "source": [
    "39. Reverse baris dari array NumPy dua dimensi [[1, 2], [3, 4], [5, 6]]."
   ]
  },
  {
   "cell_type": "code",
   "execution_count": 90,
   "metadata": {},
   "outputs": [
    {
     "name": "stdout",
     "output_type": "stream",
     "text": [
      "[[1 2]\n",
      " [3 4]\n",
      " [5 6]]\n",
      "[[5 6]\n",
      " [3 4]\n",
      " [1 2]]\n"
     ]
    }
   ],
   "source": [
    "array = np.array([[1, 2], [3, 4], [5, 6]])\n",
    "print(array)\n",
    "balik = np.flip(array, axis=0)\n",
    "print(balik)"
   ]
  },
  {
   "cell_type": "markdown",
   "metadata": {},
   "source": [
    "40. Buatlah kode python dari array pada gambar sbb:"
   ]
  },
  {
   "cell_type": "code",
   "execution_count": 91,
   "metadata": {},
   "outputs": [
    {
     "name": "stdout",
     "output_type": "stream",
     "text": [
      "Array dari baris ganjil dan kolom genap:\n",
      "[[ 6 12]\n",
      " [18 24]\n",
      " [30 36]\n",
      " [42 48]\n",
      " [54 60]]\n"
     ]
    }
   ],
   "source": [
    "arr = np.array([\n",
    "    [3, 6, 9, 12],\n",
    "    [15, 18, 21, 24],\n",
    "    [27, 30, 33, 36],\n",
    "    [39, 42, 45, 48],\n",
    "    [51, 54, 57, 60]\n",
    "])\n",
    "\n",
    "result = np.take(arr, indices=[1, 3], axis=1) \n",
    "\n",
    "print(\"Array dari baris ganjil dan kolom genap:\")\n",
    "print(result)"
   ]
  },
  {
   "cell_type": "markdown",
   "metadata": {},
   "source": [
    "<strong>C. Soal Bersambung\n",
    "</strong>"
   ]
  },
  {
   "cell_type": "markdown",
   "metadata": {},
   "source": [
    "41. Buatlah array dua dimensi dari gambar sbb:\n"
   ]
  },
  {
   "cell_type": "code",
   "execution_count": 92,
   "metadata": {},
   "outputs": [
    {
     "name": "stdout",
     "output_type": "stream",
     "text": [
      "[[1 2 3]\n",
      " [4 5 6]\n",
      " [7 8 9]]\n"
     ]
    }
   ],
   "source": [
    "\n",
    "arr = np.array([\n",
    "    [1, 2, 3],\n",
    "    [4, 5, 6],\n",
    "    [7, 8, 9]\n",
    "])\n",
    "\n",
    "print(arr)"
   ]
  },
  {
   "cell_type": "markdown",
   "metadata": {},
   "source": [
    "42. Akses dan tampilkan elemen pada baris kedua dan kolom kedua.\n"
   ]
  },
  {
   "cell_type": "code",
   "execution_count": 93,
   "metadata": {},
   "outputs": [
    {
     "name": "stdout",
     "output_type": "stream",
     "text": [
      "Elemen pada baris kedua dan kolom kedua: 5\n"
     ]
    }
   ],
   "source": [
    "elemen_2_2 = arr[1, 1]  \n",
    "print(\"Elemen pada baris kedua dan kolom kedua:\", elemen_2_2)"
   ]
  },
  {
   "cell_type": "markdown",
   "metadata": {},
   "source": [
    "43. Ambil subset dari array dua dimensi tersebut yang terdiri dari dua baris pertama dan\n",
    "dua kolom pertama.\n"
   ]
  },
  {
   "cell_type": "code",
   "execution_count": 94,
   "metadata": {},
   "outputs": [
    {
     "name": "stdout",
     "output_type": "stream",
     "text": [
      "Subset dua baris pertama dan dua kolom pertama:\n",
      " [[1 2]\n",
      " [4 5]]\n"
     ]
    }
   ],
   "source": [
    "subset = arr[:2, :2]\n",
    "print(\"Subset dua baris pertama dan dua kolom pertama:\\n\", subset)\n"
   ]
  },
  {
   "cell_type": "markdown",
   "metadata": {},
   "source": [
    "44. Ubah nilai elemen pada baris ketiga dan kolom ketiga dalam array menjadi 100.\n"
   ]
  },
  {
   "cell_type": "code",
   "execution_count": 95,
   "metadata": {},
   "outputs": [
    {
     "name": "stdout",
     "output_type": "stream",
     "text": [
      "Array setelah mengubah elemen (3,3) menjadi 100:\n",
      " [[  1   2   3]\n",
      " [  4   5   6]\n",
      " [  7   8 100]]\n"
     ]
    }
   ],
   "source": [
    "arr[2, 2] = 100\n",
    "print(\"Array setelah mengubah elemen (3,3) menjadi 100:\\n\", arr)"
   ]
  },
  {
   "cell_type": "markdown",
   "metadata": {},
   "source": [
    "45. Konversi elemen menjadi float."
   ]
  },
  {
   "cell_type": "code",
   "execution_count": 96,
   "metadata": {},
   "outputs": [
    {
     "name": "stdout",
     "output_type": "stream",
     "text": [
      "Array setelah dikonversi menjadi float:\n",
      " [[  1.   2.   3.]\n",
      " [  4.   5.   6.]\n",
      " [  7.   8. 100.]]\n"
     ]
    }
   ],
   "source": [
    "arr_float = arr.astype(np.float64)\n",
    "print(\"Array setelah dikonversi menjadi float:\\n\", arr_float)"
   ]
  }
 ],
 "metadata": {
  "kernelspec": {
   "display_name": "Python 3",
   "language": "python",
   "name": "python3"
  },
  "language_info": {
   "codemirror_mode": {
    "name": "ipython",
    "version": 3
   },
   "file_extension": ".py",
   "mimetype": "text/x-python",
   "name": "python",
   "nbconvert_exporter": "python",
   "pygments_lexer": "ipython3",
   "version": "3.12.6"
  }
 },
 "nbformat": 4,
 "nbformat_minor": 2
}
